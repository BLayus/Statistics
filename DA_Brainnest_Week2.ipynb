{
  "nbformat": 4,
  "nbformat_minor": 0,
  "metadata": {
    "colab": {
      "provenance": [],
      "collapsed_sections": [
        "IbH3OyiYGW8p"
      ],
      "authorship_tag": "ABX9TyMf6oajGGjEodIn8QEdIQsR",
      "include_colab_link": true
    },
    "kernelspec": {
      "name": "python3",
      "display_name": "Python 3"
    },
    "language_info": {
      "name": "python"
    }
  },
  "cells": [
    {
      "cell_type": "markdown",
      "metadata": {
        "id": "view-in-github",
        "colab_type": "text"
      },
      "source": [
        "<a href=\"https://colab.research.google.com/github/BLayus/Statistics/blob/main/DA_Brainnest_Week2.ipynb\" target=\"_parent\"><img src=\"https://colab.research.google.com/assets/colab-badge.svg\" alt=\"Open In Colab\"/></a>"
      ]
    },
    {
      "cell_type": "code",
      "execution_count": null,
      "metadata": {
        "colab": {
          "base_uri": "https://localhost:8080/"
        },
        "id": "_p7wcjXhcBnz",
        "outputId": "28accb5a-54eb-4816-8519-5e38aa2f1ee5"
      },
      "outputs": [
        {
          "output_type": "stream",
          "name": "stdout",
          "text": [
            "Looking in indexes: https://pypi.org/simple, https://us-python.pkg.dev/colab-wheels/public/simple/\n",
            "Requirement already satisfied: pyreadstat in /usr/local/lib/python3.8/dist-packages (1.2.0)\n",
            "Requirement already satisfied: pandas>=1.2.0 in /usr/local/lib/python3.8/dist-packages (from pyreadstat) (1.3.5)\n",
            "Requirement already satisfied: numpy>=1.17.3 in /usr/local/lib/python3.8/dist-packages (from pandas>=1.2.0->pyreadstat) (1.21.6)\n",
            "Requirement already satisfied: python-dateutil>=2.7.3 in /usr/local/lib/python3.8/dist-packages (from pandas>=1.2.0->pyreadstat) (2.8.2)\n",
            "Requirement already satisfied: pytz>=2017.3 in /usr/local/lib/python3.8/dist-packages (from pandas>=1.2.0->pyreadstat) (2022.6)\n",
            "Requirement already satisfied: six>=1.5 in /usr/local/lib/python3.8/dist-packages (from python-dateutil>=2.7.3->pandas>=1.2.0->pyreadstat) (1.15.0)\n"
          ]
        }
      ],
      "source": [
        "# Import libraries\n",
        "\n",
        "!pip install pyreadstat\n",
        "\n",
        "import pyreadstat\n",
        "\n",
        "import pandas as pd\n",
        "import numpy as np\n",
        "\n",
        "import matplotlib.pyplot as plt\n",
        "import seaborn as sns\n",
        "\n",
        "from scipy import stats\n",
        "from scipy.stats import shapiro\n",
        "import scipy.stats\n"
      ]
    },
    {
      "cell_type": "code",
      "source": [
        "# Open the dataset on google drive mount\n",
        "\n",
        "from google.colab import drive\n",
        "drive.mount('/content/drive')\n",
        "df = pd.read_spss('/content/drive/MyDrive/DA Brainest/Week 1/Datasets/Birthweight_reduced_kg_SPSS.sav')"
      ],
      "metadata": {
        "colab": {
          "base_uri": "https://localhost:8080/"
        },
        "id": "KCVX7i0kcZMn",
        "outputId": "6988bdf7-08cd-4a5d-9d70-2fedccd2e11f"
      },
      "execution_count": null,
      "outputs": [
        {
          "output_type": "stream",
          "name": "stdout",
          "text": [
            "Drive already mounted at /content/drive; to attempt to forcibly remount, call drive.mount(\"/content/drive\", force_remount=True).\n"
          ]
        }
      ]
    },
    {
      "cell_type": "code",
      "source": [
        "# Take a first look at the dataset\n",
        "\n",
        "display(df.head(5))\n",
        "display(df.tail(5))"
      ],
      "metadata": {
        "colab": {
          "base_uri": "https://localhost:8080/",
          "height": 395
        },
        "id": "rFmF-qVOeeT8",
        "outputId": "c965000a-6ecb-42f8-9470-3672e026d16a"
      },
      "execution_count": null,
      "outputs": [
        {
          "output_type": "display_data",
          "data": {
            "text/plain": [
              "       ID  Headcirc  Length  Birthweight  Gestation  mage      smoker  \\\n",
              "0  1360.0      34.0    56.0         4.55       44.0  20.0  Non-smoker   \n",
              "1  1016.0      36.0    53.0         4.32       40.0  19.0  Non-smoker   \n",
              "2   462.0      39.0    58.0         4.10       41.0  35.0  Non-smoker   \n",
              "3  1187.0      38.0    53.0         4.07       44.0  20.0  Non-smoker   \n",
              "4   553.0      37.0    54.0         3.94       42.0  24.0  Non-smoker   \n",
              "\n",
              "   mheight  mppwt  fage  fedyrs  fnocig  fheight               lowbwt  \\\n",
              "0    162.0   57.0  23.0    10.0    35.0    179.0  Not low birthweight   \n",
              "1    171.0   62.0  19.0    12.0     0.0    183.0  Not low birthweight   \n",
              "2    172.0   58.0  31.0    16.0    25.0    185.0  Not low birthweight   \n",
              "3    174.0   68.0  26.0    14.0    25.0    189.0  Not low birthweight   \n",
              "4    175.0   66.0  30.0    12.0     0.0    184.0  Not low birthweight   \n",
              "\n",
              "      mage35  mnocig  \n",
              "0  Aged < 35     0.0  \n",
              "1  Aged < 35     0.0  \n",
              "2   Aged 35+     0.0  \n",
              "3  Aged < 35     0.0  \n",
              "4  Aged < 35     0.0  "
            ],
            "text/html": [
              "\n",
              "  <div id=\"df-9d3caf4b-8bbb-4cef-a0b6-0fafbb2e9ec2\">\n",
              "    <div class=\"colab-df-container\">\n",
              "      <div>\n",
              "<style scoped>\n",
              "    .dataframe tbody tr th:only-of-type {\n",
              "        vertical-align: middle;\n",
              "    }\n",
              "\n",
              "    .dataframe tbody tr th {\n",
              "        vertical-align: top;\n",
              "    }\n",
              "\n",
              "    .dataframe thead th {\n",
              "        text-align: right;\n",
              "    }\n",
              "</style>\n",
              "<table border=\"1\" class=\"dataframe\">\n",
              "  <thead>\n",
              "    <tr style=\"text-align: right;\">\n",
              "      <th></th>\n",
              "      <th>ID</th>\n",
              "      <th>Headcirc</th>\n",
              "      <th>Length</th>\n",
              "      <th>Birthweight</th>\n",
              "      <th>Gestation</th>\n",
              "      <th>mage</th>\n",
              "      <th>smoker</th>\n",
              "      <th>mheight</th>\n",
              "      <th>mppwt</th>\n",
              "      <th>fage</th>\n",
              "      <th>fedyrs</th>\n",
              "      <th>fnocig</th>\n",
              "      <th>fheight</th>\n",
              "      <th>lowbwt</th>\n",
              "      <th>mage35</th>\n",
              "      <th>mnocig</th>\n",
              "    </tr>\n",
              "  </thead>\n",
              "  <tbody>\n",
              "    <tr>\n",
              "      <th>0</th>\n",
              "      <td>1360.0</td>\n",
              "      <td>34.0</td>\n",
              "      <td>56.0</td>\n",
              "      <td>4.55</td>\n",
              "      <td>44.0</td>\n",
              "      <td>20.0</td>\n",
              "      <td>Non-smoker</td>\n",
              "      <td>162.0</td>\n",
              "      <td>57.0</td>\n",
              "      <td>23.0</td>\n",
              "      <td>10.0</td>\n",
              "      <td>35.0</td>\n",
              "      <td>179.0</td>\n",
              "      <td>Not low birthweight</td>\n",
              "      <td>Aged &lt; 35</td>\n",
              "      <td>0.0</td>\n",
              "    </tr>\n",
              "    <tr>\n",
              "      <th>1</th>\n",
              "      <td>1016.0</td>\n",
              "      <td>36.0</td>\n",
              "      <td>53.0</td>\n",
              "      <td>4.32</td>\n",
              "      <td>40.0</td>\n",
              "      <td>19.0</td>\n",
              "      <td>Non-smoker</td>\n",
              "      <td>171.0</td>\n",
              "      <td>62.0</td>\n",
              "      <td>19.0</td>\n",
              "      <td>12.0</td>\n",
              "      <td>0.0</td>\n",
              "      <td>183.0</td>\n",
              "      <td>Not low birthweight</td>\n",
              "      <td>Aged &lt; 35</td>\n",
              "      <td>0.0</td>\n",
              "    </tr>\n",
              "    <tr>\n",
              "      <th>2</th>\n",
              "      <td>462.0</td>\n",
              "      <td>39.0</td>\n",
              "      <td>58.0</td>\n",
              "      <td>4.10</td>\n",
              "      <td>41.0</td>\n",
              "      <td>35.0</td>\n",
              "      <td>Non-smoker</td>\n",
              "      <td>172.0</td>\n",
              "      <td>58.0</td>\n",
              "      <td>31.0</td>\n",
              "      <td>16.0</td>\n",
              "      <td>25.0</td>\n",
              "      <td>185.0</td>\n",
              "      <td>Not low birthweight</td>\n",
              "      <td>Aged 35+</td>\n",
              "      <td>0.0</td>\n",
              "    </tr>\n",
              "    <tr>\n",
              "      <th>3</th>\n",
              "      <td>1187.0</td>\n",
              "      <td>38.0</td>\n",
              "      <td>53.0</td>\n",
              "      <td>4.07</td>\n",
              "      <td>44.0</td>\n",
              "      <td>20.0</td>\n",
              "      <td>Non-smoker</td>\n",
              "      <td>174.0</td>\n",
              "      <td>68.0</td>\n",
              "      <td>26.0</td>\n",
              "      <td>14.0</td>\n",
              "      <td>25.0</td>\n",
              "      <td>189.0</td>\n",
              "      <td>Not low birthweight</td>\n",
              "      <td>Aged &lt; 35</td>\n",
              "      <td>0.0</td>\n",
              "    </tr>\n",
              "    <tr>\n",
              "      <th>4</th>\n",
              "      <td>553.0</td>\n",
              "      <td>37.0</td>\n",
              "      <td>54.0</td>\n",
              "      <td>3.94</td>\n",
              "      <td>42.0</td>\n",
              "      <td>24.0</td>\n",
              "      <td>Non-smoker</td>\n",
              "      <td>175.0</td>\n",
              "      <td>66.0</td>\n",
              "      <td>30.0</td>\n",
              "      <td>12.0</td>\n",
              "      <td>0.0</td>\n",
              "      <td>184.0</td>\n",
              "      <td>Not low birthweight</td>\n",
              "      <td>Aged &lt; 35</td>\n",
              "      <td>0.0</td>\n",
              "    </tr>\n",
              "  </tbody>\n",
              "</table>\n",
              "</div>\n",
              "      <button class=\"colab-df-convert\" onclick=\"convertToInteractive('df-9d3caf4b-8bbb-4cef-a0b6-0fafbb2e9ec2')\"\n",
              "              title=\"Convert this dataframe to an interactive table.\"\n",
              "              style=\"display:none;\">\n",
              "        \n",
              "  <svg xmlns=\"http://www.w3.org/2000/svg\" height=\"24px\"viewBox=\"0 0 24 24\"\n",
              "       width=\"24px\">\n",
              "    <path d=\"M0 0h24v24H0V0z\" fill=\"none\"/>\n",
              "    <path d=\"M18.56 5.44l.94 2.06.94-2.06 2.06-.94-2.06-.94-.94-2.06-.94 2.06-2.06.94zm-11 1L8.5 8.5l.94-2.06 2.06-.94-2.06-.94L8.5 2.5l-.94 2.06-2.06.94zm10 10l.94 2.06.94-2.06 2.06-.94-2.06-.94-.94-2.06-.94 2.06-2.06.94z\"/><path d=\"M17.41 7.96l-1.37-1.37c-.4-.4-.92-.59-1.43-.59-.52 0-1.04.2-1.43.59L10.3 9.45l-7.72 7.72c-.78.78-.78 2.05 0 2.83L4 21.41c.39.39.9.59 1.41.59.51 0 1.02-.2 1.41-.59l7.78-7.78 2.81-2.81c.8-.78.8-2.07 0-2.86zM5.41 20L4 18.59l7.72-7.72 1.47 1.35L5.41 20z\"/>\n",
              "  </svg>\n",
              "      </button>\n",
              "      \n",
              "  <style>\n",
              "    .colab-df-container {\n",
              "      display:flex;\n",
              "      flex-wrap:wrap;\n",
              "      gap: 12px;\n",
              "    }\n",
              "\n",
              "    .colab-df-convert {\n",
              "      background-color: #E8F0FE;\n",
              "      border: none;\n",
              "      border-radius: 50%;\n",
              "      cursor: pointer;\n",
              "      display: none;\n",
              "      fill: #1967D2;\n",
              "      height: 32px;\n",
              "      padding: 0 0 0 0;\n",
              "      width: 32px;\n",
              "    }\n",
              "\n",
              "    .colab-df-convert:hover {\n",
              "      background-color: #E2EBFA;\n",
              "      box-shadow: 0px 1px 2px rgba(60, 64, 67, 0.3), 0px 1px 3px 1px rgba(60, 64, 67, 0.15);\n",
              "      fill: #174EA6;\n",
              "    }\n",
              "\n",
              "    [theme=dark] .colab-df-convert {\n",
              "      background-color: #3B4455;\n",
              "      fill: #D2E3FC;\n",
              "    }\n",
              "\n",
              "    [theme=dark] .colab-df-convert:hover {\n",
              "      background-color: #434B5C;\n",
              "      box-shadow: 0px 1px 3px 1px rgba(0, 0, 0, 0.15);\n",
              "      filter: drop-shadow(0px 1px 2px rgba(0, 0, 0, 0.3));\n",
              "      fill: #FFFFFF;\n",
              "    }\n",
              "  </style>\n",
              "\n",
              "      <script>\n",
              "        const buttonEl =\n",
              "          document.querySelector('#df-9d3caf4b-8bbb-4cef-a0b6-0fafbb2e9ec2 button.colab-df-convert');\n",
              "        buttonEl.style.display =\n",
              "          google.colab.kernel.accessAllowed ? 'block' : 'none';\n",
              "\n",
              "        async function convertToInteractive(key) {\n",
              "          const element = document.querySelector('#df-9d3caf4b-8bbb-4cef-a0b6-0fafbb2e9ec2');\n",
              "          const dataTable =\n",
              "            await google.colab.kernel.invokeFunction('convertToInteractive',\n",
              "                                                     [key], {});\n",
              "          if (!dataTable) return;\n",
              "\n",
              "          const docLinkHtml = 'Like what you see? Visit the ' +\n",
              "            '<a target=\"_blank\" href=https://colab.research.google.com/notebooks/data_table.ipynb>data table notebook</a>'\n",
              "            + ' to learn more about interactive tables.';\n",
              "          element.innerHTML = '';\n",
              "          dataTable['output_type'] = 'display_data';\n",
              "          await google.colab.output.renderOutput(dataTable, element);\n",
              "          const docLink = document.createElement('div');\n",
              "          docLink.innerHTML = docLinkHtml;\n",
              "          element.appendChild(docLink);\n",
              "        }\n",
              "      </script>\n",
              "    </div>\n",
              "  </div>\n",
              "  "
            ]
          },
          "metadata": {}
        },
        {
          "output_type": "display_data",
          "data": {
            "text/plain": [
              "        ID  Headcirc  Length  Birthweight  Gestation  mage  smoker  mheight  \\\n",
              "37   619.0      33.0    52.0         3.41       39.0  23.0  Smoker    181.0   \n",
              "38  1369.0      34.0    49.0         3.18       38.0  31.0  Smoker    162.0   \n",
              "39  1262.0      34.0    53.0         3.19       41.0  27.0  Smoker    163.0   \n",
              "40   516.0      33.0    47.0         2.66       35.0  20.0  Smoker    170.0   \n",
              "41  1272.0      32.0    53.0         2.75       40.0  37.0  Smoker    168.0   \n",
              "\n",
              "    mppwt  fage  fedyrs  fnocig  fheight               lowbwt     mage35  \\\n",
              "37   69.0  23.0    16.0     2.0    181.0  Not low birthweight  Aged < 35   \n",
              "38   57.0  32.0    16.0    50.0    194.0  Not low birthweight  Aged < 35   \n",
              "39   51.0  31.0    16.0    25.0    185.0  Not low birthweight  Aged < 35   \n",
              "40   57.0  23.0    12.0    50.0    186.0      Low birthweight  Aged < 35   \n",
              "41   61.0  31.0    16.0     0.0    173.0  Not low birthweight   Aged 35+   \n",
              "\n",
              "    mnocig  \n",
              "37    25.0  \n",
              "38    25.0  \n",
              "39    35.0  \n",
              "40    35.0  \n",
              "41    50.0  "
            ],
            "text/html": [
              "\n",
              "  <div id=\"df-6e549a0f-fe1a-49c5-bdbb-e289d96aad6a\">\n",
              "    <div class=\"colab-df-container\">\n",
              "      <div>\n",
              "<style scoped>\n",
              "    .dataframe tbody tr th:only-of-type {\n",
              "        vertical-align: middle;\n",
              "    }\n",
              "\n",
              "    .dataframe tbody tr th {\n",
              "        vertical-align: top;\n",
              "    }\n",
              "\n",
              "    .dataframe thead th {\n",
              "        text-align: right;\n",
              "    }\n",
              "</style>\n",
              "<table border=\"1\" class=\"dataframe\">\n",
              "  <thead>\n",
              "    <tr style=\"text-align: right;\">\n",
              "      <th></th>\n",
              "      <th>ID</th>\n",
              "      <th>Headcirc</th>\n",
              "      <th>Length</th>\n",
              "      <th>Birthweight</th>\n",
              "      <th>Gestation</th>\n",
              "      <th>mage</th>\n",
              "      <th>smoker</th>\n",
              "      <th>mheight</th>\n",
              "      <th>mppwt</th>\n",
              "      <th>fage</th>\n",
              "      <th>fedyrs</th>\n",
              "      <th>fnocig</th>\n",
              "      <th>fheight</th>\n",
              "      <th>lowbwt</th>\n",
              "      <th>mage35</th>\n",
              "      <th>mnocig</th>\n",
              "    </tr>\n",
              "  </thead>\n",
              "  <tbody>\n",
              "    <tr>\n",
              "      <th>37</th>\n",
              "      <td>619.0</td>\n",
              "      <td>33.0</td>\n",
              "      <td>52.0</td>\n",
              "      <td>3.41</td>\n",
              "      <td>39.0</td>\n",
              "      <td>23.0</td>\n",
              "      <td>Smoker</td>\n",
              "      <td>181.0</td>\n",
              "      <td>69.0</td>\n",
              "      <td>23.0</td>\n",
              "      <td>16.0</td>\n",
              "      <td>2.0</td>\n",
              "      <td>181.0</td>\n",
              "      <td>Not low birthweight</td>\n",
              "      <td>Aged &lt; 35</td>\n",
              "      <td>25.0</td>\n",
              "    </tr>\n",
              "    <tr>\n",
              "      <th>38</th>\n",
              "      <td>1369.0</td>\n",
              "      <td>34.0</td>\n",
              "      <td>49.0</td>\n",
              "      <td>3.18</td>\n",
              "      <td>38.0</td>\n",
              "      <td>31.0</td>\n",
              "      <td>Smoker</td>\n",
              "      <td>162.0</td>\n",
              "      <td>57.0</td>\n",
              "      <td>32.0</td>\n",
              "      <td>16.0</td>\n",
              "      <td>50.0</td>\n",
              "      <td>194.0</td>\n",
              "      <td>Not low birthweight</td>\n",
              "      <td>Aged &lt; 35</td>\n",
              "      <td>25.0</td>\n",
              "    </tr>\n",
              "    <tr>\n",
              "      <th>39</th>\n",
              "      <td>1262.0</td>\n",
              "      <td>34.0</td>\n",
              "      <td>53.0</td>\n",
              "      <td>3.19</td>\n",
              "      <td>41.0</td>\n",
              "      <td>27.0</td>\n",
              "      <td>Smoker</td>\n",
              "      <td>163.0</td>\n",
              "      <td>51.0</td>\n",
              "      <td>31.0</td>\n",
              "      <td>16.0</td>\n",
              "      <td>25.0</td>\n",
              "      <td>185.0</td>\n",
              "      <td>Not low birthweight</td>\n",
              "      <td>Aged &lt; 35</td>\n",
              "      <td>35.0</td>\n",
              "    </tr>\n",
              "    <tr>\n",
              "      <th>40</th>\n",
              "      <td>516.0</td>\n",
              "      <td>33.0</td>\n",
              "      <td>47.0</td>\n",
              "      <td>2.66</td>\n",
              "      <td>35.0</td>\n",
              "      <td>20.0</td>\n",
              "      <td>Smoker</td>\n",
              "      <td>170.0</td>\n",
              "      <td>57.0</td>\n",
              "      <td>23.0</td>\n",
              "      <td>12.0</td>\n",
              "      <td>50.0</td>\n",
              "      <td>186.0</td>\n",
              "      <td>Low birthweight</td>\n",
              "      <td>Aged &lt; 35</td>\n",
              "      <td>35.0</td>\n",
              "    </tr>\n",
              "    <tr>\n",
              "      <th>41</th>\n",
              "      <td>1272.0</td>\n",
              "      <td>32.0</td>\n",
              "      <td>53.0</td>\n",
              "      <td>2.75</td>\n",
              "      <td>40.0</td>\n",
              "      <td>37.0</td>\n",
              "      <td>Smoker</td>\n",
              "      <td>168.0</td>\n",
              "      <td>61.0</td>\n",
              "      <td>31.0</td>\n",
              "      <td>16.0</td>\n",
              "      <td>0.0</td>\n",
              "      <td>173.0</td>\n",
              "      <td>Not low birthweight</td>\n",
              "      <td>Aged 35+</td>\n",
              "      <td>50.0</td>\n",
              "    </tr>\n",
              "  </tbody>\n",
              "</table>\n",
              "</div>\n",
              "      <button class=\"colab-df-convert\" onclick=\"convertToInteractive('df-6e549a0f-fe1a-49c5-bdbb-e289d96aad6a')\"\n",
              "              title=\"Convert this dataframe to an interactive table.\"\n",
              "              style=\"display:none;\">\n",
              "        \n",
              "  <svg xmlns=\"http://www.w3.org/2000/svg\" height=\"24px\"viewBox=\"0 0 24 24\"\n",
              "       width=\"24px\">\n",
              "    <path d=\"M0 0h24v24H0V0z\" fill=\"none\"/>\n",
              "    <path d=\"M18.56 5.44l.94 2.06.94-2.06 2.06-.94-2.06-.94-.94-2.06-.94 2.06-2.06.94zm-11 1L8.5 8.5l.94-2.06 2.06-.94-2.06-.94L8.5 2.5l-.94 2.06-2.06.94zm10 10l.94 2.06.94-2.06 2.06-.94-2.06-.94-.94-2.06-.94 2.06-2.06.94z\"/><path d=\"M17.41 7.96l-1.37-1.37c-.4-.4-.92-.59-1.43-.59-.52 0-1.04.2-1.43.59L10.3 9.45l-7.72 7.72c-.78.78-.78 2.05 0 2.83L4 21.41c.39.39.9.59 1.41.59.51 0 1.02-.2 1.41-.59l7.78-7.78 2.81-2.81c.8-.78.8-2.07 0-2.86zM5.41 20L4 18.59l7.72-7.72 1.47 1.35L5.41 20z\"/>\n",
              "  </svg>\n",
              "      </button>\n",
              "      \n",
              "  <style>\n",
              "    .colab-df-container {\n",
              "      display:flex;\n",
              "      flex-wrap:wrap;\n",
              "      gap: 12px;\n",
              "    }\n",
              "\n",
              "    .colab-df-convert {\n",
              "      background-color: #E8F0FE;\n",
              "      border: none;\n",
              "      border-radius: 50%;\n",
              "      cursor: pointer;\n",
              "      display: none;\n",
              "      fill: #1967D2;\n",
              "      height: 32px;\n",
              "      padding: 0 0 0 0;\n",
              "      width: 32px;\n",
              "    }\n",
              "\n",
              "    .colab-df-convert:hover {\n",
              "      background-color: #E2EBFA;\n",
              "      box-shadow: 0px 1px 2px rgba(60, 64, 67, 0.3), 0px 1px 3px 1px rgba(60, 64, 67, 0.15);\n",
              "      fill: #174EA6;\n",
              "    }\n",
              "\n",
              "    [theme=dark] .colab-df-convert {\n",
              "      background-color: #3B4455;\n",
              "      fill: #D2E3FC;\n",
              "    }\n",
              "\n",
              "    [theme=dark] .colab-df-convert:hover {\n",
              "      background-color: #434B5C;\n",
              "      box-shadow: 0px 1px 3px 1px rgba(0, 0, 0, 0.15);\n",
              "      filter: drop-shadow(0px 1px 2px rgba(0, 0, 0, 0.3));\n",
              "      fill: #FFFFFF;\n",
              "    }\n",
              "  </style>\n",
              "\n",
              "      <script>\n",
              "        const buttonEl =\n",
              "          document.querySelector('#df-6e549a0f-fe1a-49c5-bdbb-e289d96aad6a button.colab-df-convert');\n",
              "        buttonEl.style.display =\n",
              "          google.colab.kernel.accessAllowed ? 'block' : 'none';\n",
              "\n",
              "        async function convertToInteractive(key) {\n",
              "          const element = document.querySelector('#df-6e549a0f-fe1a-49c5-bdbb-e289d96aad6a');\n",
              "          const dataTable =\n",
              "            await google.colab.kernel.invokeFunction('convertToInteractive',\n",
              "                                                     [key], {});\n",
              "          if (!dataTable) return;\n",
              "\n",
              "          const docLinkHtml = 'Like what you see? Visit the ' +\n",
              "            '<a target=\"_blank\" href=https://colab.research.google.com/notebooks/data_table.ipynb>data table notebook</a>'\n",
              "            + ' to learn more about interactive tables.';\n",
              "          element.innerHTML = '';\n",
              "          dataTable['output_type'] = 'display_data';\n",
              "          await google.colab.output.renderOutput(dataTable, element);\n",
              "          const docLink = document.createElement('div');\n",
              "          docLink.innerHTML = docLinkHtml;\n",
              "          element.appendChild(docLink);\n",
              "        }\n",
              "      </script>\n",
              "    </div>\n",
              "  </div>\n",
              "  "
            ]
          },
          "metadata": {}
        }
      ]
    },
    {
      "cell_type": "code",
      "source": [
        "df.columns"
      ],
      "metadata": {
        "colab": {
          "base_uri": "https://localhost:8080/"
        },
        "id": "w61kYXI3Di5f",
        "outputId": "dc66637d-a369-4b17-c223-3a06ce7f4ab0"
      },
      "execution_count": null,
      "outputs": [
        {
          "output_type": "execute_result",
          "data": {
            "text/plain": [
              "Index(['ID', 'Headcirc', 'Length', 'Birthweight', 'Gestation', 'mage',\n",
              "       'smoker', 'mheight', 'mppwt', 'fage', 'fedyrs', 'fnocig', 'fheight',\n",
              "       'lowbwt', 'mage35', 'mnocig'],\n",
              "      dtype='object')"
            ]
          },
          "metadata": {},
          "execution_count": 102
        }
      ]
    },
    {
      "cell_type": "markdown",
      "source": [
        "### Q1. What is the mean father’s age?"
      ],
      "metadata": {
        "id": "mfEhOno6EtOI"
      }
    },
    {
      "cell_type": "code",
      "source": [
        "df['fage'].mean().round(3)"
      ],
      "metadata": {
        "colab": {
          "base_uri": "https://localhost:8080/"
        },
        "id": "AGIfRD8SD-4M",
        "outputId": "33aeb931-0028-48b2-ea28-3d9fab93711d"
      },
      "execution_count": null,
      "outputs": [
        {
          "output_type": "execute_result",
          "data": {
            "text/plain": [
              "28.905"
            ]
          },
          "metadata": {},
          "execution_count": 103
        }
      ]
    },
    {
      "cell_type": "markdown",
      "source": [
        "### Q2. What is the mean father’s age for low birthweight babies?"
      ],
      "metadata": {
        "id": "IbH3OyiYGW8p"
      }
    },
    {
      "cell_type": "code",
      "source": [
        "df[df['lowbwt'] == 'Low birthweight']['fage'].mean().round(3)"
      ],
      "metadata": {
        "colab": {
          "base_uri": "https://localhost:8080/"
        },
        "id": "q1oKPlLIExUt",
        "outputId": "c6f51841-2ab1-4f2b-eff6-dd1196bb476b"
      },
      "execution_count": null,
      "outputs": [
        {
          "output_type": "execute_result",
          "data": {
            "text/plain": [
              "24.833"
            ]
          },
          "metadata": {},
          "execution_count": 104
        }
      ]
    },
    {
      "cell_type": "markdown",
      "source": [
        "### Q3. Is the father's age normally distributed? Justify your answer."
      ],
      "metadata": {
        "id": "fNZH93luHEmY"
      }
    },
    {
      "cell_type": "code",
      "source": [
        "# Finding mean and std of father's age\n",
        "\n",
        "fage_mean = df['fage'].mean()\n",
        "fage_std = df['fage'].std()\n",
        "\n",
        "print(f'The mean is: {fage_mean}, and the standard deviation is: {fage_std}')\n",
        "\n",
        "# Using Shapiro-Wilk test, if P value is greater than 0.05, then the data is normally distributed, whatever not...\n",
        "# H0 > p -> Null hypothesis: the distribution is normally distributed\n",
        "# Ha < p -> Alt hypothesis: the distribution is not normally distributed\n",
        "\n",
        "fage_data = df['fage']\n",
        "shapiro(fage_data)\n",
        "\n",
        "# Since the P-value is 0.03, wich is less than the threshold (0.05), then we reject the null hypothesis\n",
        "# We do not have sufficient evidence to say that the sample comes from a normal distribution\n",
        "\n",
        "# So, the data is NON-normally distributed\n"
      ],
      "metadata": {
        "colab": {
          "base_uri": "https://localhost:8080/"
        },
        "id": "Wp1JlZm-HFtw",
        "outputId": "d6b360bc-4670-4db9-d9d5-cc79900a6c19"
      },
      "execution_count": null,
      "outputs": [
        {
          "output_type": "stream",
          "name": "stdout",
          "text": [
            "The mean is: 28.904761904761905, and the standard deviation is: 6.863866235440893\n"
          ]
        },
        {
          "output_type": "execute_result",
          "data": {
            "text/plain": [
              "ShapiroResult(statistic=0.9436862468719482, pvalue=0.03849918395280838)"
            ]
          },
          "metadata": {},
          "execution_count": 105
        }
      ]
    },
    {
      "cell_type": "code",
      "source": [
        "# Ploting the charts\n",
        "\n",
        "fig, ax = plt.subplots(1,2, figsize=(16,6))\n",
        "sns.histplot(df['fage'], kde= False, stat= 'density', ax= ax[0])\n",
        "sns.kdeplot(df['fage'], ax= ax[0], color= 'crimson')\n",
        "sns.boxplot(data= df, x= 'fage', ax= ax[1])\n",
        "plt.show()"
      ],
      "metadata": {
        "colab": {
          "base_uri": "https://localhost:8080/",
          "height": 388
        },
        "id": "XGM6HZo6I6np",
        "outputId": "0804066d-5080-4d76-bb77-4bf7ec95005d"
      },
      "execution_count": null,
      "outputs": [
        {
          "output_type": "display_data",
          "data": {
            "text/plain": [
              "<Figure size 1152x432 with 2 Axes>"
            ],
            "image/png": "[encoded data removed]"
          },
          "metadata": {
            "needs_background": "light"
          }
        }
      ]
    },
    {
      "cell_type": "markdown",
      "source": [
        "### Q4. If you apply the log transformation to the father's age, what is the mean score of the transformed variable?"
      ],
      "metadata": {
        "id": "Lz6BOShx3d_l"
      }
    },
    {
      "cell_type": "code",
      "source": [
        "# Using log transformation  with numpy\n",
        "\n",
        "data = df['fage']\n",
        "\n",
        "LOG_fage = np.log(data)\n",
        "\n",
        "#print(data, LOG_fage)\n",
        "print(f'The mean score of the transformed variable is: {LOG_fage.mean().round(3)}')"
      ],
      "metadata": {
        "colab": {
          "base_uri": "https://localhost:8080/"
        },
        "id": "KSJb6We33jaF",
        "outputId": "e6d28194-aebb-4594-fb22-830fd4917afc"
      },
      "execution_count": null,
      "outputs": [
        {
          "output_type": "stream",
          "name": "stdout",
          "text": [
            "The mean score of the transformed variable is: 3.337\n"
          ]
        }
      ]
    },
    {
      "cell_type": "code",
      "source": [
        "# Ploting log_fage after transformation\n",
        "\n",
        "fig, ax = plt.subplots(1,2, figsize=(16,6))\n",
        "sns.histplot(LOG_fage, kde= False, stat= 'density', ax= ax[0])\n",
        "sns.kdeplot(LOG_fage, ax= ax[0], color= 'crimson')\n",
        "sns.boxplot(x= LOG_fage, ax= ax[1])\n",
        "plt.show()"
      ],
      "metadata": {
        "colab": {
          "base_uri": "https://localhost:8080/",
          "height": 388
        },
        "id": "IdWGEL0U6Trl",
        "outputId": "848827b4-3a4b-43ab-c510-cceff37adab5"
      },
      "execution_count": null,
      "outputs": [
        {
          "output_type": "display_data",
          "data": {
            "text/plain": [
              "<Figure size 1152x432 with 2 Axes>"
            ],
            "image/png": "[encoded data removed]"
          },
          "metadata": {
            "needs_background": "light"
          }
        }
      ]
    },
    {
      "cell_type": "markdown",
      "source": [
        "### Q5. Is the above mean score a good representation of the real value? Justify your answer."
      ],
      "metadata": {
        "id": "_W6Oyvat9OtA"
      }
    },
    {
      "cell_type": "code",
      "source": [
        "# Yes, because all data points were applied with the same function, so the resulting set is proportional to original numbers"
      ],
      "metadata": {
        "id": "9pMgIEWx9T4_"
      },
      "execution_count": null,
      "outputs": []
    },
    {
      "cell_type": "markdown",
      "source": [
        "### Q6. Is the new variable (log transform of father’s age) normally distributed? Justify your answer."
      ],
      "metadata": {
        "id": "567HKd9j9dWv"
      }
    },
    {
      "cell_type": "code",
      "source": [
        "# finding mean and std of LOG father's age\n",
        "\n",
        "LOG_fage_mean = LOG_fage.mean()\n",
        "LOG_fage_std = LOG_fage.std()\n",
        "\n",
        "print(f'The mean is: {LOG_fage_mean} and the standard deviation is: {LOG_fage_std}')\n",
        "\n",
        "# Using Shapiro-Wilk test, if P value is greater than 0.05, then the data is normally distributed, whatever not...\n",
        "# H0 > p -> Null hypothesis: the distribution is normally distributed\n",
        "# Ha < p -> Alt hypothesis: the distribution is not normal\n",
        "\n",
        "LOG_fage_data = LOG_fage\n",
        "shapiro(LOG_fage_data)\n",
        "\n",
        "# Since we applied a function to normalize the distribuction, the new set is expected to be normally distributed\n",
        "\n",
        "# Since the P-value is 0.12, wich is more than the threshold (0.05), then we fail to reject the null hypothesis\n",
        "# We have sufficient evidence to say that the sample comes from a normal distribution\n",
        "# So, the data is normally distributed"
      ],
      "metadata": {
        "colab": {
          "base_uri": "https://localhost:8080/"
        },
        "id": "QsE6r-ZN9eZc",
        "outputId": "2168a91a-74d3-497b-8cd2-47a878dc4605"
      },
      "execution_count": null,
      "outputs": [
        {
          "output_type": "stream",
          "name": "stdout",
          "text": [
            "The mean is: 3.3370421189026085 and the standard deviation is: 0.2343594308066866\n"
          ]
        },
        {
          "output_type": "execute_result",
          "data": {
            "text/plain": [
              "ShapiroResult(statistic=0.9583315253257751, pvalue=0.12867699563503265)"
            ]
          },
          "metadata": {},
          "execution_count": 110
        }
      ]
    },
    {
      "cell_type": "markdown",
      "source": [
        "### Q7. Is the variable “years father was in education” normally distributed?"
      ],
      "metadata": {
        "id": "XncxN0Zq_adF"
      }
    },
    {
      "cell_type": "code",
      "source": [
        "# finding mean and std of father's years of education\n",
        "\n",
        "feduc_mean = df['fedyrs'].mean()\n",
        "feduc_std = df['fedyrs'].std()\n",
        "\n",
        "print(f'The mean is: {feduc_mean}, and the standard deviation is: {feduc_std}')\n",
        "\n",
        "# Using Shapiro-Wilk test, if P value is greater than 0.05, then the data is normally distributed, whatever not...\n",
        "# H0 > p -> Null hypothesis: the distribution is normally distributed\n",
        "# Ha < p -> Alt hypothesis: the distribution is not normal\n",
        "\n",
        "feduc_data = df['fedyrs']\n",
        "shapiro(feduc_data)\n",
        "\n",
        "# Since the P-value is 0.0000448, wich is less than the threshold (0.05), then have to reject the null hypothesis\n",
        "# We do not have sufficient evidence to say that the sample comes from a normal distribution\n",
        "# So, the data is non-normal distributed"
      ],
      "metadata": {
        "colab": {
          "base_uri": "https://localhost:8080/"
        },
        "id": "JUafKubk_db2",
        "outputId": "9d3c6bf4-cef9-4971-b5a2-ac652e89be00"
      },
      "execution_count": null,
      "outputs": [
        {
          "output_type": "stream",
          "name": "stdout",
          "text": [
            "The mean is: 13.666666666666666, and the standard deviation is: 2.160246899469287\n"
          ]
        },
        {
          "output_type": "execute_result",
          "data": {
            "text/plain": [
              "ShapiroResult(statistic=0.8441449403762817, pvalue=4.483600059757009e-05)"
            ]
          },
          "metadata": {},
          "execution_count": 111
        }
      ]
    },
    {
      "cell_type": "code",
      "source": [
        "# Ploting feduc distribution charts\n",
        "\n",
        "fig, ax = plt.subplots(1,2, figsize=(16,6))\n",
        "sns.histplot(feduc_data, kde= False, stat= 'density', ax= ax[0])\n",
        "sns.kdeplot(feduc_data, ax= ax[0], color= 'crimson')\n",
        "sns.boxplot(x= feduc_data, ax= ax[1])\n",
        "plt.show()\n"
      ],
      "metadata": {
        "colab": {
          "base_uri": "https://localhost:8080/",
          "height": 388
        },
        "id": "XsSx51rgJ8n2",
        "outputId": "d81e913c-326f-4bfa-a683-9ea70b7d010d"
      },
      "execution_count": null,
      "outputs": [
        {
          "output_type": "display_data",
          "data": {
            "text/plain": [
              "<Figure size 1152x432 with 2 Axes>"
            ],
            "image/png": "[encoded data removed]"
          },
          "metadata": {
            "needs_background": "light"
          }
        }
      ]
    },
    {
      "cell_type": "markdown",
      "source": [
        "### Q8. Mentioning the null and alternative hypotheses, explain the above answer."
      ],
      "metadata": {
        "id": "LZ55_nb0KoeE"
      }
    },
    {
      "cell_type": "code",
      "source": [
        "# The null hypothesis is that the data is normally distributed\n",
        "# The alternative hypothesis is that the data is non-normally distributed\n",
        "\n",
        "# As the p-value of the shapiro-wilk test is much minor than the threshold, we have sufficient evidences to reject the null hypothesis\n",
        "# So we grab the alternative hypothesis, wich means that this dataset is non-normally distributed"
      ],
      "metadata": {
        "id": "OQraaYhRKsuE"
      },
      "execution_count": null,
      "outputs": []
    },
    {
      "cell_type": "markdown",
      "source": [
        "### Q9. What is the mean score for the variable “years father was in education” after you apply the Box-Cox transformation?"
      ],
      "metadata": {
        "id": "4R49NoJCKuco"
      }
    },
    {
      "cell_type": "code",
      "source": [
        "# Determine the data\n",
        "feduc_orig_data = df['fedyrs']\n",
        "\n",
        "# Transform data and save lambda value\n",
        "fitted_data, fitted_lambda = stats.boxcox(feduc_orig_data)\n",
        "\n",
        "# Creating axes to compare the original and transformed data displots\n",
        "\n",
        "fig, ax = plt.subplots(1,2, figsize=(16,6))\n",
        "\n",
        "sns.histplot(feduc_orig_data, kde= False, stat= 'density', ax= ax[0], color= 'lightgreen')\n",
        "sns.kdeplot(feduc_orig_data, ax= ax[0], color= 'darkgreen')\n",
        "\n",
        "sns.histplot(fitted_data, kde= False, stat= 'density', ax= ax[1], color= 'lightblue')\n",
        "sns.kdeplot(fitted_data, ax= ax[1], color= 'darkblue')\n",
        "\n",
        "plt.show()\n",
        "\n",
        "#sns.distplot(feduc_orig_data, kde= True, kde_kws = {'shade': True, 'linewidth': 2}, label= 'Non-Normal', color= 'green', ax= ax[0])\n",
        "\n",
        "#sns.distplot(fitted_data, kde= True, kde_kws = {'shade': True, 'linewidth': 2}, label= 'Normal', color= 'lightblue', ax= ax[1])\n",
        "\n",
        "print(f\"Lambda value used for Transformation: {fitted_lambda}\")"
      ],
      "metadata": {
        "colab": {
          "base_uri": "https://localhost:8080/",
          "height": 406
        },
        "id": "002UO7VzKwro",
        "outputId": "84ba8bbd-699e-41a2-e515-09b2d263d44f"
      },
      "execution_count": null,
      "outputs": [
        {
          "output_type": "display_data",
          "data": {
            "text/plain": [
              "<Figure size 1152x432 with 2 Axes>"
            ],
            "image/png": "[encoded data removed]"
          },
          "metadata": {
            "needs_background": "light"
          }
        },
        {
          "output_type": "stream",
          "name": "stdout",
          "text": [
            "Lambda value used for Transformation: 2.2314161300163327\n"
          ]
        }
      ]
    },
    {
      "cell_type": "markdown",
      "source": [
        "### Q10. Is this new variable normally distributed? Explain."
      ],
      "metadata": {
        "id": "k-c_1srJKxsK"
      }
    },
    {
      "cell_type": "code",
      "source": [
        "# Box-Cox transformation does not guarantee that the data will be normal distributed after transformation\n",
        "# We must check again with Shapiro-Will test\n",
        "\n",
        "# finding mean and std of father's years of education\n",
        "\n",
        "feduc_BC_mean = fitted_data.mean()\n",
        "feduc_BC_std = fitted_data.std()\n",
        "\n",
        "print(f'The mean is: {feduc_BC_mean}, and the standard deviation is: {feduc_BC_std}')\n",
        "\n",
        "# Using Shapiro-Wilk test, if P value is greater than 0.05, then the data is normally distributed, whatever not...\n",
        "# H0 > p -> Null hypothesis: the distribution is normally distributed\n",
        "# Ha < p -> Alt hypothesis: the distribution is not normal\n",
        "\n",
        "feduc_BC_data = fitted_data\n",
        "shapiro_test = shapiro(feduc_BC_data)\n",
        "display(shapiro_test)\n",
        "round(shapiro_test.pvalue, 6)\n",
        "\n",
        "# Since the P-value is 4.2e-05 (0.000042), wich is less than the threshold (0.05), then we have to reject the null hypothesis\n",
        "# We do not have sufficient evidence to say that the sample comes from a normal distribution\n",
        "# So, the data is NON-normal distributed\n"
      ],
      "metadata": {
        "colab": {
          "base_uri": "https://localhost:8080/",
          "height": 72
        },
        "id": "XWLmq_wzKxWF",
        "outputId": "06e61b48-beec-4a1f-8512-5e17f1906af0"
      },
      "execution_count": null,
      "outputs": [
        {
          "output_type": "stream",
          "name": "stdout",
          "text": [
            "The mean is: 157.96716280846272, and the standard deviation is: 51.81774126656102\n"
          ]
        },
        {
          "output_type": "display_data",
          "data": {
            "text/plain": [
              "ShapiroResult(statistic=0.8429067730903625, pvalue=4.183058990747668e-05)"
            ]
          },
          "metadata": {}
        },
        {
          "output_type": "execute_result",
          "data": {
            "text/plain": [
              "4.2e-05"
            ]
          },
          "metadata": {},
          "execution_count": 115
        }
      ]
    },
    {
      "cell_type": "markdown",
      "source": [
        "### Q11. What is the mean score for this new variable (B-C transformed fathers’ years in education) for mothers aged under 35?"
      ],
      "metadata": {
        "id": "eypQNj_4K2f7"
      }
    },
    {
      "cell_type": "code",
      "source": [
        "df['BC_fyears'] = fitted_data\n",
        "\n",
        "df[df['mage35'] == 'Aged < 35']['BC_fyears'].mean()\n"
      ],
      "metadata": {
        "colab": {
          "base_uri": "https://localhost:8080/"
        },
        "id": "rzCjjNC3K6CW",
        "outputId": "49e06b72-7df1-447d-b557-39b97666fa95"
      },
      "execution_count": null,
      "outputs": [
        {
          "output_type": "execute_result",
          "data": {
            "text/plain": [
              "153.1804464073593"
            ]
          },
          "metadata": {},
          "execution_count": 135
        }
      ]
    },
    {
      "cell_type": "markdown",
      "source": [
        "### Q12. Which test would you use to investigate the relationship between birth weight and father's age?\n",
        "  * Pearson product-moment correlation\n",
        "  * Spearman’s Rank order correlation\n",
        "  * Point-Biserial correlation\n",
        "  * Phi-Coefficient\n"
      ],
      "metadata": {
        "id": "F-GY0-AlK8qB"
      }
    },
    {
      "cell_type": "code",
      "source": [
        "sns.scatterplot(data=df, x= 'fage', y= 'Birthweight')"
      ],
      "metadata": {
        "colab": {
          "base_uri": "https://localhost:8080/",
          "height": 297
        },
        "id": "m40H0az-LH7p",
        "outputId": "2cfc2e24-eb5d-44d8-a987-f3516688b209"
      },
      "execution_count": null,
      "outputs": [
        {
          "output_type": "execute_result",
          "data": {
            "text/plain": [
              "<matplotlib.axes._subplots.AxesSubplot at 0x7f3a43c7eb20>"
            ]
          },
          "metadata": {},
          "execution_count": 138
        },
        {
          "output_type": "display_data",
          "data": {
            "text/plain": [
              "<Figure size 432x288 with 1 Axes>"
            ],
            "image/png": "[encoded data removed]"
          },
          "metadata": {
            "needs_background": "light"
          }
        }
      ]
    },
    {
      "cell_type": "code",
      "source": [
        "# Calculating pearson's correlation with scipy stats\n",
        "\n",
        "P_corr = stats.pearsonr(x= df['Birthweight'], y= df['fage'])\n",
        "print(P_corr)\n",
        "\n",
        "# Calculating Spearman's correlation, this calculation is better used for non normal data\n",
        "\n",
        "S_corr = stats.spearmanr(df['Birthweight'], df['fage'])\n",
        "print(S_corr)"
      ],
      "metadata": {
        "colab": {
          "base_uri": "https://localhost:8080/"
        },
        "id": "g_RJY8Oo9x1e",
        "outputId": "56571cfd-9c79-4ae1-dc39-49a79440e956"
      },
      "execution_count": null,
      "outputs": [
        {
          "output_type": "stream",
          "name": "stdout",
          "text": [
            "(0.17570999332980186, 0.2656859138375593)\n",
            "SpearmanrResult(correlation=0.17810631240688332, pvalue=0.25911799368781196)\n"
          ]
        }
      ]
    },
    {
      "cell_type": "markdown",
      "source": [
        "### Q13. Justify the above choice in terms of the distribution of data and the nature of the test"
      ],
      "metadata": {
        "id": "mRkczJNQLKJ1"
      }
    },
    {
      "cell_type": "code",
      "source": [
        "# Both variables are continuous\n",
        "# Father's age distribution is Non-Normal and Birth Weight's distribution is Normal\n",
        "# There's no evident pattern of a linear relationship in the scatter plot chart, even thought there is a monotonic relationship (one value increases as the other increases too)\n",
        "# As the distribution of one of the variables are non normal, we would better use the Spearman correlation\n",
        "# But there is no big difference between Pearson's and Spearman's correlation values..."
      ],
      "metadata": {
        "id": "sUWbJNYqLNAf"
      },
      "execution_count": null,
      "outputs": []
    },
    {
      "cell_type": "markdown",
      "source": [
        "### Q14. What is the direction of that relationship?"
      ],
      "metadata": {
        "id": "qbLGkJEILPBu"
      }
    },
    {
      "cell_type": "code",
      "source": [
        "# Positive direction, as no values are negatives"
      ],
      "metadata": {
        "id": "CeWZ3bkCLQC6"
      },
      "execution_count": null,
      "outputs": []
    },
    {
      "cell_type": "markdown",
      "source": [
        "### Q15. What is the form of that relationship?"
      ],
      "metadata": {
        "id": "TdeU3NanLQyM"
      }
    },
    {
      "cell_type": "code",
      "source": [
        "# Non Linear relationship"
      ],
      "metadata": {
        "id": "ugsN-TRiLTVs"
      },
      "execution_count": null,
      "outputs": []
    },
    {
      "cell_type": "markdown",
      "source": [
        "### Q16. What is the degree of that relationship?"
      ],
      "metadata": {
        "id": "PPwghQzbLUA-"
      }
    },
    {
      "cell_type": "code",
      "source": [
        "# Negligible correlation, as the r value (0.26) is less than 0.3"
      ],
      "metadata": {
        "id": "vwtjC9laLWGF"
      },
      "execution_count": null,
      "outputs": []
    },
    {
      "cell_type": "markdown",
      "source": [
        "### Q17. What test would you use to investigate the relationship between smoking and birth weight?\n",
        "\n",
        "  * Pearson product-moment correlation\n",
        "  * Spearman’s Rank order correlation\n",
        "  * Point-Biserial correlation\n",
        "  * Phi-Coefficient\n"
      ],
      "metadata": {
        "id": "VTT45aMHLW-R"
      }
    },
    {
      "cell_type": "code",
      "source": [
        "# Plot a distribution plot chart with smoking X non smoking mothers data\n",
        "\n",
        "sns.displot(data=df, x= 'Birthweight', hue= 'smoker', kde= True, alpha= 0.3)"
      ],
      "metadata": {
        "colab": {
          "base_uri": "https://localhost:8080/",
          "height": 387
        },
        "id": "GP47Hl8YLmnK",
        "outputId": "f80d2272-7c40-4e62-a0c8-067867a85644"
      },
      "execution_count": null,
      "outputs": [
        {
          "output_type": "execute_result",
          "data": {
            "text/plain": [
              "<seaborn.axisgrid.FacetGrid at 0x7f3a436ac670>"
            ]
          },
          "metadata": {},
          "execution_count": 123
        },
        {
          "output_type": "display_data",
          "data": {
            "text/plain": [
              "<Figure size 456x360 with 1 Axes>"
            ],
            "image/png": "[encoded data removed]"
          },
          "metadata": {
            "needs_background": "light"
          }
        }
      ]
    },
    {
      "cell_type": "code",
      "source": [
        "# Create another column with 0 and 1 values for smokers and non smokers\n",
        "# 0 will be NON-Smokers, 1 will be Smokers\n",
        "\n",
        "df['Smoker_Dummy'] = df['smoker']\n",
        "df['Smoker_Dummy'].replace(['Non-smoker', 'Smoker'], [0, 1], inplace= True)\n"
      ],
      "metadata": {
        "id": "1G1cW3GiEnks"
      },
      "execution_count": null,
      "outputs": []
    },
    {
      "cell_type": "code",
      "source": [
        "# finding mean and std of Smoker_Dummy and non-Smoker_Dummy groups\n",
        "\n",
        "non_smokers_mean = df[df['Smoker_Dummy'] == 0]['Birthweight'].mean()\n",
        "non_smokers_std = df[df['Smoker_Dummy'] == 0]['Birthweight'].std()\n",
        "\n",
        "print(f'The mean is: {non_smokers_mean}, and the standard deviation is: {non_smokers_std}')\n",
        "\n",
        "smokers_mean = df[df['Smoker_Dummy'] == 1]['Birthweight'].mean()\n",
        "smokers_std = df[df['Smoker_Dummy'] == 1]['Birthweight'].std()\n",
        "\n",
        "print(f'The mean is: {smokers_mean}, and the standard deviation is: {smokers_std}')\n",
        "\n",
        "# Using Shapiro-Wilk test, if P value is greater than 0.05, then the data is normally distributed, whatever not...\n",
        "# H0 > p -> Null hypothesis: the distribution is normally distributed\n",
        "# Ha < p -> Alt hypothesis: the distribution is not normal\n",
        "\n",
        "non_smokers_data = df[df['Smoker_Dummy'] == 0]['Birthweight']\n",
        "smokers_data = df[df['Smoker_Dummy'] == 1]['Birthweight']\n",
        "\n",
        "display(shapiro(non_smokers_data))\n",
        "display(shapiro(smokers_data))\n",
        "\n",
        "# Since the P-value is 0.6 and 0.9, wich is both more than the threshold (0.05), then we fail to reject the null hypothesis\n",
        "# We have sufficient evidence to say that the samples comes from a normal distribution\n",
        "# So, the data is normally distributed"
      ],
      "metadata": {
        "colab": {
          "base_uri": "https://localhost:8080/",
          "height": 91
        },
        "id": "IA1wz24BdpGg",
        "outputId": "db1cd8f7-1918-40ee-b9a9-28322370ecfc"
      },
      "execution_count": null,
      "outputs": [
        {
          "output_type": "stream",
          "name": "stdout",
          "text": [
            "The mean is: 3.5095000000000005, and the standard deviation is: 0.5184945312608112\n",
            "The mean is: 3.1340909090909093, and the standard deviation is: 0.631247133635428\n"
          ]
        },
        {
          "output_type": "display_data",
          "data": {
            "text/plain": [
              "ShapiroResult(statistic=0.9672559499740601, pvalue=0.6962055563926697)"
            ]
          },
          "metadata": {}
        },
        {
          "output_type": "display_data",
          "data": {
            "text/plain": [
              "ShapiroResult(statistic=0.9824167490005493, pvalue=0.9494719505310059)"
            ]
          },
          "metadata": {}
        }
      ]
    },
    {
      "cell_type": "code",
      "source": [
        "# Calculating point-biserial correlation (a specific kind of pearson's correlation), since we have one binary (dichotomus) variable and the other is continuous\n",
        "\n",
        "PBS_corr = stats.pointbiserialr(df['Birthweight'], df['Smoker_Dummy'])\n",
        "print(PBS_corr)"
      ],
      "metadata": {
        "colab": {
          "base_uri": "https://localhost:8080/"
        },
        "id": "Eb4n-95egDJy",
        "outputId": "cb077f92-712a-4710-a8c0-ddbda21f62de"
      },
      "execution_count": null,
      "outputs": [
        {
          "output_type": "stream",
          "name": "stdout",
          "text": [
            "PointbiserialrResult(correlation=-0.31423394642987135, pvalue=0.04269624654559379)\n"
          ]
        }
      ]
    },
    {
      "cell_type": "code",
      "source": [
        "# A better way to visualize this kind of relationship is using a boxplot chart\n",
        "\n",
        "sns.boxplot(data= df, x= 'smoker', y= 'Birthweight', hue= 'Smoker_Dummy')"
      ],
      "metadata": {
        "colab": {
          "base_uri": "https://localhost:8080/",
          "height": 297
        },
        "id": "BU3ho5vLNoMP",
        "outputId": "c4249f9d-2b4d-4a30-a7c6-a77e12483aa1"
      },
      "execution_count": null,
      "outputs": [
        {
          "output_type": "execute_result",
          "data": {
            "text/plain": [
              "<matplotlib.axes._subplots.AxesSubplot at 0x7f3a43978970>"
            ]
          },
          "metadata": {},
          "execution_count": 127
        },
        {
          "output_type": "display_data",
          "data": {
            "text/plain": [
              "<Figure size 432x288 with 1 Axes>"
            ],
            "image/png": "[encoded data removed]"
          },
          "metadata": {
            "needs_background": "light"
          }
        }
      ]
    },
    {
      "cell_type": "markdown",
      "source": [
        "### Q18. Report on the above results including information about direction/form/degree of the relationship."
      ],
      "metadata": {
        "id": "i1h2wATELnYa"
      }
    },
    {
      "cell_type": "code",
      "source": [
        "# These two variables (birth weight for smokers and non-smokers) are normally distributed\n",
        "# As the value of x goes from 0 to 1, there is a decrease in the birthweight\n",
        "# The r value is negative -0.31\n",
        "# The p value is 0.042, that is less than the threshold (0.05)\n",
        "# There is an evidence of a statistically significant bivariate association between the two  variables\n",
        "\n",
        "# It is a negative direction, linear form and the degree is weak or low negative"
      ],
      "metadata": {
        "id": "dGmdtMYGLpks"
      },
      "execution_count": null,
      "outputs": []
    },
    {
      "cell_type": "markdown",
      "source": [
        "### Q19. If you wanted to see the effect of the length of a baby on birthweight, what would your independent variable be?\n",
        "  * Length of baby\n",
        "  * Birthweight\n"
      ],
      "metadata": {
        "id": "o79C7x7MLqGf"
      }
    },
    {
      "cell_type": "code",
      "source": [
        "# Birth weight of baby, as changes in the dependent variable length may cause the first to change\n"
      ],
      "metadata": {
        "id": "Z7CO3B6lLx1U"
      },
      "execution_count": null,
      "outputs": []
    },
    {
      "cell_type": "code",
      "source": [
        "# scatterplot of these two variables\n",
        "\n",
        "fig, ax= plt.subplots(1, 2, figsize= (16,6))\n",
        "sns.scatterplot(data= df, x= 'Birthweight', y= 'Length', ax=ax[0])\n",
        "sns.scatterplot(data= df, x= 'Birthweight', y= 'Length', hue= 'smoker', ax=ax[1])\n",
        "plt.show()\n"
      ],
      "metadata": {
        "colab": {
          "base_uri": "https://localhost:8080/",
          "height": 388
        },
        "id": "f9dJzzEKRlNU",
        "outputId": "38554549-1ae4-48ff-a158-683102fdb5f1"
      },
      "execution_count": null,
      "outputs": [
        {
          "output_type": "display_data",
          "data": {
            "text/plain": [
              "<Figure size 1152x432 with 2 Axes>"
            ],
            "image/png": "[encoded data removed]"
          },
          "metadata": {
            "needs_background": "light"
          }
        }
      ]
    },
    {
      "cell_type": "markdown",
      "source": [
        "### Q20. In statistics, when creating a scatterplot, it is a common practice to put the independent variable on the x-axis and the dependent variable on the y-axis. With this in mind, create a scatterplot for the above case and provide the regression line. For homework submitted using MS Word, insert a picture of the scatterplot."
      ],
      "metadata": {
        "id": "VZEBoazOL0yK"
      }
    },
    {
      "cell_type": "code",
      "source": [
        "fig, ax = plt.subplots(figsize=(8, 5))\n",
        "sns.regplot(data= df, x= 'Length', y= 'Birthweight', ci= None, ax= ax, line_kws={'color': 'orange', 'lw': 2})"
      ],
      "metadata": {
        "colab": {
          "base_uri": "https://localhost:8080/",
          "height": 190
        },
        "id": "CNoXyHznL1zR",
        "outputId": "b0563f68-395f-4cd6-f6d5-d77e28e69889"
      },
      "execution_count": null,
      "outputs": [
        {
          "output_type": "error",
          "ename": "NameError",
          "evalue": "ignored",
          "traceback": [
            "\u001b[0;31m---------------------------------------------------------------------------\u001b[0m",
            "\u001b[0;31mNameError\u001b[0m                                 Traceback (most recent call last)",
            "\u001b[0;32m<ipython-input-1-9c8c36b28d92>\u001b[0m in \u001b[0;36m<module>\u001b[0;34m\u001b[0m\n\u001b[0;32m----> 1\u001b[0;31m \u001b[0mfig\u001b[0m\u001b[0;34m,\u001b[0m \u001b[0max\u001b[0m \u001b[0;34m=\u001b[0m \u001b[0mplt\u001b[0m\u001b[0;34m.\u001b[0m\u001b[0msubplots\u001b[0m\u001b[0;34m(\u001b[0m\u001b[0mfigsize\u001b[0m\u001b[0;34m=\u001b[0m\u001b[0;34m(\u001b[0m\u001b[0;36m8\u001b[0m\u001b[0;34m,\u001b[0m \u001b[0;36m5\u001b[0m\u001b[0;34m)\u001b[0m\u001b[0;34m)\u001b[0m\u001b[0;34m\u001b[0m\u001b[0;34m\u001b[0m\u001b[0m\n\u001b[0m\u001b[1;32m      2\u001b[0m \u001b[0msns\u001b[0m\u001b[0;34m.\u001b[0m\u001b[0mregplot\u001b[0m\u001b[0;34m(\u001b[0m\u001b[0mdata\u001b[0m\u001b[0;34m=\u001b[0m \u001b[0mdf\u001b[0m\u001b[0;34m,\u001b[0m \u001b[0mx\u001b[0m\u001b[0;34m=\u001b[0m \u001b[0;34m'Length'\u001b[0m\u001b[0;34m,\u001b[0m \u001b[0my\u001b[0m\u001b[0;34m=\u001b[0m \u001b[0;34m'Birthweight'\u001b[0m\u001b[0;34m,\u001b[0m \u001b[0mci\u001b[0m\u001b[0;34m=\u001b[0m \u001b[0;32mNone\u001b[0m\u001b[0;34m,\u001b[0m \u001b[0max\u001b[0m\u001b[0;34m=\u001b[0m \u001b[0max\u001b[0m\u001b[0;34m,\u001b[0m \u001b[0mline_kws\u001b[0m\u001b[0;34m=\u001b[0m\u001b[0;34m{\u001b[0m\u001b[0;34m'color'\u001b[0m\u001b[0;34m:\u001b[0m \u001b[0;34m'orange'\u001b[0m\u001b[0;34m,\u001b[0m \u001b[0;34m'lw'\u001b[0m\u001b[0;34m:\u001b[0m \u001b[0;36m2\u001b[0m\u001b[0;34m}\u001b[0m\u001b[0;34m)\u001b[0m\u001b[0;34m\u001b[0m\u001b[0;34m\u001b[0m\u001b[0m\n",
            "\u001b[0;31mNameError\u001b[0m: name 'plt' is not defined"
          ]
        }
      ]
    },
    {
      "cell_type": "markdown",
      "source": [
        "### Q21. Is the relationship between the length of baby and birthweight linear?\n",
        "  * Yes\n",
        "  * No\n"
      ],
      "metadata": {
        "id": "ZIDcPeNIL53m"
      }
    },
    {
      "cell_type": "code",
      "source": [
        "# Testing normality of the variables\n",
        "\n",
        "# Finding mean and std of the variable\n",
        "BW_mean = df['Birthweight'].mean()\n",
        "BW_std =  df['Birthweight'].std()\n",
        "\n",
        "print(f'The mean is: {BW_mean}, and the standard deviation is: {BW_std}')\n",
        "\n",
        "# Using Shapiro-Wilk test\n",
        "# H0 Null hypothesis = the distribution is not normally distributed = p < 0.05\n",
        "# H1 Alternative hypothesis = the distribution is normally distributed = p > 0.05\n",
        "\n",
        "BW_data = df['Birthweight']\n",
        "shapiro(BW_data)\n",
        "\n",
        "# Since the P-value is 0.96, wich is much more than the threshold (0.05), then we fail to reject the null hypothesis\n",
        "# We have sufficient evidence to say that the sample comes from a normal distribution\n",
        "# So, the data is normal distributed\n",
        "\n"
      ],
      "metadata": {
        "colab": {
          "base_uri": "https://localhost:8080/"
        },
        "id": "KYqRRq0B964N",
        "outputId": "efe86b14-1e32-464a-f72c-f77f56009bb6"
      },
      "execution_count": null,
      "outputs": [
        {
          "output_type": "stream",
          "name": "stdout",
          "text": [
            "The mean is: 3.312857142857143, and the standard deviation is: 0.603895022836148\n"
          ]
        },
        {
          "output_type": "execute_result",
          "data": {
            "text/plain": [
              "ShapiroResult(statistic=0.9899008274078369, pvalue=0.9684654474258423)"
            ]
          },
          "metadata": {},
          "execution_count": 139
        }
      ]
    },
    {
      "cell_type": "code",
      "source": [
        "# Testing normality of the variables\n",
        "\n",
        "# Finding mean and std of the variable\n",
        "\n",
        "L_mean = df['Length'].mean()\n",
        "L_std =  df['Length'].std()\n",
        "\n",
        "print(f'The mean is: {L_mean}, and the standard deviation is: {L_std}')\n",
        "\n",
        "# Using Shapiro-Wilk test\n",
        "# H0 Null hypothesis = the distribution is not normally distributed = p < 0.05\n",
        "# H1 Alternative hypothesis = the distribution is normally distributed = p > 0.05\n",
        "\n",
        "L_data = df['Length']\n",
        "shapiro(L_data)\n",
        "\n",
        "# Since the P-value is 0.053, wich is more than the threshold (0.05), then we fail to reject the null hypothesis\n",
        "# We have sufficient evidence to say that the sample comes from a normal distribution\n",
        "# So, the data is normal distributed\n"
      ],
      "metadata": {
        "colab": {
          "base_uri": "https://localhost:8080/"
        },
        "id": "Ce1w0MDvAZjO",
        "outputId": "9a918940-d99d-4a81-e768-0230c88a3fb1"
      },
      "execution_count": null,
      "outputs": [
        {
          "output_type": "stream",
          "name": "stdout",
          "text": [
            "The mean is: 51.333333333333336, and the standard deviation is: 2.935623643940379\n"
          ]
        },
        {
          "output_type": "execute_result",
          "data": {
            "text/plain": [
              "ShapiroResult(statistic=0.9477477073669434, pvalue=0.053657326847314835)"
            ]
          },
          "metadata": {},
          "execution_count": 140
        }
      ]
    },
    {
      "cell_type": "code",
      "source": [
        "# Calculating pearson's correlation with scipy stats\n",
        "\n",
        "P_corr = stats.pearsonr(x= df['Birthweight'], y= df['Length'])\n",
        "print(P_corr)\n",
        "\n",
        "# Calculating Spearman's correlation\n",
        "\n",
        "S_corr = stats.spearmanr(df['Birthweight'], df['Length'])\n",
        "print(S_corr)"
      ],
      "metadata": {
        "colab": {
          "base_uri": "https://localhost:8080/"
        },
        "id": "stwmWXyhL_IA",
        "outputId": "9dd62038-782f-4caf-b564-ee9782f26283"
      },
      "execution_count": null,
      "outputs": [
        {
          "output_type": "stream",
          "name": "stdout",
          "text": [
            "(0.7268334847885259, 5.0293461366560215e-08)\n",
            "SpearmanrResult(correlation=0.6837518802429358, pvalue=6.002297313933904e-07)\n"
          ]
        }
      ]
    },
    {
      "cell_type": "markdown",
      "source": [
        "### Q22. Justify the above choice."
      ],
      "metadata": {
        "id": "5GWkYY6lMAug"
      }
    },
    {
      "cell_type": "code",
      "source": [
        "# Null hypothesis is that there is no statistical significative linear correlation between birth weight and length\n",
        "# Alternative hypothesis is that there is a linear correlation\n",
        "\n",
        "# There is sufficient evidence to reject the null hypothesis, since the p-value 0.000006 is less than the threshold (0.05)\n",
        "# So the relationship between lenght and birthweight is linear\n"
      ],
      "metadata": {
        "id": "uPH7b4f_MB3j"
      },
      "execution_count": null,
      "outputs": []
    },
    {
      "cell_type": "markdown",
      "source": [
        "### Q23. Is there any evidence to suggest that the birth weight, length of baby, and head circumference are related?\n",
        "  * Yes\n",
        "  * No\n"
      ],
      "metadata": {
        "id": "so-jFGb9MCWz"
      }
    },
    {
      "cell_type": "code",
      "source": [
        "# Scatterplot beetwenn the variables\n",
        "\n",
        "fig, ax = plt.subplots(1,3, figsize=(15, 4))\n",
        "\n",
        "sns.scatterplot(data= df, x= 'Length', y= 'Birthweight', ax= ax[0])\n",
        "\n",
        "sns.scatterplot(data= df, x= 'Headcirc', y= 'Birthweight', ax= ax[1])\n",
        "\n",
        "sns.scatterplot(data= df, x= 'Length', y= 'Headcirc', ax= ax[2])"
      ],
      "metadata": {
        "colab": {
          "base_uri": "https://localhost:8080/",
          "height": 297
        },
        "id": "aTq3jNUeMHg0",
        "outputId": "feb4f96b-4fd4-40f0-9023-450504bad858"
      },
      "execution_count": null,
      "outputs": [
        {
          "output_type": "execute_result",
          "data": {
            "text/plain": [
              "<matplotlib.axes._subplots.AxesSubplot at 0x7f3a430fe490>"
            ]
          },
          "metadata": {},
          "execution_count": 143
        },
        {
          "output_type": "display_data",
          "data": {
            "text/plain": [
              "<Figure size 1080x288 with 3 Axes>"
            ],
            "image/png": "[encoded data removed]"
          },
          "metadata": {
            "needs_background": "light"
          }
        }
      ]
    },
    {
      "cell_type": "code",
      "source": [
        "# Pairplot\n",
        "\n",
        "data = df[['Length', 'Birthweight', 'Headcirc']]\n",
        "\n",
        "sns.pairplot(data)"
      ],
      "metadata": {
        "colab": {
          "base_uri": "https://localhost:8080/",
          "height": 568
        },
        "id": "jS3dTkOUUCBb",
        "outputId": "6d47cd68-37eb-41a2-f60e-859d78fc6ecf"
      },
      "execution_count": null,
      "outputs": [
        {
          "output_type": "execute_result",
          "data": {
            "text/plain": [
              "<seaborn.axisgrid.PairGrid at 0x7f3a4309e640>"
            ]
          },
          "metadata": {},
          "execution_count": 144
        },
        {
          "output_type": "display_data",
          "data": {
            "text/plain": [
              "<Figure size 540x540 with 12 Axes>"
            ],
            "image/png": "[encoded data removed]"
          },
          "metadata": {
            "needs_background": "light"
          }
        }
      ]
    },
    {
      "cell_type": "code",
      "source": [
        "sns.jointplot(data= data, x= 'Length', y= 'Birthweight', kind= 'reg')\n",
        "\n",
        "sns.jointplot(data= data, x= 'Birthweight', y= 'Headcirc', kind= 'reg')\n",
        "\n",
        "sns.jointplot(data= data, x= 'Length', y= 'Headcirc', kind= 'reg')\n"
      ],
      "metadata": {
        "colab": {
          "base_uri": "https://localhost:8080/",
          "height": 1000
        },
        "id": "gbrgZkt-VgWn",
        "outputId": "2919c1fb-77ae-4b2e-9f8a-6ff46b4344f2"
      },
      "execution_count": null,
      "outputs": [
        {
          "output_type": "execute_result",
          "data": {
            "text/plain": [
              "<seaborn.axisgrid.JointGrid at 0x7f3a4364fb20>"
            ]
          },
          "metadata": {},
          "execution_count": 145
        },
        {
          "output_type": "display_data",
          "data": {
            "text/plain": [
              "<Figure size 432x432 with 3 Axes>"
            ],
            "image/png": "[encoded data removed]"
          },
          "metadata": {
            "needs_background": "light"
          }
        },
        {
          "output_type": "display_data",
          "data": {
            "text/plain": [
              "<Figure size 432x432 with 3 Axes>"
            ],
            "image/png": "[encoded data removed]"
          },
          "metadata": {
            "needs_background": "light"
          }
        },
        {
          "output_type": "display_data",
          "data": {
            "text/plain": [
              "<Figure size 432x432 with 3 Axes>"
            ],
            "image/png": "[encoded data removed]"
          },
          "metadata": {
            "needs_background": "light"
          }
        }
      ]
    },
    {
      "cell_type": "code",
      "source": [
        "# Finding mean and std of the variable head circumference, testing if it comes from normal distribution\n",
        "\n",
        "HC_mean = data['Headcirc'].mean()\n",
        "HC_std =  data['Headcirc'].std()\n",
        "\n",
        "print(f'The mean is: {HC_mean}, and the standard deviation is: {HC_std}')\n",
        "\n",
        "# Using Shapiro-Wilk test\n",
        "# H0 Null hypothesis = the distribution is not normally distributed = p < 0.05\n",
        "# H1 Alternative hypothesis = the distribution is normally distributed = p > 0.05\n",
        "\n",
        "HC_data = data['Headcirc']\n",
        "shapiro(HC_data)\n",
        "\n",
        "# Since the P-value is 0.06, wich is more than the threshold (0.05), then we fail to reject the null hypothesis\n",
        "# We have sufficient evidence to say that the sample comes from a normal distribution\n",
        "# So, the data is normal distributed"
      ],
      "metadata": {
        "colab": {
          "base_uri": "https://localhost:8080/"
        },
        "id": "HczmfpJiikqn",
        "outputId": "168a096f-e8ab-484b-854b-9f60f6067b38"
      },
      "execution_count": null,
      "outputs": [
        {
          "output_type": "stream",
          "name": "stdout",
          "text": [
            "The mean is: 34.595238095238095, and the standard deviation is: 2.3997918996113365\n"
          ]
        },
        {
          "output_type": "execute_result",
          "data": {
            "text/plain": [
              "ShapiroResult(statistic=0.9504274129867554, pvalue=0.06690217554569244)"
            ]
          },
          "metadata": {},
          "execution_count": 146
        }
      ]
    },
    {
      "cell_type": "code",
      "source": [
        "# All the variables are normally distributed\n",
        "# There is a correlation between birght weight and length, lets check if there is the same kind of correlation between head circumference and length / birth weight\n",
        "\n",
        "# Correlation between these three variables with a heatmap\n",
        "\n",
        "plt.figure(figsize=(6, 6))\n",
        "plt.title('Correlation Matrix')\n",
        "sns.heatmap(data.corr(), annot=True, fmt='.3f', cmap='YlOrBr')\n",
        "plt.show()\n",
        "\n",
        "# There is a positive correlation between all these three variables, although the head circumference X length correlation is weaker than the others\n"
      ],
      "metadata": {
        "colab": {
          "base_uri": "https://localhost:8080/",
          "height": 390
        },
        "id": "mIxixm9GBxNe",
        "outputId": "7a2b5573-611b-4db5-88e1-525da994609b"
      },
      "execution_count": null,
      "outputs": [
        {
          "output_type": "display_data",
          "data": {
            "text/plain": [
              "<Figure size 432x432 with 2 Axes>"
            ],
            "image/png": "[encoded data removed]"
          },
          "metadata": {
            "needs_background": "light"
          }
        }
      ]
    },
    {
      "cell_type": "markdown",
      "source": [
        "### Q24. Justify the above choice."
      ],
      "metadata": {
        "id": "GQoT8SuoMJO3"
      }
    },
    {
      "cell_type": "code",
      "source": [
        "# Lets test signifficance of the two remaining combinations\n",
        "\n",
        "# Baby length X head circumference\n",
        "# Birth weight X head circumference\n",
        "\n",
        "# T-TEST\n",
        "print(stats.ttest_ind( df['Headcirc'], df['Birthweight']))\n",
        "\n",
        "# T-TEST\n",
        "print(stats.ttest_ind( df['Headcirc'], df['Length']))\n",
        "\n",
        "# Null hypothesis is that there is no statistical signifficative linear correlation between birth weight and length\n",
        "# Alternative hypothesis is that there is a linear correlation\n",
        "\n",
        "# There is sufficient evidence to reject the null hypothesis, since the p-value 0.000002 is less than the threshold (0.05)\n",
        "# So the relationship between lenght and head circumference and between birth weight and head circumference is both linear"
      ],
      "metadata": {
        "id": "PvZSK7PXMKXI",
        "colab": {
          "base_uri": "https://localhost:8080/"
        },
        "outputId": "8ca26d33-3cbf-4961-fa13-5faa40770dfc"
      },
      "execution_count": null,
      "outputs": [
        {
          "output_type": "stream",
          "name": "stdout",
          "text": [
            "Ttest_indResult(statistic=81.92526112328086, pvalue=1.9777115396511035e-80)\n",
            "Ttest_indResult(statistic=-28.608708000290655, pvalue=1.9828449306938893e-44)\n"
          ]
        }
      ]
    },
    {
      "cell_type": "markdown",
      "source": [
        "### Q25. Describe the above relationship in your own words and provide evidence for your claims.  \n"
      ],
      "metadata": {
        "id": "7xXcDeMwMK6l"
      }
    },
    {
      "cell_type": "code",
      "source": [
        "# There is a strong linear correlation (0.73) between baby's length and birth weight, with significative statistical evidence (pvalue minor than 0.05)\n",
        "# When the length increases, the birth weight also increases, in a monotonic relationship\n",
        "\n",
        "# There is also a strong correlation (0.68) between birth weight and head circumference, as the head circumference increases when the birth weight also increases\n",
        "# There is a significant statistical evidence that this correlation is valid with a p-value minor than 0.05\n",
        "\n",
        "# The relationship between head circumference and length is weaker than the others, but still relevant (0.56) and there is also a pvalue minor than the threshold\n",
        "\n",
        "# So, it's possible to deduce that there is a relationship between all these three features, all of them are monotnic\n",
        "# with positive correlation and with an acceptable level of significance"
      ],
      "metadata": {
        "id": "H0ye8ry8MOKE"
      },
      "execution_count": null,
      "outputs": []
    }
  ]
}