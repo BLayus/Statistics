{
  "nbformat": 4,
  "nbformat_minor": 0,
  "metadata": {
    "colab": {
      "provenance": [],
      "authorship_tag": "ABX9TyPNqNF7rcs3sE2Du3pNBgZT",
      "include_colab_link": true
    },
    "kernelspec": {
      "name": "python3",
      "display_name": "Python 3"
    },
    "language_info": {
      "name": "python"
    }
  },
  "cells": [
    {
      "cell_type": "markdown",
      "metadata": {
        "id": "view-in-github",
        "colab_type": "text"
      },
      "source": [
        "<a href=\"https://colab.research.google.com/github/BLayus/Statistics/blob/main/DA_Brainest_Week1.ipynb\" target=\"_parent\"><img src=\"https://colab.research.google.com/assets/colab-badge.svg\" alt=\"Open In Colab\"/></a>"
      ]
    },
    {
      "cell_type": "code",
      "execution_count": null,
      "metadata": {
        "colab": {
          "base_uri": "https://localhost:8080/"
        },
        "id": "_p7wcjXhcBnz",
        "outputId": "43d4c41f-4f2c-4b53-a517-e4b4253b4783"
      },
      "outputs": [
        {
          "output_type": "stream",
          "name": "stdout",
          "text": [
            "Looking in indexes: https://pypi.org/simple, https://us-python.pkg.dev/colab-wheels/public/simple/\n",
            "Requirement already satisfied: pyreadstat in /usr/local/lib/python3.7/dist-packages (1.2.0)\n",
            "Requirement already satisfied: pandas>=1.2.0 in /usr/local/lib/python3.7/dist-packages (from pyreadstat) (1.3.5)\n",
            "Requirement already satisfied: python-dateutil>=2.7.3 in /usr/local/lib/python3.7/dist-packages (from pandas>=1.2.0->pyreadstat) (2.8.2)\n",
            "Requirement already satisfied: numpy>=1.17.3 in /usr/local/lib/python3.7/dist-packages (from pandas>=1.2.0->pyreadstat) (1.21.6)\n",
            "Requirement already satisfied: pytz>=2017.3 in /usr/local/lib/python3.7/dist-packages (from pandas>=1.2.0->pyreadstat) (2022.6)\n",
            "Requirement already satisfied: six>=1.5 in /usr/local/lib/python3.7/dist-packages (from python-dateutil>=2.7.3->pandas>=1.2.0->pyreadstat) (1.15.0)\n"
          ]
        }
      ],
      "source": [
        "# Import libraries\n",
        "\n",
        "!pip install pyreadstat\n",
        "\n",
        "import pyreadstat\n",
        "\n",
        "import pandas as pd\n",
        "import matplotlib.pyplot as plt\n",
        "import seaborn as sns\n",
        "\n",
        "from scipy.stats import stats\n",
        "from scipy.stats import shapiro\n",
        "import scipy.stats"
      ]
    },
    {
      "cell_type": "code",
      "source": [
        "# Open the dataset on google drive mount\n",
        "\n",
        "from google.colab import drive\n",
        "drive.mount('/content/drive')\n",
        "df = pd.read_spss('/content/drive/MyDrive/DA Brainest/Week 1/Datasets/Birthweight_reduced_kg_SPSS.sav')"
      ],
      "metadata": {
        "colab": {
          "base_uri": "https://localhost:8080/"
        },
        "id": "KCVX7i0kcZMn",
        "outputId": "fbee989b-2efe-46a0-c513-87f5ed6b2c9c"
      },
      "execution_count": null,
      "outputs": [
        {
          "output_type": "stream",
          "name": "stdout",
          "text": [
            "Drive already mounted at /content/drive; to attempt to forcibly remount, call drive.mount(\"/content/drive\", force_remount=True).\n"
          ]
        }
      ]
    },
    {
      "cell_type": "code",
      "source": [
        "# Take a first look at the dataset\n",
        "\n",
        "df.head()"
      ],
      "metadata": {
        "colab": {
          "base_uri": "https://localhost:8080/",
          "height": 206
        },
        "id": "rFmF-qVOeeT8",
        "outputId": "57be1ffb-71d0-497b-82df-350a10020d3f"
      },
      "execution_count": null,
      "outputs": [
        {
          "output_type": "execute_result",
          "data": {
            "text/plain": [
              "       ID  Headcirc  Length  Birthweight  Gestation  mage      smoker  \\\n",
              "0  1360.0      34.0    56.0         4.55       44.0  20.0  Non-smoker   \n",
              "1  1016.0      36.0    53.0         4.32       40.0  19.0  Non-smoker   \n",
              "2   462.0      39.0    58.0         4.10       41.0  35.0  Non-smoker   \n",
              "3  1187.0      38.0    53.0         4.07       44.0  20.0  Non-smoker   \n",
              "4   553.0      37.0    54.0         3.94       42.0  24.0  Non-smoker   \n",
              "\n",
              "   mheight  mppwt  fage  fedyrs  fnocig  fheight               lowbwt  \\\n",
              "0    162.0   57.0  23.0    10.0    35.0    179.0  Not low birthweight   \n",
              "1    171.0   62.0  19.0    12.0     0.0    183.0  Not low birthweight   \n",
              "2    172.0   58.0  31.0    16.0    25.0    185.0  Not low birthweight   \n",
              "3    174.0   68.0  26.0    14.0    25.0    189.0  Not low birthweight   \n",
              "4    175.0   66.0  30.0    12.0     0.0    184.0  Not low birthweight   \n",
              "\n",
              "      mage35  mnocig  \n",
              "0  Aged < 35     0.0  \n",
              "1  Aged < 35     0.0  \n",
              "2   Aged 35+     0.0  \n",
              "3  Aged < 35     0.0  \n",
              "4  Aged < 35     0.0  "
            ],
            "text/html": [
              "\n",
              "  <div id=\"df-1d3c0c9f-3db6-4bb5-b8b9-e2ac68b62170\">\n",
              "    <div class=\"colab-df-container\">\n",
              "      <div>\n",
              "<style scoped>\n",
              "    .dataframe tbody tr th:only-of-type {\n",
              "        vertical-align: middle;\n",
              "    }\n",
              "\n",
              "    .dataframe tbody tr th {\n",
              "        vertical-align: top;\n",
              "    }\n",
              "\n",
              "    .dataframe thead th {\n",
              "        text-align: right;\n",
              "    }\n",
              "</style>\n",
              "<table border=\"1\" class=\"dataframe\">\n",
              "  <thead>\n",
              "    <tr style=\"text-align: right;\">\n",
              "      <th></th>\n",
              "      <th>ID</th>\n",
              "      <th>Headcirc</th>\n",
              "      <th>Length</th>\n",
              "      <th>Birthweight</th>\n",
              "      <th>Gestation</th>\n",
              "      <th>mage</th>\n",
              "      <th>smoker</th>\n",
              "      <th>mheight</th>\n",
              "      <th>mppwt</th>\n",
              "      <th>fage</th>\n",
              "      <th>fedyrs</th>\n",
              "      <th>fnocig</th>\n",
              "      <th>fheight</th>\n",
              "      <th>lowbwt</th>\n",
              "      <th>mage35</th>\n",
              "      <th>mnocig</th>\n",
              "    </tr>\n",
              "  </thead>\n",
              "  <tbody>\n",
              "    <tr>\n",
              "      <th>0</th>\n",
              "      <td>1360.0</td>\n",
              "      <td>34.0</td>\n",
              "      <td>56.0</td>\n",
              "      <td>4.55</td>\n",
              "      <td>44.0</td>\n",
              "      <td>20.0</td>\n",
              "      <td>Non-smoker</td>\n",
              "      <td>162.0</td>\n",
              "      <td>57.0</td>\n",
              "      <td>23.0</td>\n",
              "      <td>10.0</td>\n",
              "      <td>35.0</td>\n",
              "      <td>179.0</td>\n",
              "      <td>Not low birthweight</td>\n",
              "      <td>Aged &lt; 35</td>\n",
              "      <td>0.0</td>\n",
              "    </tr>\n",
              "    <tr>\n",
              "      <th>1</th>\n",
              "      <td>1016.0</td>\n",
              "      <td>36.0</td>\n",
              "      <td>53.0</td>\n",
              "      <td>4.32</td>\n",
              "      <td>40.0</td>\n",
              "      <td>19.0</td>\n",
              "      <td>Non-smoker</td>\n",
              "      <td>171.0</td>\n",
              "      <td>62.0</td>\n",
              "      <td>19.0</td>\n",
              "      <td>12.0</td>\n",
              "      <td>0.0</td>\n",
              "      <td>183.0</td>\n",
              "      <td>Not low birthweight</td>\n",
              "      <td>Aged &lt; 35</td>\n",
              "      <td>0.0</td>\n",
              "    </tr>\n",
              "    <tr>\n",
              "      <th>2</th>\n",
              "      <td>462.0</td>\n",
              "      <td>39.0</td>\n",
              "      <td>58.0</td>\n",
              "      <td>4.10</td>\n",
              "      <td>41.0</td>\n",
              "      <td>35.0</td>\n",
              "      <td>Non-smoker</td>\n",
              "      <td>172.0</td>\n",
              "      <td>58.0</td>\n",
              "      <td>31.0</td>\n",
              "      <td>16.0</td>\n",
              "      <td>25.0</td>\n",
              "      <td>185.0</td>\n",
              "      <td>Not low birthweight</td>\n",
              "      <td>Aged 35+</td>\n",
              "      <td>0.0</td>\n",
              "    </tr>\n",
              "    <tr>\n",
              "      <th>3</th>\n",
              "      <td>1187.0</td>\n",
              "      <td>38.0</td>\n",
              "      <td>53.0</td>\n",
              "      <td>4.07</td>\n",
              "      <td>44.0</td>\n",
              "      <td>20.0</td>\n",
              "      <td>Non-smoker</td>\n",
              "      <td>174.0</td>\n",
              "      <td>68.0</td>\n",
              "      <td>26.0</td>\n",
              "      <td>14.0</td>\n",
              "      <td>25.0</td>\n",
              "      <td>189.0</td>\n",
              "      <td>Not low birthweight</td>\n",
              "      <td>Aged &lt; 35</td>\n",
              "      <td>0.0</td>\n",
              "    </tr>\n",
              "    <tr>\n",
              "      <th>4</th>\n",
              "      <td>553.0</td>\n",
              "      <td>37.0</td>\n",
              "      <td>54.0</td>\n",
              "      <td>3.94</td>\n",
              "      <td>42.0</td>\n",
              "      <td>24.0</td>\n",
              "      <td>Non-smoker</td>\n",
              "      <td>175.0</td>\n",
              "      <td>66.0</td>\n",
              "      <td>30.0</td>\n",
              "      <td>12.0</td>\n",
              "      <td>0.0</td>\n",
              "      <td>184.0</td>\n",
              "      <td>Not low birthweight</td>\n",
              "      <td>Aged &lt; 35</td>\n",
              "      <td>0.0</td>\n",
              "    </tr>\n",
              "  </tbody>\n",
              "</table>\n",
              "</div>\n",
              "      <button class=\"colab-df-convert\" onclick=\"convertToInteractive('df-1d3c0c9f-3db6-4bb5-b8b9-e2ac68b62170')\"\n",
              "              title=\"Convert this dataframe to an interactive table.\"\n",
              "              style=\"display:none;\">\n",
              "        \n",
              "  <svg xmlns=\"http://www.w3.org/2000/svg\" height=\"24px\"viewBox=\"0 0 24 24\"\n",
              "       width=\"24px\">\n",
              "    <path d=\"M0 0h24v24H0V0z\" fill=\"none\"/>\n",
              "    <path d=\"M18.56 5.44l.94 2.06.94-2.06 2.06-.94-2.06-.94-.94-2.06-.94 2.06-2.06.94zm-11 1L8.5 8.5l.94-2.06 2.06-.94-2.06-.94L8.5 2.5l-.94 2.06-2.06.94zm10 10l.94 2.06.94-2.06 2.06-.94-2.06-.94-.94-2.06-.94 2.06-2.06.94z\"/><path d=\"M17.41 7.96l-1.37-1.37c-.4-.4-.92-.59-1.43-.59-.52 0-1.04.2-1.43.59L10.3 9.45l-7.72 7.72c-.78.78-.78 2.05 0 2.83L4 21.41c.39.39.9.59 1.41.59.51 0 1.02-.2 1.41-.59l7.78-7.78 2.81-2.81c.8-.78.8-2.07 0-2.86zM5.41 20L4 18.59l7.72-7.72 1.47 1.35L5.41 20z\"/>\n",
              "  </svg>\n",
              "      </button>\n",
              "      \n",
              "  <style>\n",
              "    .colab-df-container {\n",
              "      display:flex;\n",
              "      flex-wrap:wrap;\n",
              "      gap: 12px;\n",
              "    }\n",
              "\n",
              "    .colab-df-convert {\n",
              "      background-color: #E8F0FE;\n",
              "      border: none;\n",
              "      border-radius: 50%;\n",
              "      cursor: pointer;\n",
              "      display: none;\n",
              "      fill: #1967D2;\n",
              "      height: 32px;\n",
              "      padding: 0 0 0 0;\n",
              "      width: 32px;\n",
              "    }\n",
              "\n",
              "    .colab-df-convert:hover {\n",
              "      background-color: #E2EBFA;\n",
              "      box-shadow: 0px 1px 2px rgba(60, 64, 67, 0.3), 0px 1px 3px 1px rgba(60, 64, 67, 0.15);\n",
              "      fill: #174EA6;\n",
              "    }\n",
              "\n",
              "    [theme=dark] .colab-df-convert {\n",
              "      background-color: #3B4455;\n",
              "      fill: #D2E3FC;\n",
              "    }\n",
              "\n",
              "    [theme=dark] .colab-df-convert:hover {\n",
              "      background-color: #434B5C;\n",
              "      box-shadow: 0px 1px 3px 1px rgba(0, 0, 0, 0.15);\n",
              "      filter: drop-shadow(0px 1px 2px rgba(0, 0, 0, 0.3));\n",
              "      fill: #FFFFFF;\n",
              "    }\n",
              "  </style>\n",
              "\n",
              "      <script>\n",
              "        const buttonEl =\n",
              "          document.querySelector('#df-1d3c0c9f-3db6-4bb5-b8b9-e2ac68b62170 button.colab-df-convert');\n",
              "        buttonEl.style.display =\n",
              "          google.colab.kernel.accessAllowed ? 'block' : 'none';\n",
              "\n",
              "        async function convertToInteractive(key) {\n",
              "          const element = document.querySelector('#df-1d3c0c9f-3db6-4bb5-b8b9-e2ac68b62170');\n",
              "          const dataTable =\n",
              "            await google.colab.kernel.invokeFunction('convertToInteractive',\n",
              "                                                     [key], {});\n",
              "          if (!dataTable) return;\n",
              "\n",
              "          const docLinkHtml = 'Like what you see? Visit the ' +\n",
              "            '<a target=\"_blank\" href=https://colab.research.google.com/notebooks/data_table.ipynb>data table notebook</a>'\n",
              "            + ' to learn more about interactive tables.';\n",
              "          element.innerHTML = '';\n",
              "          dataTable['output_type'] = 'display_data';\n",
              "          await google.colab.output.renderOutput(dataTable, element);\n",
              "          const docLink = document.createElement('div');\n",
              "          docLink.innerHTML = docLinkHtml;\n",
              "          element.appendChild(docLink);\n",
              "        }\n",
              "      </script>\n",
              "    </div>\n",
              "  </div>\n",
              "  "
            ]
          },
          "metadata": {},
          "execution_count": 22
        }
      ]
    },
    {
      "cell_type": "code",
      "source": [
        "df.columns"
      ],
      "metadata": {
        "colab": {
          "base_uri": "https://localhost:8080/"
        },
        "id": "ndHsJF3hkIVi",
        "outputId": "a9c030c0-7abd-4f73-b976-1351ec66ff72"
      },
      "execution_count": null,
      "outputs": [
        {
          "output_type": "execute_result",
          "data": {
            "text/plain": [
              "Index(['ID', 'Headcirc', 'Length', 'Birthweight', 'Gestation', 'mage',\n",
              "       'smoker', 'mheight', 'mppwt', 'fage', 'fedyrs', 'fnocig', 'fheight',\n",
              "       'lowbwt', 'mage35', 'mnocig'],\n",
              "      dtype='object')"
            ]
          },
          "metadata": {},
          "execution_count": 23
        }
      ]
    },
    {
      "cell_type": "code",
      "source": [
        "df.info()"
      ],
      "metadata": {
        "colab": {
          "base_uri": "https://localhost:8080/"
        },
        "id": "3E6sQEDp2B9o",
        "outputId": "08fe5436-64e3-4e74-9144-edceee8d2083"
      },
      "execution_count": null,
      "outputs": [
        {
          "output_type": "stream",
          "name": "stdout",
          "text": [
            "<class 'pandas.core.frame.DataFrame'>\n",
            "RangeIndex: 42 entries, 0 to 41\n",
            "Data columns (total 16 columns):\n",
            " #   Column       Non-Null Count  Dtype   \n",
            "---  ------       --------------  -----   \n",
            " 0   ID           42 non-null     float64 \n",
            " 1   Headcirc     42 non-null     float64 \n",
            " 2   Length       42 non-null     float64 \n",
            " 3   Birthweight  42 non-null     float64 \n",
            " 4   Gestation    42 non-null     float64 \n",
            " 5   mage         42 non-null     float64 \n",
            " 6   smoker       42 non-null     category\n",
            " 7   mheight      42 non-null     float64 \n",
            " 8   mppwt        42 non-null     float64 \n",
            " 9   fage         42 non-null     float64 \n",
            " 10  fedyrs       42 non-null     float64 \n",
            " 11  fnocig       42 non-null     float64 \n",
            " 12  fheight      42 non-null     float64 \n",
            " 13  lowbwt       42 non-null     category\n",
            " 14  mage35       42 non-null     category\n",
            " 15  mnocig       42 non-null     float64 \n",
            "dtypes: category(3), float64(13)\n",
            "memory usage: 4.9 KB\n"
          ]
        }
      ]
    },
    {
      "cell_type": "markdown",
      "source": [
        "### Q1. What is the mean birth weight for babies of non-smoking mothers?\n",
        "\n"
      ],
      "metadata": {
        "id": "UBxylcEufZd8"
      }
    },
    {
      "cell_type": "code",
      "source": [
        "# Mean birth weight, only non smoker mothers\n",
        "\n",
        "NSM_Birthweight = df[df['smoker'] =='Non-smoker']['Birthweight'].mean().round(4)\n",
        "\n",
        "print(f'The mean birth weight of NON-SMOKING mothers is: {NSM_Birthweight} kg')\n"
      ],
      "metadata": {
        "colab": {
          "base_uri": "https://localhost:8080/"
        },
        "id": "-gRhIcZSfPg_",
        "outputId": "a2d93131-e135-49c6-92f3-674ef3b9d32e"
      },
      "execution_count": null,
      "outputs": [
        {
          "output_type": "stream",
          "name": "stdout",
          "text": [
            "The mean birth weight of NON-SMOKING mothers is: 3.5095 kg\n"
          ]
        }
      ]
    },
    {
      "cell_type": "markdown",
      "source": [
        "### Q2. What is the mean birth weight for babies of smoking mothers?"
      ],
      "metadata": {
        "id": "C_YltMw2lmPh"
      }
    },
    {
      "cell_type": "code",
      "source": [
        "# Mean birth weight, only smoker mothers\n",
        "\n",
        "SM_Birthweight = df[df['smoker'] =='Smoker']['Birthweight'].mean().round(4)\n",
        "\n",
        "print(f'The mean birth weight of SMOKIMG mothers is: {SM_Birthweight} kg')"
      ],
      "metadata": {
        "colab": {
          "base_uri": "https://localhost:8080/"
        },
        "id": "bnWhRPDclAZ1",
        "outputId": "9a84308b-dd3e-474e-87ff-e613e5549952"
      },
      "execution_count": null,
      "outputs": [
        {
          "output_type": "stream",
          "name": "stdout",
          "text": [
            "The mean birth weight of SMOKIMG mothers is: 3.1341 kg\n"
          ]
        }
      ]
    },
    {
      "cell_type": "markdown",
      "source": [
        "### Q3. What is the mean head circumference for babies of non-smoking mothers?"
      ],
      "metadata": {
        "id": "w6P4yPeu2lDq"
      }
    },
    {
      "cell_type": "code",
      "source": [
        "# Mean head circumference, non-smoking mothers\n",
        "\n",
        "NSM_Headcirc = df[df['smoker'] =='Non-smoker']['Headcirc'].mean().round(4)\n",
        "\n",
        "print(f'The mean head circumference of NON-SMOKING mothers is: {NSM_Headcirc} cm')\n",
        "\n",
        "SM_Headcirc = df[df['smoker'] =='Smoker']['Headcirc'].mean().round(4)\n",
        "\n",
        "print(f'The mean head circumference of SMOKING mothers is: {SM_Headcirc} cm')\n"
      ],
      "metadata": {
        "colab": {
          "base_uri": "https://localhost:8080/"
        },
        "id": "KNVLVEzX2jpF",
        "outputId": "7e8fe0a4-3ba5-468c-9f43-2e303315158f"
      },
      "execution_count": null,
      "outputs": [
        {
          "output_type": "stream",
          "name": "stdout",
          "text": [
            "The mean head circumference of NON-SMOKING mothers is: 35.05 cm\n",
            "The mean head circumference of SMOKING mothers is: 34.1818 cm\n"
          ]
        }
      ]
    },
    {
      "cell_type": "markdown",
      "source": [
        "### Q4. What is the mean gestational age at birth for babies of smoking mothers?"
      ],
      "metadata": {
        "id": "2z_5cXOy3_lt"
      }
    },
    {
      "cell_type": "code",
      "source": [
        "# Mean gestational age, smoking mothers\n",
        "\n",
        "SM_GestAge = df[df['smoker'] =='Smoker']['Gestation'].mean().round(4)\n",
        "\n",
        "print(f'The mean gestational age of SMOKING mothers is: {SM_GestAge} weeks')\n",
        "\n",
        "NSM_Gestage = df[df['smoker'] == 'Non-smoker']['Gestation'].mean().round(4)\n",
        "\n",
        "print(f'The mean gestational age of NON-SMOKING mothers is: {NSM_Gestage} weeks')"
      ],
      "metadata": {
        "colab": {
          "base_uri": "https://localhost:8080/"
        },
        "id": "IVQIuxJa3qqI",
        "outputId": "51d4d34f-82f7-47a6-cdab-93ddbbb8eb87"
      },
      "execution_count": null,
      "outputs": [
        {
          "output_type": "stream",
          "name": "stdout",
          "text": [
            "The mean gestational age of SMOKING mothers is: 38.9545 weeks\n",
            "The mean gestational age of NON-SMOKING mothers is: 39.45 weeks\n"
          ]
        }
      ]
    },
    {
      "cell_type": "markdown",
      "source": [
        "### Q5. What is the maximum head circumference for babies of non-smoking mothers?"
      ],
      "metadata": {
        "id": "4yqx0RM_5zrH"
      }
    },
    {
      "cell_type": "code",
      "source": [
        "# Max head circumference, non smoking mothers\n",
        "\n",
        "NSM_MaxHeadcirc = df[df['smoker'] == 'Non-smoker']['Headcirc'].max()\n",
        "\n",
        "print(f'The maximum head circumference of NON-SMOKING mothers is: {NSM_MaxHeadcirc} cm')\n",
        "\n",
        "SM_MaxHeadcirc = df[df['smoker'] == 'Smoker']['Headcirc'].max()\n",
        "\n",
        "print(f'The maximum head circumference of SMOKING mothers is: {SM_MaxHeadcirc} cm')"
      ],
      "metadata": {
        "colab": {
          "base_uri": "https://localhost:8080/"
        },
        "id": "kxVuE3vc5xHe",
        "outputId": "8ca58b8d-f28b-4a6b-94ad-d34b768d80b1"
      },
      "execution_count": null,
      "outputs": [
        {
          "output_type": "stream",
          "name": "stdout",
          "text": [
            "The maximum head circumference of NON-SMOKING mothers is: 39.0 cm\n",
            "The maximum head circumference of SMOKING mothers is: 39.0 cm\n"
          ]
        }
      ]
    },
    {
      "cell_type": "markdown",
      "source": [
        "### Q6. What is the minimum gestational age at birth for babies of smoking mothers?"
      ],
      "metadata": {
        "id": "qFSZNkn87YNA"
      }
    },
    {
      "cell_type": "code",
      "source": [
        "# Min gestational age, smoking mothers\n",
        "\n",
        "SM_MinGestAge = df[df['smoker'] =='Smoker']['Gestation'].min()\n",
        "\n",
        "print(f'The minimum gestational age of SMOKING mothers is: {SM_MinGestAge} weeks')\n",
        "\n",
        "NSM_MinGestAge = df[df['smoker'] =='Non-smoker']['Gestation'].min()\n",
        "\n",
        "print(f'The minimum gestational age of NON-SMOKING mothers is: {NSM_MinGestAge} weeks')"
      ],
      "metadata": {
        "colab": {
          "base_uri": "https://localhost:8080/"
        },
        "id": "xuKVR9Hk7aov",
        "outputId": "f143769f-8458-448d-9585-4dc8a8c092c9"
      },
      "execution_count": null,
      "outputs": [
        {
          "output_type": "stream",
          "name": "stdout",
          "text": [
            "The minimum gestational age of SMOKING mothers is: 33.0 weeks\n",
            "The minimum gestational age of NON-SMOKING mothers is: 33.0 weeks\n"
          ]
        }
      ]
    },
    {
      "cell_type": "markdown",
      "source": [
        "### Q7. Based on the dataset you have, out of the two, which one would be a better bet:\n",
        "  * Pregnancy period in smoking mothers is shorter\n",
        "  * Pregnancy period in non-smoking mothers is shorter\n"
      ],
      "metadata": {
        "id": "n5rIgEY4-0pa"
      }
    },
    {
      "cell_type": "code",
      "source": [
        "# Distribution chart of gestational age X smokers or non-smokers\n",
        "\n",
        "sns.displot(data= df, x= 'Gestation', hue= 'smoker', kde= True)\n",
        "\n",
        "print(df[df['smoker'] == 'Smoker']['Gestation'].mean(), 'Smoker mean')\n",
        "print(df[df['smoker'] == 'Non-smoker']['Gestation'].mean(), 'NON-smoker mean')\n",
        "\n",
        "\n",
        "print(df[df['smoker'] == 'Smoker']['Gestation'].median(), 'Smoker median')\n",
        "print(df[df['smoker'] == 'Non-smoker']['Gestation'].median(), 'NON-smoker median')"
      ],
      "metadata": {
        "colab": {
          "base_uri": "https://localhost:8080/",
          "height": 443
        },
        "id": "l9XY5SgF-7Im",
        "outputId": "4d50f8d4-a47f-4234-f26f-922c99690f83"
      },
      "execution_count": null,
      "outputs": [
        {
          "output_type": "stream",
          "name": "stdout",
          "text": [
            "38.95454545454545 Smoker mean\n",
            "39.45 NON-smoker mean\n",
            "39.0 Smoker median\n",
            "40.0 NON-smoker median\n"
          ]
        },
        {
          "output_type": "display_data",
          "data": {
            "text/plain": [
              "<Figure size 456x360 with 1 Axes>"
            ],
            "image/png": "[encoded data removed]"
          },
          "metadata": {
            "needs_background": "light"
          }
        }
      ]
    },
    {
      "cell_type": "markdown",
      "source": [
        "### Q8. Justify the above choice in a few words."
      ],
      "metadata": {
        "id": "Y4eukQYrC_s4"
      }
    },
    {
      "cell_type": "code",
      "source": [
        "# Based on the mean and median, smoking mothers has a shorter pregnancy period, with their babies being born with an average half week before.\n",
        "\n",
        "# Booth mean and median shows a shorter gestational age for smokers."
      ],
      "metadata": {
        "id": "xhVyVH14CKPu"
      },
      "execution_count": null,
      "outputs": []
    },
    {
      "cell_type": "markdown",
      "source": [
        "### Q9. What is the baby birth weight range for babies of smoking mothers?"
      ],
      "metadata": {
        "id": "Br78z6EhDHsp"
      }
    },
    {
      "cell_type": "code",
      "source": [
        "# distribution, minimal and maximum value of birth weight for smoking mothers\n",
        "\n",
        "sns.displot(data= df[df['smoker'] == 'Smoker'], x= 'Birthweight')\n",
        "\n",
        "print(df[df['smoker'] == 'Smoker']['Birthweight'].mean())\n",
        "print(df[df['smoker'] == 'Smoker']['Birthweight'].min())\n",
        "print(df[df['smoker'] == 'Smoker']['Birthweight'].max())"
      ],
      "metadata": {
        "colab": {
          "base_uri": "https://localhost:8080/",
          "height": 424
        },
        "id": "b_rrT190DJ2h",
        "outputId": "6c89ebf6-d438-49f8-af4c-58f0f50bae1b"
      },
      "execution_count": null,
      "outputs": [
        {
          "output_type": "stream",
          "name": "stdout",
          "text": [
            "3.1340909090909093\n",
            "1.92\n",
            "4.57\n"
          ]
        },
        {
          "output_type": "display_data",
          "data": {
            "text/plain": [
              "<Figure size 360x360 with 1 Axes>"
            ],
            "image/png": "[encoded data removed]"
          },
          "metadata": {
            "needs_background": "light"
          }
        }
      ]
    },
    {
      "cell_type": "code",
      "source": [
        "# distribution, minimal and maximum value of birth weight for Non-smoking mothers\n",
        "\n",
        "sns.displot(data= df[df['smoker'] == 'Non-smoker'], x= 'Birthweight')\n",
        "\n",
        "print(df[df['smoker'] == 'Non-smoker']['Birthweight'].mean())\n",
        "print(df[df['smoker'] == 'Non-smoker']['Birthweight'].min())\n",
        "print(df[df['smoker'] == 'Non-smoker']['Birthweight'].max())\n"
      ],
      "metadata": {
        "colab": {
          "base_uri": "https://localhost:8080/",
          "height": 424
        },
        "id": "bAiOUphIEgph",
        "outputId": "bfd8e003-9957-4dd3-9f3f-43bbd07324cd"
      },
      "execution_count": null,
      "outputs": [
        {
          "output_type": "stream",
          "name": "stdout",
          "text": [
            "3.5095000000000005\n",
            "2.65\n",
            "4.55\n"
          ]
        },
        {
          "output_type": "display_data",
          "data": {
            "text/plain": [
              "<Figure size 360x360 with 1 Axes>"
            ],
            "image/png": "[encoded data removed]"
          },
          "metadata": {
            "needs_background": "light"
          }
        }
      ]
    },
    {
      "cell_type": "markdown",
      "source": [
        "### Q10. In your own words describe what the value of the above range for baby's birthweight tells us about smoking versus non-smoking mothers?"
      ],
      "metadata": {
        "id": "xcztN0GtHQMB"
      }
    },
    {
      "cell_type": "code",
      "source": [
        "# Birth weight mean of smoking mothers babies is lower than non-smoking mothers babies\n",
        "# Birth weight of smoking mothers babies tends to be smaller\n",
        "# The minimum birth weight of SM mothers babies is almost 0.7 kg lower than NSM Mothers babies"
      ],
      "metadata": {
        "id": "WIRMd0nQHSjd"
      },
      "execution_count": null,
      "outputs": []
    },
    {
      "cell_type": "markdown",
      "source": [
        "### Q11. Are head circumference data for babies of smoking mothers normally distributed?"
      ],
      "metadata": {
        "id": "ytEfztAIITbA"
      }
    },
    {
      "cell_type": "code",
      "source": [
        "sns.displot(data= df[df['smoker'] == 'Smoker'], x= 'Headcirc', kde= True)"
      ],
      "metadata": {
        "colab": {
          "base_uri": "https://localhost:8080/",
          "height": 387
        },
        "id": "HVGio0AEIWng",
        "outputId": "edb82a6a-7dbf-43d4-ccdb-b22ce1bb9874"
      },
      "execution_count": null,
      "outputs": [
        {
          "output_type": "execute_result",
          "data": {
            "text/plain": [
              "<seaborn.axisgrid.FacetGrid at 0x7f4d70281750>"
            ]
          },
          "metadata": {},
          "execution_count": 36
        },
        {
          "output_type": "display_data",
          "data": {
            "text/plain": [
              "<Figure size 360x360 with 1 Axes>"
            ],
            "image/png": "[encoded data removed]"
          },
          "metadata": {
            "needs_background": "light"
          }
        }
      ]
    },
    {
      "cell_type": "code",
      "source": [
        "# Algebric way to determine normal distribution\n",
        "\n",
        "# Determine mean and std deviation\n",
        "\n",
        "HC_mean = df[df['smoker'] == 'Smoker']['Headcirc'].mean()\n",
        "HC_std = df[df['smoker'] == 'Smoker']['Headcirc'].std()\n",
        "\n",
        "print(f'Mean Head Circunference for babies of smoking mothers is: {HC_mean} cm')\n",
        "print(f'Standard Deviation Head Circunference for babies of smoking mothers is: {HC_std} cm from the mean')\n",
        "print(df[df['smoker'] == 'Smoker']['Headcirc'].shape)\n",
        "\n",
        "# Using Shapiro-Wilk test, if P value is greater than 0.05, then the data is normally distributed, whatever not...\n",
        "\n",
        "SM_HC_data = df[df['smoker'] == 'Smoker']['Headcirc']\n",
        "shapiro(SM_HC_data)"
      ],
      "metadata": {
        "colab": {
          "base_uri": "https://localhost:8080/"
        },
        "id": "myi305WcJeXF",
        "outputId": "a41e509d-1b42-43ce-9640-06ba81a7b081"
      },
      "execution_count": null,
      "outputs": [
        {
          "output_type": "stream",
          "name": "stdout",
          "text": [
            "Mean Head Circunference for babies of smoking mothers is: 34.18181818181818 cm\n",
            "Standard Deviation Head Circunference for babies of smoking mothers is: 2.630161386255398 cm from the mean\n",
            "(22,)\n"
          ]
        },
        {
          "output_type": "execute_result",
          "data": {
            "text/plain": [
              "ShapiroResult(statistic=0.9536522030830383, pvalue=0.3723842203617096)"
            ]
          },
          "metadata": {},
          "execution_count": 37
        }
      ]
    },
    {
      "cell_type": "code",
      "source": [
        "# Since the P-value is 0.37, wich is greater than the threshold (0.05), then we fail to reject the null hypothesis\n",
        "# We do not have sufficient evidence to say that the sample does not come from a normal distribution\n",
        "# So, the data is normal distributed"
      ],
      "metadata": {
        "id": "ZTo5YWDjOGa-"
      },
      "execution_count": null,
      "outputs": []
    },
    {
      "cell_type": "markdown",
      "source": [
        "### Q12. What is the significance value for the above on the Shapiro-Wilk test?"
      ],
      "metadata": {
        "id": "sWBuL7shPyP4"
      }
    },
    {
      "cell_type": "code",
      "source": [
        "print(f'The significance value is {shapiro(SM_HC_data)[1]}')"
      ],
      "metadata": {
        "colab": {
          "base_uri": "https://localhost:8080/"
        },
        "id": "sb98YTBrPzMk",
        "outputId": "500f3da4-30be-41c0-d28e-b25af442dc90"
      },
      "execution_count": null,
      "outputs": [
        {
          "output_type": "stream",
          "name": "stdout",
          "text": [
            "The significance value is 0.3723842203617096\n"
          ]
        }
      ]
    },
    {
      "cell_type": "markdown",
      "source": [
        "### Q13. What is the standard score (Z-score) for head circumference of 35.05 (X=35.05) in non-smoking mothers?"
      ],
      "metadata": {
        "id": "BMjA4SpoRA9h"
      }
    },
    {
      "cell_type": "code",
      "source": [
        "# Calculate mean and std for non-smoking mothers\n",
        "\n",
        "HCN_mean = df[df['smoker'] == 'Non-smoker']['Headcirc'].mean()\n",
        "HCN_std = df[df['smoker'] == 'Non-smoker']['Headcirc'].std()\n",
        "\n",
        "print(f'Mean Head Circunference for babies of Non-smoking mothers is: {HCN_mean} cm')\n",
        "print(f'Standard Deviation Head Circunference for babies of Non-smoking mothers is: {HCN_std} cm from the mean')\n",
        "print(df[df['smoker'] == 'Non-smoker']['Headcirc'].shape)"
      ],
      "metadata": {
        "colab": {
          "base_uri": "https://localhost:8080/"
        },
        "id": "4MYsjaC2RCKl",
        "outputId": "569c6a68-0420-4c0d-9941-5ab415a8da3c"
      },
      "execution_count": null,
      "outputs": [
        {
          "output_type": "stream",
          "name": "stdout",
          "text": [
            "Mean Head Circunference for babies of Non-smoking mothers is: 35.05 cm\n",
            "Standard Deviation Head Circunference for babies of Non-smoking mothers is: 2.0894471693929497 cm from the mean\n",
            "(20,)\n"
          ]
        }
      ]
    },
    {
      "cell_type": "code",
      "source": [
        "# z = (x - mean) / std\n",
        "\n",
        "# As the mean value is equal to 35.05, the Z-score of the mean value is 0\n",
        "\n",
        "Z_score = (35.05 - 35.05) / 2.08\n",
        "print(Z_score)"
      ],
      "metadata": {
        "colab": {
          "base_uri": "https://localhost:8080/"
        },
        "id": "spRzNOhzTF_Y",
        "outputId": "87f2d85b-4e8c-4dc7-8b86-3efb4b3cb8e3"
      },
      "execution_count": null,
      "outputs": [
        {
          "output_type": "stream",
          "name": "stdout",
          "text": [
            "0.0\n"
          ]
        }
      ]
    },
    {
      "cell_type": "markdown",
      "source": [
        "### Q14. How are birth weight data of non-smoking mothers skewed?"
      ],
      "metadata": {
        "id": "hI6HgTw8UQkM"
      }
    },
    {
      "cell_type": "code",
      "source": [
        "# distribution, minimal and maximum value of birth weight for Non-smoking mothers\n",
        "\n",
        "\n",
        "ax = sns.displot(data= df[df['smoker'] == 'Non-smoker'], x= 'Birthweight', kde=True)\n",
        "plt.axvline(x= df[df['smoker'] == 'Non-smoker']['Birthweight'].mean(), color= 'r', ls = '--')\n",
        "plt.text(3.55, 6.2, 'Mean', rotation= 90, color='r')\n",
        "\n",
        "plt.axvline(x= df[df['smoker'] == 'Non-smoker']['Birthweight'].median(), color= 'g', ls = '--')\n",
        "plt.text(3.3, 6.2, 'Median', rotation= 90, color='g')\n",
        "\n",
        "print(df[df['smoker'] == 'Non-smoker']['Birthweight'].mean(), 'Mean')\n",
        "print(df[df['smoker'] == 'Non-smoker']['Birthweight'].median(), 'Median')\n",
        "\n",
        "# As the median is lower than the mean, we can afirm that this data is Left Skewed, or positive skewed"
      ],
      "metadata": {
        "colab": {
          "base_uri": "https://localhost:8080/",
          "height": 436
        },
        "id": "ZTviD_CGUQIf",
        "outputId": "27dd5704-5ffc-40a5-a081-d2405e5eac5e"
      },
      "execution_count": null,
      "outputs": [
        {
          "output_type": "stream",
          "name": "stdout",
          "text": [
            "3.5095000000000005 Mean\n",
            "3.385 Median\n"
          ]
        },
        {
          "output_type": "display_data",
          "data": {
            "text/plain": [
              "<Figure size 360x360 with 1 Axes>"
            ],
            "image/png": "[encoded data removed]"
          },
          "metadata": {
            "needs_background": "light"
          }
        }
      ]
    },
    {
      "cell_type": "markdown",
      "source": [
        "### Q15. Are birth weight data for babies of smoking mothers normally distributed?"
      ],
      "metadata": {
        "id": "JYpU8b2MrIJL"
      }
    },
    {
      "cell_type": "code",
      "source": [
        "# Determine mean and std deviation\n",
        "\n",
        "BW_mean = df[df['smoker'] == 'Smoker']['Birthweight'].mean()\n",
        "BW_std = df[df['smoker'] == 'Smoker']['Birthweight'].std()\n",
        "\n",
        "print(f'Mean Birth Weight for babies of smoking mothers is: {BW_mean} cm')\n",
        "print(f'Standard Deviation Birth Weight for babies of smoking mothers is: {BW_std} cm from the mean')\n",
        "print(df[df['smoker'] == 'Smoker']['Birthweight'].shape)\n",
        "\n",
        "# Using Shapiro-Wilk test, if P value is greater than 0.05, then the data is normally distributed, whatever not...\n",
        "\n",
        "SM_BW_data = df[df['smoker'] == 'Smoker']['Birthweight']\n",
        "shapiro(SM_BW_data)\n",
        "\n"
      ],
      "metadata": {
        "colab": {
          "base_uri": "https://localhost:8080/"
        },
        "id": "zScGwQdsrNvF",
        "outputId": "407a9747-d068-4e9c-a573-dbaff7c6ee17"
      },
      "execution_count": null,
      "outputs": [
        {
          "output_type": "stream",
          "name": "stdout",
          "text": [
            "Mean Birth Weight for babies of smoking mothers is: 3.1340909090909093 cm\n",
            "Standard Deviation Birth Weight for babies of smoking mothers is: 0.631247133635428 cm from the mean\n",
            "(22,)\n"
          ]
        },
        {
          "output_type": "execute_result",
          "data": {
            "text/plain": [
              "ShapiroResult(statistic=0.9824167490005493, pvalue=0.9494719505310059)"
            ]
          },
          "metadata": {},
          "execution_count": 43
        }
      ]
    },
    {
      "cell_type": "code",
      "source": [
        "# Since the P-value is 0.94, wich is greater than the threshold (0.05), then we fail to reject the null hypothesis\n",
        "# We do not have sufficient evidence to say that the sample does not come from a normal distribution\n",
        "# So, the data is normal distributed"
      ],
      "metadata": {
        "id": "LBvVKbR4t3_l"
      },
      "execution_count": null,
      "outputs": []
    },
    {
      "cell_type": "markdown",
      "source": [
        "### Q16. What is the significance value for the above on the Shapiro-Wilk test?"
      ],
      "metadata": {
        "id": "rfPbxmMft_FU"
      }
    },
    {
      "cell_type": "code",
      "source": [
        "print(f'The significance value is {shapiro(SM_BW_data)[1]}')"
      ],
      "metadata": {
        "colab": {
          "base_uri": "https://localhost:8080/"
        },
        "id": "6bsR7BMyuAMA",
        "outputId": "8dfa4017-958f-4c4a-b3c2-93c7b4f79d03"
      },
      "execution_count": null,
      "outputs": [
        {
          "output_type": "stream",
          "name": "stdout",
          "text": [
            "The significance value is 0.9494719505310059\n"
          ]
        }
      ]
    },
    {
      "cell_type": "markdown",
      "source": [
        "### Q17. Based on the dataset you have, how confident can you be in saying that a baby's birth weight will be +/- 1 standard deviation from the mean?"
      ],
      "metadata": {
        "id": "tN3z5PJbuJrc"
      }
    },
    {
      "cell_type": "code",
      "source": [
        "# distribution, minimal and maximum value of birth weight\n",
        "\n",
        "ax = sns.displot(data= df, x= 'Birthweight', kde=True)\n",
        "plt.axvline(x= df['Birthweight'].mean(), color= 'r', ls = '--')\n",
        "plt.text(3.5, 11, 'Mean', rotation= 90, color='r')\n",
        "\n",
        "plt.axvline(x= df['Birthweight'].median(), color= 'g', ls = '--')\n",
        "plt.text(2.9, 11, 'Median', rotation= 90, color='g')\n",
        "\n",
        "print(df['Birthweight'].mean(), 'Mean')\n",
        "print(df['Birthweight'].median(), 'Median')\n",
        "\n",
        "# As the median is greater, but almost equal to mean, we can afirm that this data is almost simmetrical, slightly left skewed or positive skewed"
      ],
      "metadata": {
        "colab": {
          "base_uri": "https://localhost:8080/",
          "height": 406
        },
        "id": "JGkX-cdauM8Q",
        "outputId": "822b0ec5-b562-4f8f-d502-b6901d10bbf7"
      },
      "execution_count": null,
      "outputs": [
        {
          "output_type": "stream",
          "name": "stdout",
          "text": [
            "3.312857142857143 Mean\n",
            "3.295 Median\n"
          ]
        },
        {
          "output_type": "display_data",
          "data": {
            "text/plain": [
              "<Figure size 360x360 with 1 Axes>"
            ],
            "image/png": "[encoded data removed]"
          },
          "metadata": {
            "needs_background": "light"
          }
        }
      ]
    },
    {
      "cell_type": "code",
      "source": [
        "# As a normal distribution, the possibility that baby's birth weight is between minus and plus 1 standard deviation from the mean is 68.27%"
      ],
      "metadata": {
        "id": "WASeZuehzhfS"
      },
      "execution_count": null,
      "outputs": []
    },
    {
      "cell_type": "markdown",
      "source": [
        "### Q18. Based on the dataset you have, what is the probability that the birth weight for a baby of a smoking mother will be less than 4.2 kg?"
      ],
      "metadata": {
        "id": "10HqKh7U0kW3"
      }
    },
    {
      "cell_type": "code",
      "source": [
        "# distribution, minimal and maximum value of birth weight for Smoking mothers\n",
        "\n",
        "ax = sns.displot(data= df[df['smoker'] == 'Smoker'], x= 'Birthweight', kde=True)\n",
        "plt.axvline(x= df[df['smoker'] == 'Smoker']['Birthweight'].mean(), color= 'r', ls = '--')\n",
        "plt.text(3, 6, 'Mean', rotation= 90, color='r')\n",
        "\n",
        "plt.axvline(x= df[df['smoker'] == 'Smoker']['Birthweight'].median(), color= 'g', ls = '--')\n",
        "plt.text(3.3, 6, 'Median', rotation= 90, color='g')\n",
        "\n",
        "print(df[df['smoker'] == 'Smoker']['Birthweight'].mean(), 'mean')\n",
        "print(df[df['smoker'] == 'Smoker']['Birthweight'].median(), 'median')\n",
        "print(df[df['smoker'] == 'Smoker']['Birthweight'].std(), 'std')"
      ],
      "metadata": {
        "colab": {
          "base_uri": "https://localhost:8080/",
          "height": 424
        },
        "id": "TtVa92Cc0no0",
        "outputId": "5bbf03f5-b96a-4dd5-c551-fe477f3722ff"
      },
      "execution_count": null,
      "outputs": [
        {
          "output_type": "stream",
          "name": "stdout",
          "text": [
            "3.1340909090909093 mean\n",
            "3.185 median\n",
            "0.631247133635428 std\n"
          ]
        },
        {
          "output_type": "display_data",
          "data": {
            "text/plain": [
              "<Figure size 360x360 with 1 Axes>"
            ],
            "image/png": "[encoded data removed]"
          },
          "metadata": {
            "needs_background": "light"
          }
        }
      ]
    },
    {
      "cell_type": "code",
      "source": [
        "# z = (x - mean) / std\n",
        "\n",
        "# As the mean value is equal to 3.134, the Z-score of 4.2 is 1.6893 std from the mean\n",
        "\n",
        "Z_score = (4.2 - 3.134) / 0.631\n",
        "print(Z_score)\n",
        "\n",
        "3.134 + (Z_score * 0.63)"
      ],
      "metadata": {
        "colab": {
          "base_uri": "https://localhost:8080/"
        },
        "id": "mgtmg6JW39u-",
        "outputId": "d8b09413-1ea3-43d9-f927-18b8670aecab"
      },
      "execution_count": null,
      "outputs": [
        {
          "output_type": "stream",
          "name": "stdout",
          "text": [
            "1.6893819334389861\n"
          ]
        },
        {
          "output_type": "execute_result",
          "data": {
            "text/plain": [
              "4.198310618066561"
            ]
          },
          "metadata": {},
          "execution_count": 49
        }
      ]
    },
    {
      "cell_type": "code",
      "source": [
        "# using the table z-score, the value of the probability is 0.95449\n",
        "\n",
        "# using python libraries\n",
        "\n",
        "# finding p-value\n",
        "\n",
        "p_value = scipy.stats.norm.sf(Z_score)\n",
        "print('p value is : ' + str(p_value))\n",
        "\n",
        "print(1- p_value)"
      ],
      "metadata": {
        "colab": {
          "base_uri": "https://localhost:8080/"
        },
        "id": "7rEdPU4d_HoE",
        "outputId": "dbf4eda7-8641-49c8-b7fd-de5700977203"
      },
      "execution_count": null,
      "outputs": [
        {
          "output_type": "stream",
          "name": "stdout",
          "text": [
            "p value is : 0.045573130473143104\n",
            "0.9544268695268568\n"
          ]
        }
      ]
    },
    {
      "cell_type": "markdown",
      "source": [
        "### Q19. Are data for length of baby of non-smoking mothers normally distributed?"
      ],
      "metadata": {
        "id": "CYXhyWBvQDCF"
      }
    },
    {
      "cell_type": "code",
      "source": [
        "# Determine mean and std deviation\n",
        "\n",
        "BL_mean = df[df['smoker'] == 'Non-smoker']['Length'].mean()\n",
        "BL_std = df[df['smoker'] == 'Non-smoker']['Length'].std()\n",
        "\n",
        "print(f'Mean Birth Length for babies of NON smoking mothers is: {BL_mean} cm')\n",
        "print(f'Standard Deviation Birth Length for babies of NON smoking mothers is: {BL_std} cm from the mean')\n",
        "print(df[df['smoker'] == 'Non-smoker']['Length'].shape)\n",
        "\n",
        "# Using Shapiro-Wilk test, if P value is greater than 0.05, then the data is normally distributed, whatever not...\n",
        "\n",
        "NSM_BL_data = df[df['smoker'] == 'Non-smoker']['Length']\n",
        "shapiro(NSM_BL_data)"
      ],
      "metadata": {
        "colab": {
          "base_uri": "https://localhost:8080/"
        },
        "id": "PFKAHy8RQENd",
        "outputId": "3425a47f-194f-474b-97b9-7f49b4d55cb0"
      },
      "execution_count": null,
      "outputs": [
        {
          "output_type": "stream",
          "name": "stdout",
          "text": [
            "Mean Birth Length for babies of NON smoking mothers is: 51.8 cm\n",
            "Standard Deviation Birth Length for babies of NON smoking mothers is: 3.254147151591416 cm from the mean\n",
            "(20,)\n"
          ]
        },
        {
          "output_type": "execute_result",
          "data": {
            "text/plain": [
              "ShapiroResult(statistic=0.9122545123100281, pvalue=0.07037191092967987)"
            ]
          },
          "metadata": {},
          "execution_count": 64
        }
      ]
    },
    {
      "cell_type": "markdown",
      "source": [
        "### Q20. What is the significance value for the above on the Shapiro-Wilk test?"
      ],
      "metadata": {
        "id": "gewrffIuQF_K"
      }
    },
    {
      "cell_type": "code",
      "source": [
        "print(f'The significance value is {shapiro(NSM_BL_data)[1]}')"
      ],
      "metadata": {
        "colab": {
          "base_uri": "https://localhost:8080/"
        },
        "id": "Kj_oIFC4QIb9",
        "outputId": "589fc219-a2ca-41fd-d409-96225a5701cd"
      },
      "execution_count": null,
      "outputs": [
        {
          "output_type": "stream",
          "name": "stdout",
          "text": [
            "The significance value is 0.07037191092967987\n"
          ]
        }
      ]
    },
    {
      "cell_type": "markdown",
      "source": [
        "### Q21. What is the standard score for the length of a baby of 48.5cm for non-smoking mothers?"
      ],
      "metadata": {
        "id": "NCDrUyL0QJCt"
      }
    },
    {
      "cell_type": "code",
      "source": [
        "# z = (x - mean) / std\n",
        "\n",
        "# As the mean value is equal to 51.08, the Z-score of the mean value is\n",
        "\n",
        "Z_score_BL = (48.5 - BL_mean) / BL_std\n",
        "print(Z_score_BL)"
      ],
      "metadata": {
        "colab": {
          "base_uri": "https://localhost:8080/"
        },
        "id": "_HQDxNRCQLM0",
        "outputId": "1ff6b56b-b0cb-4309-c14f-dc81abc2400d"
      },
      "execution_count": null,
      "outputs": [
        {
          "output_type": "stream",
          "name": "stdout",
          "text": [
            "-1.0140905884929503\n"
          ]
        }
      ]
    },
    {
      "cell_type": "markdown",
      "source": [
        "### Q22. Based on the dataset you have, what is the probability that the length of baby for non-smoking mothers will be more than 55 cm?"
      ],
      "metadata": {
        "id": "vW2aLjDzQL-g"
      }
    },
    {
      "cell_type": "code",
      "source": [
        "# using the table z-score, the value of the probability is 0.1562\n",
        "\n",
        "# using python libraries\n",
        "\n",
        "# finding p-value\n",
        "\n",
        "p_value = scipy.stats.norm.sf(Z_score_BL)\n",
        "print('p value is : ' + str(p_value))\n",
        "\n",
        "print(1- p_value)"
      ],
      "metadata": {
        "colab": {
          "base_uri": "https://localhost:8080/"
        },
        "id": "BvJ2SEk6QOY4",
        "outputId": "a1179cc5-ecb5-4494-827f-23a6cdc09013"
      },
      "execution_count": null,
      "outputs": [
        {
          "output_type": "stream",
          "name": "stdout",
          "text": [
            "p value is : 0.8447302357671733\n",
            "0.15526976423282668\n"
          ]
        }
      ]
    }
  ]
}