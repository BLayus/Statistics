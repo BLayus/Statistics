{
  "nbformat": 4,
  "nbformat_minor": 0,
  "metadata": {
    "colab": {
      "provenance": [],
      "authorship_tag": "ABX9TyPQOcvqXEXj7D/Qj/3jDutY",
      "include_colab_link": true
    },
    "kernelspec": {
      "name": "python3",
      "display_name": "Python 3"
    },
    "language_info": {
      "name": "python"
    }
  },
  "cells": [
    {
      "cell_type": "markdown",
      "metadata": {
        "id": "view-in-github",
        "colab_type": "text"
      },
      "source": [
        "<a href=\"https://colab.research.google.com/github/BLayus/Statistics/blob/main/DA_Brainnest_Week4.ipynb\" target=\"_parent\"><img src=\"https://colab.research.google.com/assets/colab-badge.svg\" alt=\"Open In Colab\"/></a>"
      ]
    },
    {
      "cell_type": "code",
      "execution_count": null,
      "metadata": {
        "colab": {
          "base_uri": "https://localhost:8080/"
        },
        "id": "_p7wcjXhcBnz",
        "outputId": "1401cfa8-227b-45d0-ee02-c2f964fc96d6"
      },
      "outputs": [
        {
          "output_type": "stream",
          "name": "stdout",
          "text": [
            "Looking in indexes: https://pypi.org/simple, https://us-python.pkg.dev/colab-wheels/public/simple/\n",
            "Collecting pyreadstat\n",
            "  Downloading pyreadstat-1.2.0-cp38-cp38-manylinux_2_17_x86_64.manylinux2014_x86_64.whl (2.7 MB)\n",
            "\u001b[K     |████████████████████████████████| 2.7 MB 5.1 MB/s \n",
            "\u001b[?25hRequirement already satisfied: pandas>=1.2.0 in /usr/local/lib/python3.8/dist-packages (from pyreadstat) (1.3.5)\n",
            "Requirement already satisfied: pytz>=2017.3 in /usr/local/lib/python3.8/dist-packages (from pandas>=1.2.0->pyreadstat) (2022.6)\n",
            "Requirement already satisfied: python-dateutil>=2.7.3 in /usr/local/lib/python3.8/dist-packages (from pandas>=1.2.0->pyreadstat) (2.8.2)\n",
            "Requirement already satisfied: numpy>=1.17.3 in /usr/local/lib/python3.8/dist-packages (from pandas>=1.2.0->pyreadstat) (1.21.6)\n",
            "Requirement already satisfied: six>=1.5 in /usr/local/lib/python3.8/dist-packages (from python-dateutil>=2.7.3->pandas>=1.2.0->pyreadstat) (1.15.0)\n",
            "Installing collected packages: pyreadstat\n",
            "Successfully installed pyreadstat-1.2.0\n"
          ]
        }
      ],
      "source": [
        "# Import libraries\n",
        "\n",
        "!pip install pyreadstat\n",
        "\n",
        "import pyreadstat\n",
        "\n",
        "import pandas as pd\n",
        "import numpy as np\n",
        "\n",
        "import matplotlib.pyplot as plt\n",
        "import seaborn as sns\n",
        "\n",
        "from scipy import stats\n",
        "from scipy.stats import shapiro\n",
        "from scipy.stats import f_oneway\n",
        "from scipy.stats import boxcox\n",
        "import scipy.stats\n",
        "\n",
        "import statsmodels.api as sm\n"
      ]
    },
    {
      "cell_type": "code",
      "source": [
        "# Open the dataset on google drive mount\n",
        "\n",
        "from google.colab import drive\n",
        "drive.mount('/content/drive')\n",
        "df = pd.read_spss('/content/drive/MyDrive/DA Brainest/Week 4/Dataset/PickUpLines.sav')"
      ],
      "metadata": {
        "colab": {
          "base_uri": "https://localhost:8080/"
        },
        "id": "KCVX7i0kcZMn",
        "outputId": "fb8a2463-363d-4275-9bc4-501dfaba2328"
      },
      "execution_count": null,
      "outputs": [
        {
          "output_type": "stream",
          "name": "stdout",
          "text": [
            "Mounted at /content/drive\n"
          ]
        }
      ]
    },
    {
      "cell_type": "code",
      "source": [
        "# Take a first look at the dataset\n",
        "\n",
        "display(df.head(5))\n"
      ],
      "metadata": {
        "colab": {
          "base_uri": "https://localhost:8080/",
          "height": 206
        },
        "id": "rFmF-qVOeeT8",
        "outputId": "df9ef0ad-3df9-44d0-fabe-a4acaba334d6"
      },
      "execution_count": null,
      "outputs": [
        {
          "output_type": "display_data",
          "data": {
            "text/plain": [
              "   ParticipantNumber                                PickUp  \\\n",
              "0                1.0  Cute-Direct (Experimental Condition)   \n",
              "1                2.0  Cute-Direct (Experimental Condition)   \n",
              "2                3.0  Cute-Direct (Experimental Condition)   \n",
              "3                4.0  Cute-Direct (Experimental Condition)   \n",
              "4                5.0     Direct-Direct (Control Condition)   \n",
              "\n",
              "                            Scent  Receptivity  Gender   Age  \\\n",
              "0    No Spray (Control Condition)      3.25424  female  21.0   \n",
              "1  Spray (Experimental Condition)      4.43760  female  19.0   \n",
              "2  Spray (Experimental Condition)      4.43760  female  21.0   \n",
              "3  Spray (Experimental Condition)      3.91988  female  19.0   \n",
              "4    No Spray (Control Condition)      3.99384  female  20.0   \n",
              "\n",
              "           Ethnicity YearInSchool Contraceptive      filter_$  \n",
              "0  white or european    sophomore           Yes  Not Selected  \n",
              "1  white or european       junior            No      Selected  \n",
              "2  white or european     freshman            No      Selected  \n",
              "3  white or european       junior           Yes  Not Selected  \n",
              "4   eastern or asian    sophomore            No      Selected  "
            ],
            "text/html": [
              "\n",
              "  <div id=\"df-0cdf36c7-a7e8-4a5e-a926-7fb9e07334e7\">\n",
              "    <div class=\"colab-df-container\">\n",
              "      <div>\n",
              "<style scoped>\n",
              "    .dataframe tbody tr th:only-of-type {\n",
              "        vertical-align: middle;\n",
              "    }\n",
              "\n",
              "    .dataframe tbody tr th {\n",
              "        vertical-align: top;\n",
              "    }\n",
              "\n",
              "    .dataframe thead th {\n",
              "        text-align: right;\n",
              "    }\n",
              "</style>\n",
              "<table border=\"1\" class=\"dataframe\">\n",
              "  <thead>\n",
              "    <tr style=\"text-align: right;\">\n",
              "      <th></th>\n",
              "      <th>ParticipantNumber</th>\n",
              "      <th>PickUp</th>\n",
              "      <th>Scent</th>\n",
              "      <th>Receptivity</th>\n",
              "      <th>Gender</th>\n",
              "      <th>Age</th>\n",
              "      <th>Ethnicity</th>\n",
              "      <th>YearInSchool</th>\n",
              "      <th>Contraceptive</th>\n",
              "      <th>filter_$</th>\n",
              "    </tr>\n",
              "  </thead>\n",
              "  <tbody>\n",
              "    <tr>\n",
              "      <th>0</th>\n",
              "      <td>1.0</td>\n",
              "      <td>Cute-Direct (Experimental Condition)</td>\n",
              "      <td>No Spray (Control Condition)</td>\n",
              "      <td>3.25424</td>\n",
              "      <td>female</td>\n",
              "      <td>21.0</td>\n",
              "      <td>white or european</td>\n",
              "      <td>sophomore</td>\n",
              "      <td>Yes</td>\n",
              "      <td>Not Selected</td>\n",
              "    </tr>\n",
              "    <tr>\n",
              "      <th>1</th>\n",
              "      <td>2.0</td>\n",
              "      <td>Cute-Direct (Experimental Condition)</td>\n",
              "      <td>Spray (Experimental Condition)</td>\n",
              "      <td>4.43760</td>\n",
              "      <td>female</td>\n",
              "      <td>19.0</td>\n",
              "      <td>white or european</td>\n",
              "      <td>junior</td>\n",
              "      <td>No</td>\n",
              "      <td>Selected</td>\n",
              "    </tr>\n",
              "    <tr>\n",
              "      <th>2</th>\n",
              "      <td>3.0</td>\n",
              "      <td>Cute-Direct (Experimental Condition)</td>\n",
              "      <td>Spray (Experimental Condition)</td>\n",
              "      <td>4.43760</td>\n",
              "      <td>female</td>\n",
              "      <td>21.0</td>\n",
              "      <td>white or european</td>\n",
              "      <td>freshman</td>\n",
              "      <td>No</td>\n",
              "      <td>Selected</td>\n",
              "    </tr>\n",
              "    <tr>\n",
              "      <th>3</th>\n",
              "      <td>4.0</td>\n",
              "      <td>Cute-Direct (Experimental Condition)</td>\n",
              "      <td>Spray (Experimental Condition)</td>\n",
              "      <td>3.91988</td>\n",
              "      <td>female</td>\n",
              "      <td>19.0</td>\n",
              "      <td>white or european</td>\n",
              "      <td>junior</td>\n",
              "      <td>Yes</td>\n",
              "      <td>Not Selected</td>\n",
              "    </tr>\n",
              "    <tr>\n",
              "      <th>4</th>\n",
              "      <td>5.0</td>\n",
              "      <td>Direct-Direct (Control Condition)</td>\n",
              "      <td>No Spray (Control Condition)</td>\n",
              "      <td>3.99384</td>\n",
              "      <td>female</td>\n",
              "      <td>20.0</td>\n",
              "      <td>eastern or asian</td>\n",
              "      <td>sophomore</td>\n",
              "      <td>No</td>\n",
              "      <td>Selected</td>\n",
              "    </tr>\n",
              "  </tbody>\n",
              "</table>\n",
              "</div>\n",
              "      <button class=\"colab-df-convert\" onclick=\"convertToInteractive('df-0cdf36c7-a7e8-4a5e-a926-7fb9e07334e7')\"\n",
              "              title=\"Convert this dataframe to an interactive table.\"\n",
              "              style=\"display:none;\">\n",
              "        \n",
              "  <svg xmlns=\"http://www.w3.org/2000/svg\" height=\"24px\"viewBox=\"0 0 24 24\"\n",
              "       width=\"24px\">\n",
              "    <path d=\"M0 0h24v24H0V0z\" fill=\"none\"/>\n",
              "    <path d=\"M18.56 5.44l.94 2.06.94-2.06 2.06-.94-2.06-.94-.94-2.06-.94 2.06-2.06.94zm-11 1L8.5 8.5l.94-2.06 2.06-.94-2.06-.94L8.5 2.5l-.94 2.06-2.06.94zm10 10l.94 2.06.94-2.06 2.06-.94-2.06-.94-.94-2.06-.94 2.06-2.06.94z\"/><path d=\"M17.41 7.96l-1.37-1.37c-.4-.4-.92-.59-1.43-.59-.52 0-1.04.2-1.43.59L10.3 9.45l-7.72 7.72c-.78.78-.78 2.05 0 2.83L4 21.41c.39.39.9.59 1.41.59.51 0 1.02-.2 1.41-.59l7.78-7.78 2.81-2.81c.8-.78.8-2.07 0-2.86zM5.41 20L4 18.59l7.72-7.72 1.47 1.35L5.41 20z\"/>\n",
              "  </svg>\n",
              "      </button>\n",
              "      \n",
              "  <style>\n",
              "    .colab-df-container {\n",
              "      display:flex;\n",
              "      flex-wrap:wrap;\n",
              "      gap: 12px;\n",
              "    }\n",
              "\n",
              "    .colab-df-convert {\n",
              "      background-color: #E8F0FE;\n",
              "      border: none;\n",
              "      border-radius: 50%;\n",
              "      cursor: pointer;\n",
              "      display: none;\n",
              "      fill: #1967D2;\n",
              "      height: 32px;\n",
              "      padding: 0 0 0 0;\n",
              "      width: 32px;\n",
              "    }\n",
              "\n",
              "    .colab-df-convert:hover {\n",
              "      background-color: #E2EBFA;\n",
              "      box-shadow: 0px 1px 2px rgba(60, 64, 67, 0.3), 0px 1px 3px 1px rgba(60, 64, 67, 0.15);\n",
              "      fill: #174EA6;\n",
              "    }\n",
              "\n",
              "    [theme=dark] .colab-df-convert {\n",
              "      background-color: #3B4455;\n",
              "      fill: #D2E3FC;\n",
              "    }\n",
              "\n",
              "    [theme=dark] .colab-df-convert:hover {\n",
              "      background-color: #434B5C;\n",
              "      box-shadow: 0px 1px 3px 1px rgba(0, 0, 0, 0.15);\n",
              "      filter: drop-shadow(0px 1px 2px rgba(0, 0, 0, 0.3));\n",
              "      fill: #FFFFFF;\n",
              "    }\n",
              "  </style>\n",
              "\n",
              "      <script>\n",
              "        const buttonEl =\n",
              "          document.querySelector('#df-0cdf36c7-a7e8-4a5e-a926-7fb9e07334e7 button.colab-df-convert');\n",
              "        buttonEl.style.display =\n",
              "          google.colab.kernel.accessAllowed ? 'block' : 'none';\n",
              "\n",
              "        async function convertToInteractive(key) {\n",
              "          const element = document.querySelector('#df-0cdf36c7-a7e8-4a5e-a926-7fb9e07334e7');\n",
              "          const dataTable =\n",
              "            await google.colab.kernel.invokeFunction('convertToInteractive',\n",
              "                                                     [key], {});\n",
              "          if (!dataTable) return;\n",
              "\n",
              "          const docLinkHtml = 'Like what you see? Visit the ' +\n",
              "            '<a target=\"_blank\" href=https://colab.research.google.com/notebooks/data_table.ipynb>data table notebook</a>'\n",
              "            + ' to learn more about interactive tables.';\n",
              "          element.innerHTML = '';\n",
              "          dataTable['output_type'] = 'display_data';\n",
              "          await google.colab.output.renderOutput(dataTable, element);\n",
              "          const docLink = document.createElement('div');\n",
              "          docLink.innerHTML = docLinkHtml;\n",
              "          element.appendChild(docLink);\n",
              "        }\n",
              "      </script>\n",
              "    </div>\n",
              "  </div>\n",
              "  "
            ]
          },
          "metadata": {}
        }
      ]
    },
    {
      "cell_type": "code",
      "source": [
        "df.columns"
      ],
      "metadata": {
        "colab": {
          "base_uri": "https://localhost:8080/"
        },
        "id": "w61kYXI3Di5f",
        "outputId": "0c10c7d9-edf5-4bea-b2a0-8df9586ca8dc"
      },
      "execution_count": null,
      "outputs": [
        {
          "output_type": "execute_result",
          "data": {
            "text/plain": [
              "Index(['ParticipantNumber', 'PickUp', 'Scent', 'Receptivity', 'Gender', 'Age',\n",
              "       'Ethnicity', 'YearInSchool', 'Contraceptive', 'filter_$'],\n",
              "      dtype='object')"
            ]
          },
          "metadata": {},
          "execution_count": 4
        }
      ]
    },
    {
      "cell_type": "code",
      "source": [
        "#creating new columns with dummy data for pickup, scent, contraceptive and filter_$\n",
        "\n",
        "dummy_cols = ['PickUp', 'Scent', 'Gender', 'Contraceptive', 'filter_$']\n",
        "\n",
        "df['PickUp'].replace({'Direct-Direct (Control Condition)': 0, 'Cute-Direct (Experimental Condition)': 1}, inplace=True)\n",
        "\n",
        "df['Scent'].replace({'No Spray (Control Condition)': 0, 'Spray (Experimental Condition)': 1}, inplace=True)\n",
        "\n",
        "df['Contraceptive'].replace({'No': 0, 'Yes': 1}, inplace=True)\n",
        "\n",
        "df['filter_$'].replace({'Not Selected': 0, 'Selected': 1}, inplace=True)\n",
        "\n",
        "display(df)"
      ],
      "metadata": {
        "colab": {
          "base_uri": "https://localhost:8080/",
          "height": 423
        },
        "id": "updJWPKDnq5_",
        "outputId": "ab5518d5-a73f-4a16-dd6e-a0ad3b0df73d"
      },
      "execution_count": null,
      "outputs": [
        {
          "output_type": "display_data",
          "data": {
            "text/plain": [
              "     ParticipantNumber  PickUp  Scent  Receptivity  Gender   Age  \\\n",
              "0                  1.0       1      0      3.25424  female  21.0   \n",
              "1                  2.0       1      1      4.43760  female  19.0   \n",
              "2                  3.0       1      1      4.43760  female  21.0   \n",
              "3                  4.0       1      1      3.91988  female  19.0   \n",
              "4                  5.0       0      0      3.99384  female  20.0   \n",
              "..                 ...     ...    ...          ...     ...   ...   \n",
              "189              190.0       1      0      4.06780  female  23.0   \n",
              "190              191.0       1      0      3.99384  female  21.0   \n",
              "191              192.0       0      1      3.91988  female  20.0   \n",
              "192              193.0       0      1      4.32666  female  20.0   \n",
              "193              194.0       0      1      3.14330  female  19.0   \n",
              "\n",
              "                     Ethnicity YearInSchool  Contraceptive  filter_$  \n",
              "0            white or european    sophomore              1         0  \n",
              "1            white or european       junior              0         1  \n",
              "2            white or european     freshman              0         1  \n",
              "3            white or european       junior              1         0  \n",
              "4             eastern or asian    sophomore              0         1  \n",
              "..                         ...          ...            ...       ...  \n",
              "189          white or european     freshman              1         0  \n",
              "190  hispanic, latino, spanish    sophomore              1         0  \n",
              "191                      other       junior              1         0  \n",
              "192          white or european    sophomore              1         0  \n",
              "193           eastern or asian    sophomore              1         0  \n",
              "\n",
              "[194 rows x 10 columns]"
            ],
            "text/html": [
              "\n",
              "  <div id=\"df-edec29af-e8fb-4ebd-b384-b88722465bbd\">\n",
              "    <div class=\"colab-df-container\">\n",
              "      <div>\n",
              "<style scoped>\n",
              "    .dataframe tbody tr th:only-of-type {\n",
              "        vertical-align: middle;\n",
              "    }\n",
              "\n",
              "    .dataframe tbody tr th {\n",
              "        vertical-align: top;\n",
              "    }\n",
              "\n",
              "    .dataframe thead th {\n",
              "        text-align: right;\n",
              "    }\n",
              "</style>\n",
              "<table border=\"1\" class=\"dataframe\">\n",
              "  <thead>\n",
              "    <tr style=\"text-align: right;\">\n",
              "      <th></th>\n",
              "      <th>ParticipantNumber</th>\n",
              "      <th>PickUp</th>\n",
              "      <th>Scent</th>\n",
              "      <th>Receptivity</th>\n",
              "      <th>Gender</th>\n",
              "      <th>Age</th>\n",
              "      <th>Ethnicity</th>\n",
              "      <th>YearInSchool</th>\n",
              "      <th>Contraceptive</th>\n",
              "      <th>filter_$</th>\n",
              "    </tr>\n",
              "  </thead>\n",
              "  <tbody>\n",
              "    <tr>\n",
              "      <th>0</th>\n",
              "      <td>1.0</td>\n",
              "      <td>1</td>\n",
              "      <td>0</td>\n",
              "      <td>3.25424</td>\n",
              "      <td>female</td>\n",
              "      <td>21.0</td>\n",
              "      <td>white or european</td>\n",
              "      <td>sophomore</td>\n",
              "      <td>1</td>\n",
              "      <td>0</td>\n",
              "    </tr>\n",
              "    <tr>\n",
              "      <th>1</th>\n",
              "      <td>2.0</td>\n",
              "      <td>1</td>\n",
              "      <td>1</td>\n",
              "      <td>4.43760</td>\n",
              "      <td>female</td>\n",
              "      <td>19.0</td>\n",
              "      <td>white or european</td>\n",
              "      <td>junior</td>\n",
              "      <td>0</td>\n",
              "      <td>1</td>\n",
              "    </tr>\n",
              "    <tr>\n",
              "      <th>2</th>\n",
              "      <td>3.0</td>\n",
              "      <td>1</td>\n",
              "      <td>1</td>\n",
              "      <td>4.43760</td>\n",
              "      <td>female</td>\n",
              "      <td>21.0</td>\n",
              "      <td>white or european</td>\n",
              "      <td>freshman</td>\n",
              "      <td>0</td>\n",
              "      <td>1</td>\n",
              "    </tr>\n",
              "    <tr>\n",
              "      <th>3</th>\n",
              "      <td>4.0</td>\n",
              "      <td>1</td>\n",
              "      <td>1</td>\n",
              "      <td>3.91988</td>\n",
              "      <td>female</td>\n",
              "      <td>19.0</td>\n",
              "      <td>white or european</td>\n",
              "      <td>junior</td>\n",
              "      <td>1</td>\n",
              "      <td>0</td>\n",
              "    </tr>\n",
              "    <tr>\n",
              "      <th>4</th>\n",
              "      <td>5.0</td>\n",
              "      <td>0</td>\n",
              "      <td>0</td>\n",
              "      <td>3.99384</td>\n",
              "      <td>female</td>\n",
              "      <td>20.0</td>\n",
              "      <td>eastern or asian</td>\n",
              "      <td>sophomore</td>\n",
              "      <td>0</td>\n",
              "      <td>1</td>\n",
              "    </tr>\n",
              "    <tr>\n",
              "      <th>...</th>\n",
              "      <td>...</td>\n",
              "      <td>...</td>\n",
              "      <td>...</td>\n",
              "      <td>...</td>\n",
              "      <td>...</td>\n",
              "      <td>...</td>\n",
              "      <td>...</td>\n",
              "      <td>...</td>\n",
              "      <td>...</td>\n",
              "      <td>...</td>\n",
              "    </tr>\n",
              "    <tr>\n",
              "      <th>189</th>\n",
              "      <td>190.0</td>\n",
              "      <td>1</td>\n",
              "      <td>0</td>\n",
              "      <td>4.06780</td>\n",
              "      <td>female</td>\n",
              "      <td>23.0</td>\n",
              "      <td>white or european</td>\n",
              "      <td>freshman</td>\n",
              "      <td>1</td>\n",
              "      <td>0</td>\n",
              "    </tr>\n",
              "    <tr>\n",
              "      <th>190</th>\n",
              "      <td>191.0</td>\n",
              "      <td>1</td>\n",
              "      <td>0</td>\n",
              "      <td>3.99384</td>\n",
              "      <td>female</td>\n",
              "      <td>21.0</td>\n",
              "      <td>hispanic, latino, spanish</td>\n",
              "      <td>sophomore</td>\n",
              "      <td>1</td>\n",
              "      <td>0</td>\n",
              "    </tr>\n",
              "    <tr>\n",
              "      <th>191</th>\n",
              "      <td>192.0</td>\n",
              "      <td>0</td>\n",
              "      <td>1</td>\n",
              "      <td>3.91988</td>\n",
              "      <td>female</td>\n",
              "      <td>20.0</td>\n",
              "      <td>other</td>\n",
              "      <td>junior</td>\n",
              "      <td>1</td>\n",
              "      <td>0</td>\n",
              "    </tr>\n",
              "    <tr>\n",
              "      <th>192</th>\n",
              "      <td>193.0</td>\n",
              "      <td>0</td>\n",
              "      <td>1</td>\n",
              "      <td>4.32666</td>\n",
              "      <td>female</td>\n",
              "      <td>20.0</td>\n",
              "      <td>white or european</td>\n",
              "      <td>sophomore</td>\n",
              "      <td>1</td>\n",
              "      <td>0</td>\n",
              "    </tr>\n",
              "    <tr>\n",
              "      <th>193</th>\n",
              "      <td>194.0</td>\n",
              "      <td>0</td>\n",
              "      <td>1</td>\n",
              "      <td>3.14330</td>\n",
              "      <td>female</td>\n",
              "      <td>19.0</td>\n",
              "      <td>eastern or asian</td>\n",
              "      <td>sophomore</td>\n",
              "      <td>1</td>\n",
              "      <td>0</td>\n",
              "    </tr>\n",
              "  </tbody>\n",
              "</table>\n",
              "<p>194 rows × 10 columns</p>\n",
              "</div>\n",
              "      <button class=\"colab-df-convert\" onclick=\"convertToInteractive('df-edec29af-e8fb-4ebd-b384-b88722465bbd')\"\n",
              "              title=\"Convert this dataframe to an interactive table.\"\n",
              "              style=\"display:none;\">\n",
              "        \n",
              "  <svg xmlns=\"http://www.w3.org/2000/svg\" height=\"24px\"viewBox=\"0 0 24 24\"\n",
              "       width=\"24px\">\n",
              "    <path d=\"M0 0h24v24H0V0z\" fill=\"none\"/>\n",
              "    <path d=\"M18.56 5.44l.94 2.06.94-2.06 2.06-.94-2.06-.94-.94-2.06-.94 2.06-2.06.94zm-11 1L8.5 8.5l.94-2.06 2.06-.94-2.06-.94L8.5 2.5l-.94 2.06-2.06.94zm10 10l.94 2.06.94-2.06 2.06-.94-2.06-.94-.94-2.06-.94 2.06-2.06.94z\"/><path d=\"M17.41 7.96l-1.37-1.37c-.4-.4-.92-.59-1.43-.59-.52 0-1.04.2-1.43.59L10.3 9.45l-7.72 7.72c-.78.78-.78 2.05 0 2.83L4 21.41c.39.39.9.59 1.41.59.51 0 1.02-.2 1.41-.59l7.78-7.78 2.81-2.81c.8-.78.8-2.07 0-2.86zM5.41 20L4 18.59l7.72-7.72 1.47 1.35L5.41 20z\"/>\n",
              "  </svg>\n",
              "      </button>\n",
              "      \n",
              "  <style>\n",
              "    .colab-df-container {\n",
              "      display:flex;\n",
              "      flex-wrap:wrap;\n",
              "      gap: 12px;\n",
              "    }\n",
              "\n",
              "    .colab-df-convert {\n",
              "      background-color: #E8F0FE;\n",
              "      border: none;\n",
              "      border-radius: 50%;\n",
              "      cursor: pointer;\n",
              "      display: none;\n",
              "      fill: #1967D2;\n",
              "      height: 32px;\n",
              "      padding: 0 0 0 0;\n",
              "      width: 32px;\n",
              "    }\n",
              "\n",
              "    .colab-df-convert:hover {\n",
              "      background-color: #E2EBFA;\n",
              "      box-shadow: 0px 1px 2px rgba(60, 64, 67, 0.3), 0px 1px 3px 1px rgba(60, 64, 67, 0.15);\n",
              "      fill: #174EA6;\n",
              "    }\n",
              "\n",
              "    [theme=dark] .colab-df-convert {\n",
              "      background-color: #3B4455;\n",
              "      fill: #D2E3FC;\n",
              "    }\n",
              "\n",
              "    [theme=dark] .colab-df-convert:hover {\n",
              "      background-color: #434B5C;\n",
              "      box-shadow: 0px 1px 3px 1px rgba(0, 0, 0, 0.15);\n",
              "      filter: drop-shadow(0px 1px 2px rgba(0, 0, 0, 0.3));\n",
              "      fill: #FFFFFF;\n",
              "    }\n",
              "  </style>\n",
              "\n",
              "      <script>\n",
              "        const buttonEl =\n",
              "          document.querySelector('#df-edec29af-e8fb-4ebd-b384-b88722465bbd button.colab-df-convert');\n",
              "        buttonEl.style.display =\n",
              "          google.colab.kernel.accessAllowed ? 'block' : 'none';\n",
              "\n",
              "        async function convertToInteractive(key) {\n",
              "          const element = document.querySelector('#df-edec29af-e8fb-4ebd-b384-b88722465bbd');\n",
              "          const dataTable =\n",
              "            await google.colab.kernel.invokeFunction('convertToInteractive',\n",
              "                                                     [key], {});\n",
              "          if (!dataTable) return;\n",
              "\n",
              "          const docLinkHtml = 'Like what you see? Visit the ' +\n",
              "            '<a target=\"_blank\" href=https://colab.research.google.com/notebooks/data_table.ipynb>data table notebook</a>'\n",
              "            + ' to learn more about interactive tables.';\n",
              "          element.innerHTML = '';\n",
              "          dataTable['output_type'] = 'display_data';\n",
              "          await google.colab.output.renderOutput(dataTable, element);\n",
              "          const docLink = document.createElement('div');\n",
              "          docLink.innerHTML = docLinkHtml;\n",
              "          element.appendChild(docLink);\n",
              "        }\n",
              "      </script>\n",
              "    </div>\n",
              "  </div>\n",
              "  "
            ]
          },
          "metadata": {}
        }
      ]
    },
    {
      "cell_type": "markdown",
      "source": [
        "##Main Research Question: How do pick-up lines and a person’s scent influence relationship initiation?\n",
        "  * Dataset: “PickUpLines.sav”\n"
      ],
      "metadata": {
        "id": "FqKrveErhNNI"
      }
    },
    {
      "cell_type": "markdown",
      "source": [
        "### RQ1: Is there any evidence to suggest that the cute-direct pick-up approach will lead to more relationship receptivity than the direct-direct approach?"
      ],
      "metadata": {
        "id": "lh5BN6dYiCkk"
      }
    },
    {
      "cell_type": "markdown",
      "source": [
        "####What is your dependent variable?"
      ],
      "metadata": {
        "id": "Y9xT1LoDiS4k"
      }
    },
    {
      "cell_type": "code",
      "source": [
        "# The dependent variable is the receptivity value"
      ],
      "metadata": {
        "id": "8dh2HZ5xiXO2"
      },
      "execution_count": null,
      "outputs": []
    },
    {
      "cell_type": "markdown",
      "source": [
        "####What is(are) your independent variable(s)?"
      ],
      "metadata": {
        "id": "fwD7CxUGidNa"
      }
    },
    {
      "cell_type": "code",
      "source": [
        "# The independent variable is the pickup approach"
      ],
      "metadata": {
        "id": "LbYiIsTCifg7"
      },
      "execution_count": null,
      "outputs": []
    },
    {
      "cell_type": "markdown",
      "source": [
        "Is there independence of observations?"
      ],
      "metadata": {
        "id": "IxoCwjbbihfj"
      }
    },
    {
      "cell_type": "code",
      "source": [
        "# Yes, there is independence, since the value of receptivity is collected once a time from each experiment participant"
      ],
      "metadata": {
        "id": "sZ01waxTijOo"
      },
      "execution_count": null,
      "outputs": []
    },
    {
      "cell_type": "markdown",
      "source": [
        "####Are there any significant outliers?"
      ],
      "metadata": {
        "id": "HmyMl2jGikAh"
      }
    },
    {
      "cell_type": "code",
      "source": [
        "# Lets plot some charts... and test for normality\n",
        "# Displot and Boxplot and Shapiro test\n",
        "\n",
        "fig, ax = plt.subplots(1,3, figsize=(20,6))\n",
        "sns.histplot(df['Receptivity'], kde= False, stat= 'density', ax= ax[0])\n",
        "sns.kdeplot(df['Receptivity'], ax= ax[0], color= 'crimson')\n",
        "sns.boxplot(y= 'Receptivity', data= df, ax= ax[1])\n",
        "sns.boxplot(y= 'Receptivity', x= 'PickUp', data= df, ax= ax[2])\n",
        "plt.show()\n",
        "\n",
        "shapiro(df['Receptivity'])\n",
        "\n",
        "# since the value of Shapiro-Wilk test (0.03) is less than 0.05, we can reject the null hypothesis, so the data are non normally distributed"
      ],
      "metadata": {
        "colab": {
          "base_uri": "https://localhost:8080/",
          "height": 406
        },
        "id": "DAyly-fQimTX",
        "outputId": "c4428a2a-dc33-4e95-d711-37eb8bcbf1bf"
      },
      "execution_count": null,
      "outputs": [
        {
          "output_type": "display_data",
          "data": {
            "text/plain": [
              "<Figure size 1440x432 with 3 Axes>"
            ],
            "image/png": "[encoded data removed]"
          },
          "metadata": {
            "needs_background": "light"
          }
        },
        {
          "output_type": "execute_result",
          "data": {
            "text/plain": [
              "ShapiroResult(statistic=0.9844915270805359, pvalue=0.031009113416075706)"
            ]
          },
          "metadata": {},
          "execution_count": 9
        }
      ]
    },
    {
      "cell_type": "code",
      "source": [
        "sns.countplot(x=df['PickUp'])\n",
        "\n",
        "# There is a slightly inbalance between classes, with aprox 120 participants using Cute-Direct pickup approach (1) and 80 using direct-direct approach"
      ],
      "metadata": {
        "colab": {
          "base_uri": "https://localhost:8080/",
          "height": 297
        },
        "id": "U0Oq1EFNyvRC",
        "outputId": "123f6f74-0a19-4281-87eb-164fcf8a03db"
      },
      "execution_count": null,
      "outputs": [
        {
          "output_type": "execute_result",
          "data": {
            "text/plain": [
              "<matplotlib.axes._subplots.AxesSubplot at 0x7f52522be9a0>"
            ]
          },
          "metadata": {},
          "execution_count": 10
        },
        {
          "output_type": "display_data",
          "data": {
            "text/plain": [
              "<Figure size 432x288 with 1 Axes>"
            ],
            "image/png": "[encoded data removed]"
          },
          "metadata": {
            "needs_background": "light"
          }
        }
      ]
    },
    {
      "cell_type": "markdown",
      "source": [
        "####How is your dependent variable distributed in each cell?"
      ],
      "metadata": {
        "id": "6ZY2WOqdioPK"
      }
    },
    {
      "cell_type": "code",
      "source": [
        "#Comparing distribution in receptivity values between different approaches\n",
        "\n",
        "fig, ((ax1, ax2), (ax3, ax4)) = plt.subplots(2, 2, figsize=(16,10), sharex=True)\n",
        "\n",
        "sns.histplot(df[df['PickUp'] == 1]['Receptivity'], kde= False, stat= 'density', ax= ax1, color= 'darkorange')\n",
        "sns.kdeplot(df[df['PickUp'] == 1]['Receptivity'], ax= ax1, color= 'crimson')\n",
        "ax1.set_title('Cute-Direct')\n",
        "sns.boxplot(x= df[df['PickUp'] == 1]['Receptivity'], ax= ax2, color= 'darkorange')\n",
        "ax2.set_title('Cute-Direct')\n",
        "\n",
        "sns.histplot(df[df['PickUp'] == 0]['Receptivity'], kde= False, stat= 'density', ax= ax3)\n",
        "sns.kdeplot(df[df['PickUp'] == 0]['Receptivity'], ax= ax3, color= 'crimson')\n",
        "ax3.set_title('Direct-Direct')\n",
        "sns.boxplot(x= df[df['PickUp'] == 0]['Receptivity'], ax= ax4)\n",
        "ax4.set_title('Direct-Direct')\n",
        "\n",
        "plt.show()"
      ],
      "metadata": {
        "colab": {
          "base_uri": "https://localhost:8080/",
          "height": 621
        },
        "id": "8Z1esQhcirUk",
        "outputId": "2f8b0843-0011-40d7-f0d3-70dfae5c60b5"
      },
      "execution_count": null,
      "outputs": [
        {
          "output_type": "display_data",
          "data": {
            "text/plain": [
              "<Figure size 1152x720 with 4 Axes>"
            ],
            "image/png": "[encoded data removed]"
          },
          "metadata": {
            "needs_background": "light"
          }
        }
      ]
    },
    {
      "cell_type": "code",
      "source": [
        "# Test normality of each distribution\n",
        "\n",
        "CD_pickup = df[df['PickUp'] == 1]['Receptivity']\n",
        "\n",
        "DD_pickup = df[df['PickUp'] == 0]['Receptivity']\n",
        "\n",
        "display(shapiro(CD_pickup))\n",
        "display(shapiro(DD_pickup))\n",
        "\n",
        "# since the value of Shapiro-Wilk test for the variable Cute-Direct approach (0.0008) is less than the threshold,\n",
        "# then we can reject the null hypothesis and say that this data are not normally distributed\n",
        "\n",
        "# since the value of Shapiro-Wilk test for the Direct-Direct approach (0.87) is greater than 0.05,\n",
        "# we fail to reject the null hypothesis, so the data are normally distributed\n"
      ],
      "metadata": {
        "colab": {
          "base_uri": "https://localhost:8080/",
          "height": 54
        },
        "id": "EFozolB38gJO",
        "outputId": "e661ca54-2cd5-40cb-bec6-17a31e6a25db"
      },
      "execution_count": null,
      "outputs": [
        {
          "output_type": "display_data",
          "data": {
            "text/plain": [
              "ShapiroResult(statistic=0.9578615427017212, pvalue=0.0008551983046345413)"
            ]
          },
          "metadata": {}
        },
        {
          "output_type": "display_data",
          "data": {
            "text/plain": [
              "ShapiroResult(statistic=0.9907618761062622, pvalue=0.8713714480400085)"
            ]
          },
          "metadata": {}
        }
      ]
    },
    {
      "cell_type": "markdown",
      "source": [
        "####Do you need to perform any transformations?"
      ],
      "metadata": {
        "id": "1Enx5qSQir_O"
      }
    },
    {
      "cell_type": "code",
      "source": [
        "# We will need to perform a transformation, because the data of Cute-Direct pickup approach are non-normally distributed"
      ],
      "metadata": {
        "id": "sR0i7aY1iu8K"
      },
      "execution_count": null,
      "outputs": []
    },
    {
      "cell_type": "code",
      "source": [
        "# applying the box cox transformation and re-test normality\n",
        "\n",
        "from scipy.stats import boxcox\n",
        "CD_pickup_transf, CDbest_lambda = stats.boxcox(CD_pickup)\n",
        "DD_pickup_transf, DDbest_lambda = stats.boxcox(DD_pickup)\n",
        "\n",
        "#plot the distribution of the transformed data values\n",
        "sns.distplot(CD_pickup_transf, hist=False, kde=True)\n",
        "\n",
        "# test of normality\n",
        "display(shapiro(CD_pickup_transf))\n",
        "display(shapiro(DD_pickup_transf))\n",
        "\n",
        "\n",
        "# As the transformed value of cute-direct shapiro test is 0.06, which is more than the threshold, we fail to reject the null hypothesis\n",
        "# So the data becomes normally distributed after box-cox transformation"
      ],
      "metadata": {
        "colab": {
          "base_uri": "https://localhost:8080/",
          "height": 359
        },
        "id": "_5roMIaomGuW",
        "outputId": "df9e0d8d-763b-4915-b082-d108d2a80600"
      },
      "execution_count": null,
      "outputs": [
        {
          "output_type": "stream",
          "name": "stderr",
          "text": [
            "/usr/local/lib/python3.8/dist-packages/seaborn/distributions.py:2619: FutureWarning: `distplot` is a deprecated function and will be removed in a future version. Please adapt your code to use either `displot` (a figure-level function with similar flexibility) or `kdeplot` (an axes-level function for kernel density plots).\n",
            "  warnings.warn(msg, FutureWarning)\n"
          ]
        },
        {
          "output_type": "display_data",
          "data": {
            "text/plain": [
              "ShapiroResult(statistic=0.9798208475112915, pvalue=0.06853971630334854)"
            ]
          },
          "metadata": {}
        },
        {
          "output_type": "display_data",
          "data": {
            "text/plain": [
              "ShapiroResult(statistic=0.9916223287582397, pvalue=0.91087806224823)"
            ]
          },
          "metadata": {}
        },
        {
          "output_type": "display_data",
          "data": {
            "text/plain": [
              "<Figure size 432x288 with 1 Axes>"
            ],
            "image/png": "[encoded data removed]"
          },
          "metadata": {
            "needs_background": "light"
          }
        }
      ]
    },
    {
      "cell_type": "markdown",
      "source": [
        "####Is there homogeneity or heterogeneity of variance?"
      ],
      "metadata": {
        "id": "tUzLyVPciwBR"
      }
    },
    {
      "cell_type": "code",
      "source": [
        "# Plot a boxplot and confirm variance with algebric method\n",
        "\n",
        "sns.boxplot(x= df['PickUp'], y = df['Receptivity'])"
      ],
      "metadata": {
        "colab": {
          "base_uri": "https://localhost:8080/",
          "height": 297
        },
        "id": "DpmG61LEiygP",
        "outputId": "d71ebb43-d59a-4ce0-af04-3aee3b30306a"
      },
      "execution_count": null,
      "outputs": [
        {
          "output_type": "execute_result",
          "data": {
            "text/plain": [
              "<matplotlib.axes._subplots.AxesSubplot at 0x7f52518e19a0>"
            ]
          },
          "metadata": {},
          "execution_count": 16
        },
        {
          "output_type": "display_data",
          "data": {
            "text/plain": [
              "<Figure size 432x288 with 1 Axes>"
            ],
            "image/png": "[encoded data removed]"
          },
          "metadata": {
            "needs_background": "light"
          }
        }
      ]
    },
    {
      "cell_type": "code",
      "source": [
        "# Performing Levene's test for homogeneity of variance between one group (CD_pickup) against the other group (DD_pickup)\n",
        "\n",
        "display(stats.levene(CD_pickup_transf, DD_pickup_transf, center='mean'))\n",
        "\n",
        "print(CD_pickup_transf.var())\n",
        "print(DD_pickup_transf.var())\n",
        "\n",
        "# Since the P-value of levene's test is 2.77^-30, which is much minor than the threshold, we  reject the null hipothesys,\n",
        "# so we  have sufficient evidence to say that the variance in receptivity between direct-direct vs cute-direct participants\n",
        "# is significantly different\n",
        "\n",
        "# There is heterogeneity of variance"
      ],
      "metadata": {
        "colab": {
          "base_uri": "https://localhost:8080/",
          "height": 72
        },
        "id": "UMaUkeNUBc_s",
        "outputId": "8073de4d-de3a-40dc-f0d4-d232a1bc547a"
      },
      "execution_count": null,
      "outputs": [
        {
          "output_type": "display_data",
          "data": {
            "text/plain": [
              "LeveneResult(statistic=188.0379080176696, pvalue=2.7783800283760947e-30)"
            ]
          },
          "metadata": {}
        },
        {
          "output_type": "stream",
          "name": "stdout",
          "text": [
            "0.0013289780319032834\n",
            "0.1369291448060476\n"
          ]
        }
      ]
    },
    {
      "cell_type": "code",
      "source": [
        "print(CD_pickup.var())\n",
        "print(DD_pickup.var())\n"
      ],
      "metadata": {
        "colab": {
          "base_uri": "https://localhost:8080/"
        },
        "id": "hz5W1vxCMv7V",
        "outputId": "312f08c9-8354-483a-a971-d7b6cb99a796"
      },
      "execution_count": null,
      "outputs": [
        {
          "output_type": "stream",
          "name": "stdout",
          "text": [
            "0.24883005508974784\n",
            "0.31225578242199187\n"
          ]
        }
      ]
    },
    {
      "cell_type": "markdown",
      "source": [
        "####What is the mean score of receptivity in the experimental condition?"
      ],
      "metadata": {
        "id": "7_7Fbu_yizJL"
      }
    },
    {
      "cell_type": "code",
      "source": [
        "print(f'The mean score of receptivity in participants in the experimental condition (using Cute-direct pickup) is:{CD_pickup.mean()}')\n",
        "\n",
        "print(f'The Standard deviation score of receptivity in participants in the experimental condition (using Cute-direct pickup) is:{CD_pickup.std()}')"
      ],
      "metadata": {
        "colab": {
          "base_uri": "https://localhost:8080/"
        },
        "id": "yclvoYmii1f3",
        "outputId": "8020df29-c5ae-4e5f-8167-aa26fcd7f1d6"
      },
      "execution_count": null,
      "outputs": [
        {
          "output_type": "stream",
          "name": "stdout",
          "text": [
            "The mean score of receptivity in participants in the experimental condition (using Cute-direct pickup) is:3.863434\n",
            "The Standard deviation score of receptivity in participants in the experimental condition (using Cute-direct pickup) is:0.4988286831064828\n"
          ]
        }
      ]
    },
    {
      "cell_type": "markdown",
      "source": [
        "####What is the mean score of receptivity in the control condition?"
      ],
      "metadata": {
        "id": "6cCUIJqli2NF"
      }
    },
    {
      "cell_type": "code",
      "source": [
        "print(f'The mean score of receptivity in participants in the control condition (using Direct-direct pickup) is:{DD_pickup.mean()}')\n",
        "\n",
        "print(f'The Standard deviation score of receptivity in participants in the control condition (using Direct-direct pickup) is:{DD_pickup.std()}')"
      ],
      "metadata": {
        "colab": {
          "base_uri": "https://localhost:8080/"
        },
        "id": "MWYAL-ZAi4rP",
        "outputId": "7f97e141-bde1-4036-c9fa-77789d70428a"
      },
      "execution_count": null,
      "outputs": [
        {
          "output_type": "stream",
          "name": "stdout",
          "text": [
            "The mean score of receptivity in participants in the control condition (using Direct-direct pickup) is:3.6544516216216207\n",
            "The Standard deviation score of receptivity in participants in the control condition (using Direct-direct pickup) is:0.5587985168394703\n"
          ]
        }
      ]
    },
    {
      "cell_type": "markdown",
      "source": [
        "####What is your answer to RQ1? Report on the findings (no less than 150 words). Don’t forget to mention the assumptions."
      ],
      "metadata": {
        "id": "5yNt69bTi6CM"
      }
    },
    {
      "cell_type": "code",
      "source": [
        "# Performing a non parametric test as the assumptions of normal distribution and homogeneity of variance are not valid in this case\n",
        "\n",
        "from scipy.stats import mannwhitneyu\n",
        "\n",
        "Np_stat, p = mannwhitneyu(CD_pickup, DD_pickup)\n",
        "\n",
        "print(Np_stat, p)\n",
        "if p > 0.05:\n",
        "  print('Same distribution (fail to reject H0)')\n",
        "else:\n",
        "  print('Different distribution (reject H0)')\n"
      ],
      "metadata": {
        "colab": {
          "base_uri": "https://localhost:8080/"
        },
        "id": "TS6M8h-_EKkq",
        "outputId": "984fdc57-b1f1-4597-bab8-727d93ecef04"
      },
      "execution_count": null,
      "outputs": [
        {
          "output_type": "stream",
          "name": "stdout",
          "text": [
            "5353.0 0.016241422695941032\n",
            "Different distribution (reject H0)\n"
          ]
        }
      ]
    },
    {
      "cell_type": "code",
      "source": [
        "from scipy.stats import kruskal\n",
        "\n",
        "K_stat, p = kruskal(CD_pickup, DD_pickup)\n",
        "\n",
        "print(K_stat, p)\n",
        "if p > 0.05:\n",
        "  print('Same distribution (fail to reject H0)')\n",
        "else:\n",
        "  print('Different distribution (reject H0)')"
      ],
      "metadata": {
        "colab": {
          "base_uri": "https://localhost:8080/"
        },
        "id": "FfEqyyK7GC3u",
        "outputId": "9b99bb02-c6bb-4e2e-f8e7-c9a338377ab5"
      },
      "execution_count": null,
      "outputs": [
        {
          "output_type": "stream",
          "name": "stdout",
          "text": [
            "5.782878685405337 0.016183015960661084\n",
            "Different distribution (reject H0)\n"
          ]
        }
      ]
    },
    {
      "cell_type": "code",
      "source": [
        "# Performing ANOVA test to analyze differences between these two groups of the experiment\n",
        "\n",
        "# H0 - Null Hypothesis - There is no difference between group's means\n",
        "# Ha - Alternative Hypothesis - There is at least one substancial difference between group's means\n",
        "\n",
        "from scipy.stats import f_oneway\n",
        "\n",
        "f_oneway(CD_pickup_transf, DD_pickup)\n",
        "\n",
        "# A one-way ANOVA was conducted to analyze if there was a difference on the receptivity of womem wich was aborded with\n",
        "# a cute-direct pickup approach compared to girls aborded with direct-direct pickup approach.\n",
        "# There were no outliers, as seen on boxplot chart and data was assured to be normally distributed as seen on shapiro-wik's test (p>0.05)\n",
        "# (a box-cox transformation on the Cute-Direct pickup distribution was applied)\n",
        "# and there was homogeneity of variances, as assessed by Levene's test of homogeneity of variances (p = 0.28).\n",
        "\n",
        "# Pickup receptivity score was statistically significantly different between  groups, F(1, 194) = 3186.9, p < 0.05.\n",
        "# So we can conclude that there was at least one sample group's mean that was different.\n",
        "\n",
        "# Receptivity of direct-direct pickup mean was 3.65 and STD was 0.55, besides Cute-direct pickup mean was 3.86 and STD was 0.49.\n",
        "\n"
      ],
      "metadata": {
        "id": "kkNzr5Rwi8S8",
        "colab": {
          "base_uri": "https://localhost:8080/"
        },
        "outputId": "709f9e6b-da96-448f-8357-140f1b34f4e5"
      },
      "execution_count": null,
      "outputs": [
        {
          "output_type": "execute_result",
          "data": {
            "text/plain": [
              "F_onewayResult(statistic=3186.9387604203557, pvalue=1.6080504261041496e-121)"
            ]
          },
          "metadata": {},
          "execution_count": 21
        }
      ]
    },
    {
      "cell_type": "markdown",
      "source": [
        "###RQ2: Is there any evidence to suggest that the presence of androstadienone spray will lead to more relationship receptivity than no spray?"
      ],
      "metadata": {
        "id": "IZW1FnzzkAs7"
      }
    },
    {
      "cell_type": "markdown",
      "source": [
        "####What is your dependent variable?"
      ],
      "metadata": {
        "id": "JgfAO74nkAtN"
      }
    },
    {
      "cell_type": "code",
      "source": [
        "# The dependent variable is the receptivity value"
      ],
      "metadata": {
        "id": "28xT_L_kkAtO"
      },
      "execution_count": null,
      "outputs": []
    },
    {
      "cell_type": "markdown",
      "source": [
        "####What is(are) your independent variable(s)?"
      ],
      "metadata": {
        "id": "-nUKaU5KkAtO"
      }
    },
    {
      "cell_type": "code",
      "source": [
        "# The independent variable is the spray or not spray androstadienone"
      ],
      "metadata": {
        "id": "XUohYDL2kAtO"
      },
      "execution_count": null,
      "outputs": []
    },
    {
      "cell_type": "markdown",
      "source": [
        "####Is there independence of observations?"
      ],
      "metadata": {
        "id": "cqELLkIlkAtO"
      }
    },
    {
      "cell_type": "code",
      "source": [
        "# Yes, there is independence, since the value of receptivity is collected once a time from each experiment participant\n",
        "\n",
        "# Calculating point-biserial correlation (a specific kind of pearson's correlation), since we have one binary (dichotomus) variable and the other is continuous\n",
        "\n",
        "Scent_corr = stats.pointbiserialr(df.Receptivity, df.Scent)\n",
        "print(Scent_corr)\n",
        "\n",
        "# the r-value (0.14) indicates a low correlation, but the p-value 0.03, is less than the threshold, so we reject the null hipothesys\n",
        "# that means there are significant statistical bivariate correlation between Receptivity and Scent\n"
      ],
      "metadata": {
        "id": "k5-1Fvg4kAtP",
        "colab": {
          "base_uri": "https://localhost:8080/"
        },
        "outputId": "eb9ab1e9-982f-4d7a-dcaa-d99644f81db7"
      },
      "execution_count": null,
      "outputs": [
        {
          "output_type": "stream",
          "name": "stdout",
          "text": [
            "PointbiserialrResult(correlation=0.1485177970865014, pvalue=0.03876045015663428)\n"
          ]
        }
      ]
    },
    {
      "cell_type": "markdown",
      "source": [
        "####Are there any significant outliers?"
      ],
      "metadata": {
        "id": "nfH704CrkAtP"
      }
    },
    {
      "cell_type": "code",
      "source": [
        "# Lets plot some charts... and test for normality\n",
        "# Displot and Boxplot and Shapiro test\n",
        "\n",
        "fig, ax = plt.subplots(1,3, figsize=(20,6))\n",
        "sns.histplot(df['Receptivity'], kde= False, stat= 'density', ax= ax[0])\n",
        "sns.kdeplot(df['Receptivity'], ax= ax[0], color= 'crimson')\n",
        "sns.boxplot(y= 'Receptivity', data= df, ax= ax[1])\n",
        "sns.boxplot(y= 'Receptivity', x= 'Scent', data= df, ax= ax[2])\n",
        "plt.show()\n",
        "\n",
        "shapiro(df['Receptivity'])\n",
        "\n",
        "# since the value of Shapiro-Wilk test (0.03) is less than 0.05, we  reject the null hypothesis (data has normal distribution), so the data are non-normally distributed"
      ],
      "metadata": {
        "id": "3o7sWp6KkAtP",
        "colab": {
          "base_uri": "https://localhost:8080/",
          "height": 406
        },
        "outputId": "d0143076-dd8e-4193-90ef-c154caf20903"
      },
      "execution_count": null,
      "outputs": [
        {
          "output_type": "display_data",
          "data": {
            "text/plain": [
              "<Figure size 1440x432 with 3 Axes>"
            ],
            "image/png": "[encoded data removed]"
          },
          "metadata": {
            "needs_background": "light"
          }
        },
        {
          "output_type": "execute_result",
          "data": {
            "text/plain": [
              "ShapiroResult(statistic=0.9844915270805359, pvalue=0.031009113416075706)"
            ]
          },
          "metadata": {},
          "execution_count": 25
        }
      ]
    },
    {
      "cell_type": "markdown",
      "source": [
        "####How is your dependent variable distributed in each cell?"
      ],
      "metadata": {
        "id": "aGLjDmjbkAtP"
      }
    },
    {
      "cell_type": "code",
      "source": [
        "#Comparing distribution in receptivity values between different groups, with and without feromone spray\n",
        "\n",
        "fig, ((ax1, ax2), (ax3, ax4)) = plt.subplots(2, 2, figsize=(16,10), sharex=True)\n",
        "\n",
        "sns.histplot(df[df['Scent'] == 0]['Receptivity'], kde= False, stat= 'density', ax= ax1)\n",
        "sns.kdeplot(df[df['Scent'] == 0]['Receptivity'], ax= ax1, color= 'crimson')\n",
        "ax1.axvline(df[df['Scent'] == 0]['Receptivity'].mean(), ls='--', color='crimson')\n",
        "ax1.set_title('NO Spray')\n",
        "\n",
        "sns.boxplot(x= df[df['Scent'] == 0]['Receptivity'], ax= ax2, color= 'darkorange')\n",
        "ax2.set_title('NO Spray')\n",
        "\n",
        "\n",
        "sns.histplot(df[df['Scent'] == 1]['Receptivity'], kde= False, stat= 'density', ax= ax3)\n",
        "sns.kdeplot(df[df['Scent'] == 1]['Receptivity'], ax= ax3, color= 'crimson')\n",
        "ax3.axvline(df[df['Scent'] == 1]['Receptivity'].mean(), ls='--', color='crimson')\n",
        "ax3.get_xticklabels(ax1)\n",
        "ax3.set_title('Spray')\n",
        "\n",
        "sns.boxplot(x= df[df['Scent'] == 1]['Receptivity'], ax= ax4, color= 'darkorange')\n",
        "ax4.set_title('Spray')\n",
        "\n",
        "plt.show()"
      ],
      "metadata": {
        "colab": {
          "base_uri": "https://localhost:8080/",
          "height": 621
        },
        "id": "KAEHcojqCFDx",
        "outputId": "e4fd7841-14d7-4e50-9ed9-8bf0d947e780"
      },
      "execution_count": null,
      "outputs": [
        {
          "output_type": "display_data",
          "data": {
            "text/plain": [
              "<Figure size 1152x720 with 4 Axes>"
            ],
            "image/png": "[encoded data removed]"
          },
          "metadata": {
            "needs_background": "light"
          }
        }
      ]
    },
    {
      "cell_type": "markdown",
      "source": [
        "####Do you need to perform any transformations?"
      ],
      "metadata": {
        "id": "2IUGQ0HOkAtQ"
      }
    },
    {
      "cell_type": "code",
      "source": [
        "# Test normality of each distribution\n",
        "\n",
        "No_Spray = df[df['Scent'] == 0]['Receptivity']\n",
        "\n",
        "Spray = df[df['Scent'] == 1]['Receptivity']\n",
        "\n",
        "display(shapiro(No_Spray))\n",
        "display(shapiro(Spray))\n",
        "\n",
        "# since the two values of Shapiro-Wilk test (0.03) is less than 0.05, we can not reject the null hypothesis, so the data are nonnormally distributed"
      ],
      "metadata": {
        "colab": {
          "base_uri": "https://localhost:8080/",
          "height": 54
        },
        "outputId": "17349920-26e3-4dcc-f919-00665de1a4df",
        "id": "2AelIE9UgR8f"
      },
      "execution_count": null,
      "outputs": [
        {
          "output_type": "display_data",
          "data": {
            "text/plain": [
              "ShapiroResult(statistic=0.9701603651046753, pvalue=0.03629191964864731)"
            ]
          },
          "metadata": {}
        },
        {
          "output_type": "display_data",
          "data": {
            "text/plain": [
              "ShapiroResult(statistic=0.9737365245819092, pvalue=0.03644062578678131)"
            ]
          },
          "metadata": {}
        }
      ]
    },
    {
      "cell_type": "code",
      "source": [
        "#function to return plots for the feature\n",
        "import pylab\n",
        "\n",
        "def normality(feature):\n",
        "    plt.figure(figsize=(10,5))\n",
        "    plt.subplot(1,2,1)\n",
        "    sns.kdeplot(x=feature)\n",
        "    plt.subplot(1,2,2)\n",
        "    stats.probplot(feature,plot=pylab)\n",
        "    plt.show()\n",
        "    display(shapiro(feature))"
      ],
      "metadata": {
        "id": "3n8JXdJ7Dhmk"
      },
      "execution_count": null,
      "outputs": []
    },
    {
      "cell_type": "code",
      "source": [
        "normality(Spray)"
      ],
      "metadata": {
        "colab": {
          "base_uri": "https://localhost:8080/",
          "height": 368
        },
        "id": "bpEO3eJDJVlH",
        "outputId": "8895fa02-5464-4b6d-b5bb-7b2dadb7fde8"
      },
      "execution_count": null,
      "outputs": [
        {
          "output_type": "display_data",
          "data": {
            "text/plain": [
              "<Figure size 720x360 with 2 Axes>"
            ],
            "image/png": "[encoded data removed]"
          },
          "metadata": {
            "needs_background": "light"
          }
        },
        {
          "output_type": "display_data",
          "data": {
            "text/plain": [
              "ShapiroResult(statistic=0.9737365245819092, pvalue=0.03644062578678131)"
            ]
          },
          "metadata": {}
        }
      ]
    },
    {
      "cell_type": "code",
      "source": [
        "normality(No_Spray)\n"
      ],
      "metadata": {
        "colab": {
          "base_uri": "https://localhost:8080/",
          "height": 368
        },
        "id": "k1Ib0UX1DxO9",
        "outputId": "56960dd7-85e8-48af-cba2-8699e1d4aa91"
      },
      "execution_count": null,
      "outputs": [
        {
          "output_type": "display_data",
          "data": {
            "text/plain": [
              "<Figure size 720x360 with 2 Axes>"
            ],
            "image/png": "[encoded data removed]"
          },
          "metadata": {
            "needs_background": "light"
          }
        },
        {
          "output_type": "display_data",
          "data": {
            "text/plain": [
              "ShapiroResult(statistic=0.9701603651046753, pvalue=0.03629191964864731)"
            ]
          },
          "metadata": {}
        }
      ]
    },
    {
      "cell_type": "code",
      "source": [
        "# we will need to perform box-cox transformation, because the distributions are not normally distributed\n",
        "# applying the box cox transformation and re-test normality\n",
        "\n",
        "No_Spray_transf, NSbest_lambda = stats.boxcox(No_Spray)\n",
        "\n",
        "Spray_transf, Sbest_lambda = stats.boxcox(Spray)\n",
        "\n",
        "# test of normality\n",
        "display(shapiro(No_Spray_transf))\n",
        "\n",
        "display(shapiro(Spray_transf))\n",
        "\n",
        "display(NSbest_lambda)\n",
        "display(Sbest_lambda)\n",
        "\n",
        "# As the transformed value of cute-direct shapiro test is 0.06, which is more than the threshold, we fail to reject the null hypothesis\n",
        "# So the data becomes normally distributed after box-cox transformation"
      ],
      "metadata": {
        "id": "Q6YI4sKJkAtQ",
        "colab": {
          "base_uri": "https://localhost:8080/",
          "height": 91
        },
        "outputId": "8ad334c8-e95e-4829-934c-f98dd465c310"
      },
      "execution_count": null,
      "outputs": [
        {
          "output_type": "display_data",
          "data": {
            "text/plain": [
              "ShapiroResult(statistic=0.9710262417793274, pvalue=0.04177143797278404)"
            ]
          },
          "metadata": {}
        },
        {
          "output_type": "display_data",
          "data": {
            "text/plain": [
              "ShapiroResult(statistic=0.9755043387413025, pvalue=0.050641827285289764)"
            ]
          },
          "metadata": {}
        },
        {
          "output_type": "display_data",
          "data": {
            "text/plain": [
              "0.6989910041237654"
            ]
          },
          "metadata": {}
        },
        {
          "output_type": "display_data",
          "data": {
            "text/plain": [
              "0.6475674701012547"
            ]
          },
          "metadata": {}
        }
      ]
    },
    {
      "cell_type": "code",
      "source": [
        "normality(Spray_transf)"
      ],
      "metadata": {
        "colab": {
          "base_uri": "https://localhost:8080/",
          "height": 368
        },
        "id": "gJvYEZ_BLVSx",
        "outputId": "06025eae-26fc-403d-cea2-f53e5c848493"
      },
      "execution_count": null,
      "outputs": [
        {
          "output_type": "display_data",
          "data": {
            "text/plain": [
              "<Figure size 720x360 with 2 Axes>"
            ],
            "image/png": "[encoded data removed]"
          },
          "metadata": {
            "needs_background": "light"
          }
        },
        {
          "output_type": "display_data",
          "data": {
            "text/plain": [
              "ShapiroResult(statistic=0.9755043387413025, pvalue=0.050641827285289764)"
            ]
          },
          "metadata": {}
        }
      ]
    },
    {
      "cell_type": "code",
      "source": [
        "normality(No_Spray_transf)"
      ],
      "metadata": {
        "colab": {
          "base_uri": "https://localhost:8080/",
          "height": 368
        },
        "id": "B-RD93i8LPfy",
        "outputId": "9eb181ca-2c00-4bf3-afd2-0d39541fb822"
      },
      "execution_count": null,
      "outputs": [
        {
          "output_type": "display_data",
          "data": {
            "text/plain": [
              "<Figure size 720x360 with 2 Axes>"
            ],
            "image/png": "[encoded data removed]"
          },
          "metadata": {
            "needs_background": "light"
          }
        },
        {
          "output_type": "display_data",
          "data": {
            "text/plain": [
              "ShapiroResult(statistic=0.9710262417793274, pvalue=0.04177143797278404)"
            ]
          },
          "metadata": {}
        }
      ]
    },
    {
      "cell_type": "code",
      "source": [
        "#plot the distribution of the transformed data values, compared to original\n",
        "\n",
        "fig, axs = plt.subplots(1,2, figsize= (16,6), sharex=True)\n",
        "\n",
        "sns.kdeplot(No_Spray_transf, ax=axs[0], color='r')\n",
        "sns.kdeplot(No_Spray, ax=axs[0], color='black')\n",
        "axs[0].set_title('NO Spray')\n",
        "\n",
        "sns.kdeplot(Spray_transf, ax=axs[1], color='r')\n",
        "sns.kdeplot(Spray, ax=axs[1], color= 'black')\n",
        "axs[1].set_title('Spray')\n",
        "\n",
        "plt.show()"
      ],
      "metadata": {
        "colab": {
          "base_uri": "https://localhost:8080/",
          "height": 404
        },
        "id": "Al_XBhe93Aow",
        "outputId": "effe926b-b719-46a4-f4fd-92b20887f198"
      },
      "execution_count": null,
      "outputs": [
        {
          "output_type": "display_data",
          "data": {
            "text/plain": [
              "<Figure size 1152x432 with 2 Axes>"
            ],
            "image/png": "[encoded data removed]"
          },
          "metadata": {
            "needs_background": "light"
          }
        }
      ]
    },
    {
      "cell_type": "markdown",
      "source": [
        "####Is there homogeneity or heterogeneity of variance?"
      ],
      "metadata": {
        "id": "J65cVn9okAtQ"
      }
    },
    {
      "cell_type": "code",
      "source": [
        "# Performing Levene's test for homogeneity of variance between one group (Spray) against the other group (NO Spray)\n",
        "\n",
        "stats.levene(No_Spray_transf, Spray_transf, center='median')\n",
        "\n",
        "# Since the P-value of levene's test is 0.004, which is less than the threshold, we reject the null hipothesys,\n",
        "# so we have sufficient evidence to say that the variance in receptivity between Spray vs No Spray participants is significantly different\n",
        "\n",
        "# There is heterogeneity of variance"
      ],
      "metadata": {
        "colab": {
          "base_uri": "https://localhost:8080/"
        },
        "id": "zMKcWnH4z-3d",
        "outputId": "1033af4e-0867-4f74-b936-d13c6b874acf"
      },
      "execution_count": null,
      "outputs": [
        {
          "output_type": "execute_result",
          "data": {
            "text/plain": [
              "LeveneResult(statistic=8.409116810903399, pvalue=0.004168666113378237)"
            ]
          },
          "metadata": {},
          "execution_count": 35
        }
      ]
    },
    {
      "cell_type": "code",
      "source": [
        "# Performing Levene's test for homogeneity of variance between one group (Spray) against the other group (NO Spray)\n",
        "\n",
        "stats.levene(Spray_transf, No_Spray_transf, center='mean')\n",
        "\n",
        "# Since the P-value of levene's test is 0.001, which is less than the threshold, we reject the null hipothesys,\n",
        "# so we have sufficient evidence to say that the variance in receptivity between Spray vs No Spray participants is significantly different\n",
        "\n",
        "# There is heterogeneity of variance"
      ],
      "metadata": {
        "colab": {
          "base_uri": "https://localhost:8080/"
        },
        "outputId": "0812b8e0-a4dd-41d5-8f6f-e9ae98fb3e81",
        "id": "4b9mu0CggR8h"
      },
      "execution_count": null,
      "outputs": [
        {
          "output_type": "execute_result",
          "data": {
            "text/plain": [
              "LeveneResult(statistic=9.99860008274336, pvalue=0.0018210364267608671)"
            ]
          },
          "metadata": {},
          "execution_count": 36
        }
      ]
    },
    {
      "cell_type": "markdown",
      "source": [
        "####What is the mean score of receptivity in the experimental condition?"
      ],
      "metadata": {
        "id": "jJ-1j_Q_kAtR"
      }
    },
    {
      "cell_type": "code",
      "source": [
        "print(f'The mean score of receptivity in participants in the experimental condition (using the spray) is:{Spray.mean()}')\n",
        "\n",
        "print(f'The STD of receptivity in participants in the experimental condition (using the spray) is:{Spray.std()}')\n",
        "\n",
        "print(f'The VAR of receptivity in participants in the experimental condition (using the spray) is:{Spray.var()}')"
      ],
      "metadata": {
        "colab": {
          "base_uri": "https://localhost:8080/"
        },
        "outputId": "5a665fef-b32a-41c6-f1ee-61de04abc5db",
        "id": "4aZUiJGdgR8i"
      },
      "execution_count": null,
      "outputs": [
        {
          "output_type": "stream",
          "name": "stdout",
          "text": [
            "The mean score of receptivity in participants in the experimental condition (using the spray) is:3.8568834615384615\n",
            "The STD of receptivity in participants in the experimental condition (using the spray) is:0.6030889065659\n",
            "The VAR of receptivity in participants in the experimental condition (using the spray) is:0.3637162292228528\n"
          ]
        }
      ]
    },
    {
      "cell_type": "markdown",
      "source": [
        "####What is the mean score of receptivity in the control condition?"
      ],
      "metadata": {
        "id": "TRBMzzFGkAtR"
      }
    },
    {
      "cell_type": "code",
      "source": [
        "print(f'The mean score of receptivity in participants in the control condition (not using the spray) is:{No_Spray.mean()}')\n",
        "\n",
        "print(f'The STD of receptivity in participants in the control condition (not using the spray) is:{No_Spray.std()}')\n",
        "\n",
        "print(f'The VAR of receptivity in participants in the control condition (not using the spray) is:{No_Spray.var()}')"
      ],
      "metadata": {
        "colab": {
          "base_uri": "https://localhost:8080/"
        },
        "outputId": "fb99f870-d758-4401-b594-4bd2d189527a",
        "id": "smhBT8EdgR8i"
      },
      "execution_count": null,
      "outputs": [
        {
          "output_type": "stream",
          "name": "stdout",
          "text": [
            "The mean score of receptivity in participants in the control condition (not using the spray) is:3.6991735555555545\n",
            "The STD of receptivity in participants in the control condition (not using the spray) is:0.4205631456690911\n",
            "The VAR of receptivity in participants in the control condition (not using the spray) is:0.17687335949508115\n"
          ]
        }
      ]
    },
    {
      "cell_type": "markdown",
      "source": [
        "####What is your answer to RQ2? Report on the findings (no less than 150 words). Don’t forget to mention the assumptions."
      ],
      "metadata": {
        "id": "G_Th_aq4kAtS"
      }
    },
    {
      "cell_type": "code",
      "source": [
        "# We can perform a T-test to compare two groups\n",
        "\n",
        "from statsmodels.stats.weightstats import ttest_ind\n",
        "\n",
        "ttest_ind(Spray, No_Spray)\n"
      ],
      "metadata": {
        "colab": {
          "base_uri": "https://localhost:8080/"
        },
        "id": "hPnhxAVqPOQV",
        "outputId": "69b1b448-b063-4c53-bfef-c4e0534d982d"
      },
      "execution_count": null,
      "outputs": [
        {
          "output_type": "execute_result",
          "data": {
            "text/plain": [
              "(2.0810018247893165, 0.03876045015663044, 192.0)"
            ]
          },
          "metadata": {},
          "execution_count": 39
        }
      ]
    },
    {
      "cell_type": "code",
      "source": [
        "# Performing ANOVA test to analyze differences between these two groups of the experiment\n",
        "\n",
        "# H0 - Null Hypothesis - There is no difference between group's means\n",
        "# Ha - Alternative Hypothesis - There is at least one substancial difference between group's means\n",
        "\n",
        "f_oneway(Spray, No_Spray)\n",
        "\n",
        "# A one-way ANOVA was conducted to analyze if there was a difference on the receptivity of womem wich was aborded by guys\n",
        "# using a feromone spray compared to girls aborded by guys who does not use the feromone spray.\n",
        "# and there was heterogeneity of variances, as assessed by Levene's test of homogeneity of variances (p = 0.00009).\n",
        "\n",
        "# Pickup receptivity score was statistically significantly different between  groups, F(1, 194) = 4.33, p < 0.05.\n",
        "# So we can conclude that there is at least one sample group's mean that was different from the others.\n",
        "\n",
        "# Receptivity of pickup mean when mens are using the spray was 3.85 and STD was 0.60, besides without spray pickup mean was 3.69 and STD was 0.42."
      ],
      "metadata": {
        "id": "vVhStlkuhVR3",
        "colab": {
          "base_uri": "https://localhost:8080/"
        },
        "outputId": "7ad6628a-0a24-4cd2-baf7-82b747554d6e"
      },
      "execution_count": null,
      "outputs": [
        {
          "output_type": "execute_result",
          "data": {
            "text/plain": [
              "F_onewayResult(statistic=4.330568594776483, pvalue=0.03876045015662963)"
            ]
          },
          "metadata": {},
          "execution_count": 40
        }
      ]
    },
    {
      "cell_type": "code",
      "source": [
        "#from scipy.stats import kruskal\n",
        "\n",
        "K_stat, p = kruskal(Spray, No_Spray)\n",
        "\n",
        "print(K_stat, p)\n",
        "if p > 0.05:\n",
        "  print('Same distribution (fail to reject H0)')\n",
        "else:\n",
        "  print('Different distribution (reject H0)')"
      ],
      "metadata": {
        "colab": {
          "base_uri": "https://localhost:8080/"
        },
        "outputId": "a80eaba2-e05b-4e42-a75b-69d399543e81",
        "id": "buITimocPodq"
      },
      "execution_count": null,
      "outputs": [
        {
          "output_type": "stream",
          "name": "stdout",
          "text": [
            "3.435700882886162 0.06380150864629414\n",
            "Same distribution (fail to reject H0)\n"
          ]
        }
      ]
    },
    {
      "cell_type": "markdown",
      "source": [
        "###RQ3: Is there any evidence to suggest that the impact of the androstadienone spray on attractiveness effect will be enhanced by the pick-up approach?"
      ],
      "metadata": {
        "id": "yGsCXLYDjAYF"
      }
    },
    {
      "cell_type": "markdown",
      "source": [
        "####What is your dependent variable?"
      ],
      "metadata": {
        "id": "834_PSotjVRX"
      }
    },
    {
      "cell_type": "code",
      "source": [
        "# The dependent variable is the receptivity value"
      ],
      "metadata": {
        "id": "JhQ6IgI7jCqc"
      },
      "execution_count": null,
      "outputs": []
    },
    {
      "cell_type": "markdown",
      "source": [
        "####What is(are) your independent variable(s)?"
      ],
      "metadata": {
        "id": "8uVWrTo0jVRY"
      }
    },
    {
      "cell_type": "code",
      "source": [
        "# This time we got two dependent variable: Scent and PickUp approach, both are dicothomous variables"
      ],
      "metadata": {
        "id": "dB1Qg934jVRY"
      },
      "execution_count": null,
      "outputs": []
    },
    {
      "cell_type": "markdown",
      "source": [
        "####Is there independence of observations?"
      ],
      "metadata": {
        "id": "bTLf3XO6jVRZ"
      }
    },
    {
      "cell_type": "code",
      "source": [
        "# Yes, there is independence of observations because one of the independent factors does not interfere with the other.\n",
        "# The independent factors does not interfere with each other, only with the dependent factor"
      ],
      "metadata": {
        "id": "bGKnqErCjVRZ"
      },
      "execution_count": null,
      "outputs": []
    },
    {
      "cell_type": "markdown",
      "source": [
        "####Are there any significant outliers?"
      ],
      "metadata": {
        "id": "9YUlNwFdjVRZ"
      }
    },
    {
      "cell_type": "code",
      "source": [
        "# Four combinations to analyze\n",
        "\n",
        "CD_scent = df[(df['Scent'] == 1) & (df['PickUp'] == 1)]['Receptivity']\n",
        "\n",
        "CD_NOscent = df[(df['Scent'] == 0) & (df['PickUp'] == 1)]['Receptivity']\n",
        "\n",
        "DD_scent = df[(df['Scent'] == 1) & (df['PickUp'] == 0)]['Receptivity']\n",
        "\n",
        "DD_NOscent = df[(df['Scent'] == 0) & (df['PickUp'] == 0)]['Receptivity']\n"
      ],
      "metadata": {
        "id": "VpB49omAjVRa"
      },
      "execution_count": null,
      "outputs": []
    },
    {
      "cell_type": "code",
      "source": [
        "fig, (ax1, ax2, ax3, ax4) = plt.subplots(1, 4, figsize=(20,4), sharex='row')\n",
        "sns.boxplot(x= CD_scent, ax=ax1)\n",
        "sns.boxplot(x= CD_NOscent, ax=ax2)\n",
        "sns.boxplot(x= DD_scent, ax=ax3)\n",
        "sns.boxplot(x= DD_NOscent, ax=ax4)\n",
        "ax1.set_title('Cute-Direct with Scent')\n",
        "ax2.set_title('Cute-Direct without Scent')\n",
        "ax3.set_title('Direct-Direct with Scent')\n",
        "ax4.set_title('Direct-Direct without Scent')\n",
        "plt.show()"
      ],
      "metadata": {
        "colab": {
          "base_uri": "https://localhost:8080/",
          "height": 295
        },
        "id": "1pXsEtw3TEts",
        "outputId": "326a910e-b92a-467c-f1bd-63cd36a417f5"
      },
      "execution_count": null,
      "outputs": [
        {
          "output_type": "display_data",
          "data": {
            "text/plain": [
              "<Figure size 1440x288 with 4 Axes>"
            ],
            "image/png": "[encoded data removed]"
          },
          "metadata": {
            "needs_background": "light"
          }
        }
      ]
    },
    {
      "cell_type": "markdown",
      "source": [
        "####How is your dependent variable distributed in each cell?"
      ],
      "metadata": {
        "id": "NtuFf9TMjVRa"
      }
    },
    {
      "cell_type": "code",
      "source": [
        "#Comparing distribution in receptivity values between different groups, with and without feromone spray, cute-direct or direct-direct pickup\n",
        "\n",
        "fig, ((ax1, ax2), (ax3, ax4)) = plt.subplots(2, 2, figsize=(16,16), sharex='row', sharey='col')\n",
        "\n",
        "sns.histplot(CD_scent, kde= False, stat= 'density', bins= 10, ax= ax1)\n",
        "sns.kdeplot(CD_scent, ax= ax1, color= 'crimson')\n",
        "ax1.axvline(CD_scent.mean(), ls='--', color='crimson')\n",
        "ax1.set_title('Cute-Direct with Scent')\n",
        "\n",
        "sns.histplot(CD_NOscent, kde= False, stat= 'density', bins= 10, ax= ax2)\n",
        "sns.kdeplot(CD_NOscent, ax= ax2, color= 'crimson')\n",
        "ax2.axvline(CD_NOscent.mean(), ls='--', color='crimson')\n",
        "ax2.get_xticklabels(ax1)\n",
        "ax2.set_title('Cute-Direct NO Scent')\n",
        "\n",
        "sns.histplot(DD_scent, kde= False, stat= 'density', bins= 10, ax= ax3)\n",
        "sns.kdeplot(DD_scent, ax= ax3, color= 'crimson')\n",
        "ax3.axvline(DD_scent.mean(), ls='--', color='crimson')\n",
        "ax3.set_title('Direct-Direct with Scent')\n",
        "\n",
        "sns.histplot(DD_NOscent, kde= False, stat= 'density', bins= 10, ax= ax4)\n",
        "sns.kdeplot(DD_NOscent, ax= ax4, color= 'crimson')\n",
        "ax4.axvline(DD_NOscent.mean(), ls='--', color='crimson')\n",
        "ax4.set_title('Direct-Direct NO Scent')\n",
        "\n",
        "plt.show()"
      ],
      "metadata": {
        "id": "DYiGSHopjVRa",
        "colab": {
          "base_uri": "https://localhost:8080/",
          "height": 948
        },
        "outputId": "7b82f06e-9efe-48fc-be05-9b9f5f0ffa64"
      },
      "execution_count": null,
      "outputs": [
        {
          "output_type": "display_data",
          "data": {
            "text/plain": [
              "<Figure size 1152x1152 with 4 Axes>"
            ],
            "image/png": "[encoded data removed]"
          },
          "metadata": {
            "needs_background": "light"
          }
        }
      ]
    },
    {
      "cell_type": "markdown",
      "source": [
        "####Do you need to perform any transformations?"
      ],
      "metadata": {
        "id": "udtq5i-pjVRa"
      }
    },
    {
      "cell_type": "code",
      "source": [
        "# Test normality of each distribution\n",
        "\n",
        "print(f'Cute-Direct with Scent {shapiro(CD_scent)}')\n",
        "print(f'Cute-Direct NO Scent {shapiro(CD_NOscent)}')\n",
        "print(f'Direct-Direct with Scent {shapiro(DD_scent)}')\n",
        "print(f'Direct-Direct NO Scent {shapiro(DD_NOscent)}')\n",
        "\n",
        "# only one of the values of Shapiro-Wilk test (CD_sent = 0.01) is less than 0.05, and can be considered as non normal distribution and can be transformed to fit a normal distribution\n",
        "# The rest were considered normal (p-value > 0.05)"
      ],
      "metadata": {
        "id": "CgwXtzJOjVRb",
        "colab": {
          "base_uri": "https://localhost:8080/"
        },
        "outputId": "0945ce6b-1357-483a-9c30-af6f70307843"
      },
      "execution_count": null,
      "outputs": [
        {
          "output_type": "stream",
          "name": "stdout",
          "text": [
            "Cute-Direct with Scent ShapiroResult(statistic=0.9471511840820312, pvalue=0.01146571896970272)\n",
            "Cute-Direct NO Scent ShapiroResult(statistic=0.9623874425888062, pvalue=0.06159663200378418)\n",
            "Direct-Direct with Scent ShapiroResult(statistic=0.9590379595756531, pvalue=0.11979644000530243)\n",
            "Direct-Direct NO Scent ShapiroResult(statistic=0.965967059135437, pvalue=0.43547606468200684)\n"
          ]
        }
      ]
    },
    {
      "cell_type": "code",
      "source": [
        "# Apllying box cox transformation in the first distribution, re testing and re ploting\n",
        "\n",
        "from scipy.stats import boxcox\n",
        "\n",
        "CD_scent_transf, CD_scent_lambda = stats.boxcox(CD_scent)\n",
        "CD_NOscent_transf, CD_NOscent_lambda = stats.boxcox(CD_NOscent)\n",
        "DD_scent_transf, DD_scent_lambda = stats.boxcox(DD_scent)\n",
        "DD_NOscent_transf, DD_NOscent_lambda = stats.boxcox(DD_NOscent)\n",
        "\n",
        "\n",
        "#plot the distribution of the transformed data values\n",
        "sns.kdeplot(CD_scent_transf)\n",
        "\n",
        "# test of normality\n",
        "display(shapiro(CD_scent_transf))\n",
        "display(shapiro(CD_NOscent_transf))\n",
        "\n",
        "display(shapiro(DD_scent_transf))\n",
        "display(shapiro(DD_NOscent_transf))\n",
        "\n",
        "display(CD_scent_lambda)\n",
        "\n",
        "# As the transformed value of cute-direct shapiro test is 0.06, which is more than the threshold, we fail to reject the null hypothesis\n",
        "# So the data becomes normally distributed after box-cox transformation\n"
      ],
      "metadata": {
        "colab": {
          "base_uri": "https://localhost:8080/",
          "height": 357
        },
        "id": "HGHBUrWYicEs",
        "outputId": "1c691232-f22d-4378-f233-a650b9f46145"
      },
      "execution_count": null,
      "outputs": [
        {
          "output_type": "display_data",
          "data": {
            "text/plain": [
              "ShapiroResult(statistic=0.9515278339385986, pvalue=0.018387820571660995)"
            ]
          },
          "metadata": {}
        },
        {
          "output_type": "display_data",
          "data": {
            "text/plain": [
              "ShapiroResult(statistic=0.9629483819007874, pvalue=0.06563398241996765)"
            ]
          },
          "metadata": {}
        },
        {
          "output_type": "display_data",
          "data": {
            "text/plain": [
              "ShapiroResult(statistic=0.9602455496788025, pvalue=0.13292494416236877)"
            ]
          },
          "metadata": {}
        },
        {
          "output_type": "display_data",
          "data": {
            "text/plain": [
              "ShapiroResult(statistic=0.9682294130325317, pvalue=0.491936057806015)"
            ]
          },
          "metadata": {}
        },
        {
          "output_type": "display_data",
          "data": {
            "text/plain": [
              "0.18625308627906184"
            ]
          },
          "metadata": {}
        },
        {
          "output_type": "display_data",
          "data": {
            "text/plain": [
              "<Figure size 432x288 with 1 Axes>"
            ],
            "image/png": "[encoded data removed]"
          },
          "metadata": {
            "needs_background": "light"
          }
        }
      ]
    },
    {
      "cell_type": "markdown",
      "source": [
        "####Is there homogeneity or heterogeneity of variance?"
      ],
      "metadata": {
        "id": "G9X791nXjVRb"
      }
    },
    {
      "cell_type": "code",
      "source": [
        "# Performing Levene's test for homogeneity of variance between one group (Spray) against the other group (NO Spray)\n",
        "\n",
        "stats.levene(CD_scent_transf, CD_NOscent_transf, DD_scent_transf, DD_NOscent_transf, center='mean')\n",
        "#stats.levene(CD_scent_transf, CD_NOscent_transf, DD_scent_transf, DD_NOscent_transf, center='median')\n",
        "\n",
        "# Since the P-value of levene's test is <0.001, which is less than the threshold, we reject the null hipothesys,\n",
        "# so we have sufficient evidence to say that at least one pair of groups has significantly different variance in Receptivity\n",
        "\n",
        "# There is heterogeneity of variance"
      ],
      "metadata": {
        "id": "nU00tUDOjVRd",
        "colab": {
          "base_uri": "https://localhost:8080/"
        },
        "outputId": "961c4b7c-dee0-48a8-9f95-831b29c58d9c"
      },
      "execution_count": null,
      "outputs": [
        {
          "output_type": "execute_result",
          "data": {
            "text/plain": [
              "LeveneResult(statistic=38.378830737987904, pvalue=1.9485813937661495e-19)"
            ]
          },
          "metadata": {},
          "execution_count": 49
        }
      ]
    },
    {
      "cell_type": "code",
      "source": [
        "print(CD_scent.mean(), CD_NOscent.mean(), DD_scent.mean(), DD_NOscent.mean())\n",
        "\n",
        "print(CD_scent.std(), CD_NOscent.std(), DD_scent.std(), DD_NOscent.std())"
      ],
      "metadata": {
        "colab": {
          "base_uri": "https://localhost:8080/"
        },
        "id": "RRPx7jaujWzM",
        "outputId": "d11e636a-6adf-4efa-c561-a79232d86c0e"
      },
      "execution_count": null,
      "outputs": [
        {
          "output_type": "stream",
          "name": "stdout",
          "text": [
            "4.037496666666667 3.689371333333334 3.6105927272727283 3.7187780000000004\n",
            "0.5696362115723186 0.3402491541202535 0.5642830990976717 0.5537967456187614\n"
          ]
        }
      ]
    },
    {
      "cell_type": "code",
      "source": [
        "print(CD_scent.var(), CD_NOscent.var(), DD_scent.var(), DD_NOscent.var())"
      ],
      "metadata": {
        "colab": {
          "base_uri": "https://localhost:8080/"
        },
        "id": "AO4LO0m_Zjyb",
        "outputId": "31eca352-4cab-440e-88c4-9c1510d38840"
      },
      "execution_count": null,
      "outputs": [
        {
          "output_type": "stream",
          "name": "stdout",
          "text": [
            "0.32448541353446325 0.11576948687954804 0.31841541592727274 0.3066908354579311\n"
          ]
        }
      ]
    },
    {
      "cell_type": "markdown",
      "source": [
        "####Is there any interaction between the two factors?"
      ],
      "metadata": {
        "id": "8rFiDZmZjVRd"
      }
    },
    {
      "cell_type": "code",
      "source": [
        "K_stats, p = kruskal(CD_scent, CD_NOscent, DD_scent, DD_NOscent)\n",
        "\n",
        "print(K_stat, p)\n",
        "if p > 0.05:\n",
        "  print('Same distribution (fail to reject H0)')\n",
        "else:\n",
        "  print('Different distribution (reject H0)')"
      ],
      "metadata": {
        "colab": {
          "base_uri": "https://localhost:8080/"
        },
        "id": "rQmk-T_STbGY",
        "outputId": "10b14c2c-eb8c-4ed5-8646-9995e286f196"
      },
      "execution_count": null,
      "outputs": [
        {
          "output_type": "stream",
          "name": "stdout",
          "text": [
            "3.435700882886162 0.001075086747386284\n",
            "Different distribution (reject H0)\n"
          ]
        }
      ]
    },
    {
      "cell_type": "code",
      "source": [
        "# performing post hoc test Dunn\n",
        "!pip install scikit-posthocs\n",
        "import scikit_posthocs as sp\n"
      ],
      "metadata": {
        "id": "9wolI3V0UYxF"
      },
      "execution_count": null,
      "outputs": []
    },
    {
      "cell_type": "code",
      "source": [
        "pValues= sp.posthoc_dunn([CD_scent, CD_NOscent, DD_scent, DD_NOscent], p_adjust= 'bonferroni')\n",
        "\n",
        "print(pValues)"
      ],
      "metadata": {
        "colab": {
          "base_uri": "https://localhost:8080/"
        },
        "id": "s5s11hb0Vc3H",
        "outputId": "96f19946-1ad2-429e-cdb6-ea92cfdb41cf"
      },
      "execution_count": null,
      "outputs": [
        {
          "output_type": "stream",
          "name": "stdout",
          "text": [
            "          1         2         3         4\n",
            "1  1.000000  0.009983  0.002236  0.084636\n",
            "2  0.009983  1.000000  1.000000  1.000000\n",
            "3  0.002236  1.000000  1.000000  1.000000\n",
            "4  0.084636  1.000000  1.000000  1.000000\n"
          ]
        }
      ]
    },
    {
      "cell_type": "code",
      "source": [
        "pValues > 0.05"
      ],
      "metadata": {
        "colab": {
          "base_uri": "https://localhost:8080/",
          "height": 175
        },
        "id": "xnqj0azOVsQD",
        "outputId": "2cef1ca4-5bf7-4989-e7f7-2b5d2853912a"
      },
      "execution_count": null,
      "outputs": [
        {
          "output_type": "execute_result",
          "data": {
            "text/plain": [
              "       1      2      3     4\n",
              "1   True  False  False  True\n",
              "2  False   True   True  True\n",
              "3  False   True   True  True\n",
              "4   True   True   True  True"
            ],
            "text/html": [
              "\n",
              "  <div id=\"df-45b0f654-e23c-46f9-8007-a7ee186d1a2d\">\n",
              "    <div class=\"colab-df-container\">\n",
              "      <div>\n",
              "<style scoped>\n",
              "    .dataframe tbody tr th:only-of-type {\n",
              "        vertical-align: middle;\n",
              "    }\n",
              "\n",
              "    .dataframe tbody tr th {\n",
              "        vertical-align: top;\n",
              "    }\n",
              "\n",
              "    .dataframe thead th {\n",
              "        text-align: right;\n",
              "    }\n",
              "</style>\n",
              "<table border=\"1\" class=\"dataframe\">\n",
              "  <thead>\n",
              "    <tr style=\"text-align: right;\">\n",
              "      <th></th>\n",
              "      <th>1</th>\n",
              "      <th>2</th>\n",
              "      <th>3</th>\n",
              "      <th>4</th>\n",
              "    </tr>\n",
              "  </thead>\n",
              "  <tbody>\n",
              "    <tr>\n",
              "      <th>1</th>\n",
              "      <td>True</td>\n",
              "      <td>False</td>\n",
              "      <td>False</td>\n",
              "      <td>True</td>\n",
              "    </tr>\n",
              "    <tr>\n",
              "      <th>2</th>\n",
              "      <td>False</td>\n",
              "      <td>True</td>\n",
              "      <td>True</td>\n",
              "      <td>True</td>\n",
              "    </tr>\n",
              "    <tr>\n",
              "      <th>3</th>\n",
              "      <td>False</td>\n",
              "      <td>True</td>\n",
              "      <td>True</td>\n",
              "      <td>True</td>\n",
              "    </tr>\n",
              "    <tr>\n",
              "      <th>4</th>\n",
              "      <td>True</td>\n",
              "      <td>True</td>\n",
              "      <td>True</td>\n",
              "      <td>True</td>\n",
              "    </tr>\n",
              "  </tbody>\n",
              "</table>\n",
              "</div>\n",
              "      <button class=\"colab-df-convert\" onclick=\"convertToInteractive('df-45b0f654-e23c-46f9-8007-a7ee186d1a2d')\"\n",
              "              title=\"Convert this dataframe to an interactive table.\"\n",
              "              style=\"display:none;\">\n",
              "        \n",
              "  <svg xmlns=\"http://www.w3.org/2000/svg\" height=\"24px\"viewBox=\"0 0 24 24\"\n",
              "       width=\"24px\">\n",
              "    <path d=\"M0 0h24v24H0V0z\" fill=\"none\"/>\n",
              "    <path d=\"M18.56 5.44l.94 2.06.94-2.06 2.06-.94-2.06-.94-.94-2.06-.94 2.06-2.06.94zm-11 1L8.5 8.5l.94-2.06 2.06-.94-2.06-.94L8.5 2.5l-.94 2.06-2.06.94zm10 10l.94 2.06.94-2.06 2.06-.94-2.06-.94-.94-2.06-.94 2.06-2.06.94z\"/><path d=\"M17.41 7.96l-1.37-1.37c-.4-.4-.92-.59-1.43-.59-.52 0-1.04.2-1.43.59L10.3 9.45l-7.72 7.72c-.78.78-.78 2.05 0 2.83L4 21.41c.39.39.9.59 1.41.59.51 0 1.02-.2 1.41-.59l7.78-7.78 2.81-2.81c.8-.78.8-2.07 0-2.86zM5.41 20L4 18.59l7.72-7.72 1.47 1.35L5.41 20z\"/>\n",
              "  </svg>\n",
              "      </button>\n",
              "      \n",
              "  <style>\n",
              "    .colab-df-container {\n",
              "      display:flex;\n",
              "      flex-wrap:wrap;\n",
              "      gap: 12px;\n",
              "    }\n",
              "\n",
              "    .colab-df-convert {\n",
              "      background-color: #E8F0FE;\n",
              "      border: none;\n",
              "      border-radius: 50%;\n",
              "      cursor: pointer;\n",
              "      display: none;\n",
              "      fill: #1967D2;\n",
              "      height: 32px;\n",
              "      padding: 0 0 0 0;\n",
              "      width: 32px;\n",
              "    }\n",
              "\n",
              "    .colab-df-convert:hover {\n",
              "      background-color: #E2EBFA;\n",
              "      box-shadow: 0px 1px 2px rgba(60, 64, 67, 0.3), 0px 1px 3px 1px rgba(60, 64, 67, 0.15);\n",
              "      fill: #174EA6;\n",
              "    }\n",
              "\n",
              "    [theme=dark] .colab-df-convert {\n",
              "      background-color: #3B4455;\n",
              "      fill: #D2E3FC;\n",
              "    }\n",
              "\n",
              "    [theme=dark] .colab-df-convert:hover {\n",
              "      background-color: #434B5C;\n",
              "      box-shadow: 0px 1px 3px 1px rgba(0, 0, 0, 0.15);\n",
              "      filter: drop-shadow(0px 1px 2px rgba(0, 0, 0, 0.3));\n",
              "      fill: #FFFFFF;\n",
              "    }\n",
              "  </style>\n",
              "\n",
              "      <script>\n",
              "        const buttonEl =\n",
              "          document.querySelector('#df-45b0f654-e23c-46f9-8007-a7ee186d1a2d button.colab-df-convert');\n",
              "        buttonEl.style.display =\n",
              "          google.colab.kernel.accessAllowed ? 'block' : 'none';\n",
              "\n",
              "        async function convertToInteractive(key) {\n",
              "          const element = document.querySelector('#df-45b0f654-e23c-46f9-8007-a7ee186d1a2d');\n",
              "          const dataTable =\n",
              "            await google.colab.kernel.invokeFunction('convertToInteractive',\n",
              "                                                     [key], {});\n",
              "          if (!dataTable) return;\n",
              "\n",
              "          const docLinkHtml = 'Like what you see? Visit the ' +\n",
              "            '<a target=\"_blank\" href=https://colab.research.google.com/notebooks/data_table.ipynb>data table notebook</a>'\n",
              "            + ' to learn more about interactive tables.';\n",
              "          element.innerHTML = '';\n",
              "          dataTable['output_type'] = 'display_data';\n",
              "          await google.colab.output.renderOutput(dataTable, element);\n",
              "          const docLink = document.createElement('div');\n",
              "          docLink.innerHTML = docLinkHtml;\n",
              "          element.appendChild(docLink);\n",
              "        }\n",
              "      </script>\n",
              "    </div>\n",
              "  </div>\n",
              "  "
            ]
          },
          "metadata": {},
          "execution_count": 78
        }
      ]
    },
    {
      "cell_type": "code",
      "source": [
        "# Performing a multifactorial ANOVA\n",
        "\n",
        "import statsmodels.api as sm\n",
        "from statsmodels.formula.api import ols\n",
        "\n",
        "model = ols('Receptivity ~ C(PickUp) + C(Scent) + C(PickUp) : C(Scent)', data= df).fit()\n",
        "anova_table = sm.stats.anova_lm(model, typ= 2)\n",
        "\n",
        "anova_table"
      ],
      "metadata": {
        "id": "rxmXL5cLjVRe",
        "colab": {
          "base_uri": "https://localhost:8080/",
          "height": 175
        },
        "outputId": "e93c400b-a2a6-4534-cb08-ed7e882ca587"
      },
      "execution_count": null,
      "outputs": [
        {
          "output_type": "execute_result",
          "data": {
            "text/plain": [
              "                       sum_sq     df         F    PR(>F)\n",
              "C(PickUp)            2.314331    1.0  9.055073  0.002975\n",
              "C(Scent)             1.515279    1.0  5.928695  0.015820\n",
              "C(PickUp):C(Scent)   2.329234    1.0  9.113383  0.002886\n",
              "Residual            48.560936  190.0       NaN       NaN"
            ],
            "text/html": [
              "\n",
              "  <div id=\"df-e723f4f6-ed94-439e-882c-aadbd7f6ae04\">\n",
              "    <div class=\"colab-df-container\">\n",
              "      <div>\n",
              "<style scoped>\n",
              "    .dataframe tbody tr th:only-of-type {\n",
              "        vertical-align: middle;\n",
              "    }\n",
              "\n",
              "    .dataframe tbody tr th {\n",
              "        vertical-align: top;\n",
              "    }\n",
              "\n",
              "    .dataframe thead th {\n",
              "        text-align: right;\n",
              "    }\n",
              "</style>\n",
              "<table border=\"1\" class=\"dataframe\">\n",
              "  <thead>\n",
              "    <tr style=\"text-align: right;\">\n",
              "      <th></th>\n",
              "      <th>sum_sq</th>\n",
              "      <th>df</th>\n",
              "      <th>F</th>\n",
              "      <th>PR(&gt;F)</th>\n",
              "    </tr>\n",
              "  </thead>\n",
              "  <tbody>\n",
              "    <tr>\n",
              "      <th>C(PickUp)</th>\n",
              "      <td>2.314331</td>\n",
              "      <td>1.0</td>\n",
              "      <td>9.055073</td>\n",
              "      <td>0.002975</td>\n",
              "    </tr>\n",
              "    <tr>\n",
              "      <th>C(Scent)</th>\n",
              "      <td>1.515279</td>\n",
              "      <td>1.0</td>\n",
              "      <td>5.928695</td>\n",
              "      <td>0.015820</td>\n",
              "    </tr>\n",
              "    <tr>\n",
              "      <th>C(PickUp):C(Scent)</th>\n",
              "      <td>2.329234</td>\n",
              "      <td>1.0</td>\n",
              "      <td>9.113383</td>\n",
              "      <td>0.002886</td>\n",
              "    </tr>\n",
              "    <tr>\n",
              "      <th>Residual</th>\n",
              "      <td>48.560936</td>\n",
              "      <td>190.0</td>\n",
              "      <td>NaN</td>\n",
              "      <td>NaN</td>\n",
              "    </tr>\n",
              "  </tbody>\n",
              "</table>\n",
              "</div>\n",
              "      <button class=\"colab-df-convert\" onclick=\"convertToInteractive('df-e723f4f6-ed94-439e-882c-aadbd7f6ae04')\"\n",
              "              title=\"Convert this dataframe to an interactive table.\"\n",
              "              style=\"display:none;\">\n",
              "        \n",
              "  <svg xmlns=\"http://www.w3.org/2000/svg\" height=\"24px\"viewBox=\"0 0 24 24\"\n",
              "       width=\"24px\">\n",
              "    <path d=\"M0 0h24v24H0V0z\" fill=\"none\"/>\n",
              "    <path d=\"M18.56 5.44l.94 2.06.94-2.06 2.06-.94-2.06-.94-.94-2.06-.94 2.06-2.06.94zm-11 1L8.5 8.5l.94-2.06 2.06-.94-2.06-.94L8.5 2.5l-.94 2.06-2.06.94zm10 10l.94 2.06.94-2.06 2.06-.94-2.06-.94-.94-2.06-.94 2.06-2.06.94z\"/><path d=\"M17.41 7.96l-1.37-1.37c-.4-.4-.92-.59-1.43-.59-.52 0-1.04.2-1.43.59L10.3 9.45l-7.72 7.72c-.78.78-.78 2.05 0 2.83L4 21.41c.39.39.9.59 1.41.59.51 0 1.02-.2 1.41-.59l7.78-7.78 2.81-2.81c.8-.78.8-2.07 0-2.86zM5.41 20L4 18.59l7.72-7.72 1.47 1.35L5.41 20z\"/>\n",
              "  </svg>\n",
              "      </button>\n",
              "      \n",
              "  <style>\n",
              "    .colab-df-container {\n",
              "      display:flex;\n",
              "      flex-wrap:wrap;\n",
              "      gap: 12px;\n",
              "    }\n",
              "\n",
              "    .colab-df-convert {\n",
              "      background-color: #E8F0FE;\n",
              "      border: none;\n",
              "      border-radius: 50%;\n",
              "      cursor: pointer;\n",
              "      display: none;\n",
              "      fill: #1967D2;\n",
              "      height: 32px;\n",
              "      padding: 0 0 0 0;\n",
              "      width: 32px;\n",
              "    }\n",
              "\n",
              "    .colab-df-convert:hover {\n",
              "      background-color: #E2EBFA;\n",
              "      box-shadow: 0px 1px 2px rgba(60, 64, 67, 0.3), 0px 1px 3px 1px rgba(60, 64, 67, 0.15);\n",
              "      fill: #174EA6;\n",
              "    }\n",
              "\n",
              "    [theme=dark] .colab-df-convert {\n",
              "      background-color: #3B4455;\n",
              "      fill: #D2E3FC;\n",
              "    }\n",
              "\n",
              "    [theme=dark] .colab-df-convert:hover {\n",
              "      background-color: #434B5C;\n",
              "      box-shadow: 0px 1px 3px 1px rgba(0, 0, 0, 0.15);\n",
              "      filter: drop-shadow(0px 1px 2px rgba(0, 0, 0, 0.3));\n",
              "      fill: #FFFFFF;\n",
              "    }\n",
              "  </style>\n",
              "\n",
              "      <script>\n",
              "        const buttonEl =\n",
              "          document.querySelector('#df-e723f4f6-ed94-439e-882c-aadbd7f6ae04 button.colab-df-convert');\n",
              "        buttonEl.style.display =\n",
              "          google.colab.kernel.accessAllowed ? 'block' : 'none';\n",
              "\n",
              "        async function convertToInteractive(key) {\n",
              "          const element = document.querySelector('#df-e723f4f6-ed94-439e-882c-aadbd7f6ae04');\n",
              "          const dataTable =\n",
              "            await google.colab.kernel.invokeFunction('convertToInteractive',\n",
              "                                                     [key], {});\n",
              "          if (!dataTable) return;\n",
              "\n",
              "          const docLinkHtml = 'Like what you see? Visit the ' +\n",
              "            '<a target=\"_blank\" href=https://colab.research.google.com/notebooks/data_table.ipynb>data table notebook</a>'\n",
              "            + ' to learn more about interactive tables.';\n",
              "          element.innerHTML = '';\n",
              "          dataTable['output_type'] = 'display_data';\n",
              "          await google.colab.output.renderOutput(dataTable, element);\n",
              "          const docLink = document.createElement('div');\n",
              "          docLink.innerHTML = docLinkHtml;\n",
              "          element.appendChild(docLink);\n",
              "        }\n",
              "      </script>\n",
              "    </div>\n",
              "  </div>\n",
              "  "
            ]
          },
          "metadata": {},
          "execution_count": 53
        }
      ]
    },
    {
      "cell_type": "markdown",
      "source": [
        "####What is your answer to RQ3? Report on the findings (no less than 200 words). Don’t forget to mention the assumptions. You can use η2 instead of ω2."
      ],
      "metadata": {
        "id": "bLB3TFv4jVRe"
      }
    },
    {
      "cell_type": "markdown",
      "source": [
        "###Answer the main research question by taking the above findings into account (no less than 200 words). Don’t forget to mention the assumptions."
      ],
      "metadata": {
        "id": "UGFUhOMxjVRe"
      }
    },
    {
      "cell_type": "code",
      "source": [
        "h0 = 3.65\n",
        "h1 = 3.86\n",
        "\n",
        "print(h1/h0)"
      ],
      "metadata": {
        "id": "Nxw71AMgjVRf",
        "colab": {
          "base_uri": "https://localhost:8080/"
        },
        "outputId": "a23cd416-a6d4-450e-8322-7f24fafdb79f"
      },
      "execution_count": null,
      "outputs": [
        {
          "output_type": "stream",
          "name": "stdout",
          "text": [
            "1.0575342465753426\n"
          ]
        }
      ]
    },
    {
      "cell_type": "code",
      "source": [],
      "metadata": {
        "id": "mnlJTNtfwiN7"
      },
      "execution_count": null,
      "outputs": []
    }
  ]
}